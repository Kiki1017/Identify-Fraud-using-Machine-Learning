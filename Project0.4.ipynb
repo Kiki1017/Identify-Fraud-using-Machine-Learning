{
 "cells": [
  {
   "cell_type": "code",
   "execution_count": 1,
   "metadata": {
    "collapsed": false,
    "deletable": true,
    "editable": true,
    "hide_input": false
   },
   "outputs": [
    {
     "name": "stderr",
     "output_type": "stream",
     "text": [
      "/home/yannis/anaconda3/lib/python3.6/site-packages/sklearn/cross_validation.py:44: DeprecationWarning: This module was deprecated in version 0.18 in favor of the model_selection module into which all the refactored classes and functions are moved. Also note that the interface of the new CV iterators are different from that of this module. This module will be removed in 0.20.\n",
      "  \"This module will be removed in 0.20.\", DeprecationWarning)\n"
     ]
    }
   ],
   "source": [
    "%matplotlib inline\n",
    "\n",
    "import sys\n",
    "import pickle\n",
    "from tester import test_classifier\n",
    "\n",
    "import numpy as np\n",
    "import pandas as pd\n",
    "import matplotlib.pyplot as plt\n",
    "import seaborn as sns\n",
    "\n",
    "from sklearn import preprocessing\n",
    "from sklearn import svm\n",
    "from sklearn.model_selection import train_test_split\n",
    "from sklearn.decomposition import PCA\n",
    "from sklearn.model_selection import cross_val_score, GridSearchCV\n",
    "from sklearn.feature_selection import SelectPercentile, SelectKBest\n",
    "from sklearn.neighbors import KNeighborsClassifier\n",
    "from sklearn.ensemble import GradientBoostingClassifier, RandomForestClassifier"
   ]
  },
  {
   "cell_type": "markdown",
   "metadata": {
    "deletable": true,
    "editable": true
   },
   "source": [
    "# Understanding the Dataset"
   ]
  },
  {
   "cell_type": "markdown",
   "metadata": {
    "deletable": true,
    "editable": true
   },
   "source": [
    "## Features"
   ]
  },
  {
   "cell_type": "markdown",
   "metadata": {
    "deletable": true,
    "editable": true
   },
   "source": [
    "***\n",
    "**Salary Features**\n",
    "\n",
    "| Payments            | Definitions of Category Groupings                                                                                                                                                                                                                                                                                                                                                                                                |\n",
    "|---------------------|----------------------------------------------------------------------------------------------------------------------------------------------------------------------------------------------------------------------------------------------------------------------------------------------------------------------------------------------------------------------------------------------------------------------------------|\n",
    "| ***Salary***              | Reflects items such as base salary, executive cash allowances, and benefits payments.                                                                                                                                                                                                                                                                                                                                            |\n",
    "| ***Bonus***               | Reflects annual cash incentives paid based upon company performance. Also may include other retention payments.                                                                                                                                                                                                                                                                                                                  |\n",
    "| ***Long Term Incentive*** | Reflects long-term incentive cash payments from various long-term incentive programs designed to tie executive compensation to long-term success as measuredagainst key performance drivers and business objectives over a multi-year period, generally 3 to 5 years.                                                                                                                                                            |\n",
    "| ***Deferred Income***     | Reflects voluntary executive deferrals of salary, annual cash incentives, and long-term cash incentives as well as cash fees deferred by non-employee directorsunder a deferred compensation arrangement. May also reflect deferrals under a stock option or phantom stock unit in lieu of cash arrangement.                                                                                                                     |\n",
    "| ***Deferral Payments***   | Reflects distributions from a deferred compensation arrangement due to termination of employment or due to in-service withdrawals as per plan provisions.                                                                                                                                                                                                                                                                        |\n",
    "| ***Loan Advances***       | Reflects total amount of loan advances, excluding repayments, provided by the Debtor in return for a promise of repayment. In certain instances, the terms of thepromissory notes allow for the option to repay with stock of the company.                                                                                                                                                                                       |\n",
    "| ***Other***               | Reflects items such as payments for severence, consulting services, relocation costs, tax advances and allowances for employees on international assignment (i.e.housing allowances, cost of living allowances, payments under Enron’s Tax Equalization Program, etc.). May also include payments provided with respect toemployment agreements, as well as imputed income amounts for such things as use of corporate aircraft. |\n",
    "| ***Expenses***            | Reflects reimbursements of business expenses. May include fees paid for consulting services.                                                                                                                                                                                                                                                                                                                                     |\n",
    "| ***Director Fees***       | Reflects cash payments and/or value of stock grants made in lieu of cash payments to non-employee directors.                                                                                                                                                                                                                                                                                                                     |\n",
    "| ***Total Payments***      | Sum of the above values                                                                                                                                                                                                                                                                                                                                                                                                         |\n",
    "***"
   ]
  },
  {
   "cell_type": "markdown",
   "metadata": {
    "deletable": true,
    "editable": true
   },
   "source": [
    "**Stock Features**\n",
    "\n",
    "| Stock Value              | Definitions of Category Groupings                                                                                                                                                                                                                                                                                                                                                       |\n",
    "|--------------------------|-----------------------------------------------------------------------------------------------------------------------------------------------------------------------------------------------------------------------------------------------------------------------------------------------------------------------------------------------------------------------------------------|\n",
    "| ***Exercised Stock Options***  | Reflects amounts from exercised stock options which equal the market value in excess of the exercise price on the date the options were exercised either throughcashless (same-day sale), stock swap or cash exercises. The reflected gain may differ from that realized by the insider due to fluctuations in the market price andthe timing of any subsequent sale of the securities. |\n",
    "| ***Restricted Stock***         | Reflects the gross fair market value of shares and accrued dividends (and/or phantom units and dividend equivalents) on the date of release due to lapse of vestingperiods, regardless of whether deferred.                                                                                                                                                                             |\n",
    "| ***Restricted StockDeferred*** | Reflects value of restricted stock voluntarily deferred prior to release under a deferred compensation arrangement.                                                                                                                                                                                                                                                                     |\n",
    "| ***Total Stock Value***        | Sum of the above values                                                                                                                                                                                                                                                                                                                                                                 |\n",
    "***"
   ]
  },
  {
   "cell_type": "markdown",
   "metadata": {
    "deletable": true,
    "editable": true
   },
   "source": [
    "**email features**\n",
    "\n",
    "| Variable                      | Definition                                                                    |\n",
    "|-------------------------------|-------------------------------------------------------------------------------|\n",
    "| ***to messages***             | Total number of emails received (person's inbox)                              |\n",
    "| ***email address***           | Email address of the person                                                   |\n",
    "| ***from poi to this person*** | Number of emails received by POIs                                             |\n",
    "| ***from messages***           | Total number of emails sent by this person                                    |\n",
    "| ***from this person to poi*** | Number of emails sent by this person to a POI.                                |\n",
    "| ***shared receipt with poi*** | Number of emails addressed by someone else to a POI where this person was CC. |"
   ]
  },
  {
   "cell_type": "markdown",
   "metadata": {
    "deletable": true,
    "editable": true
   },
   "source": [
    "## Data Exploration "
   ]
  },
  {
   "cell_type": "code",
   "execution_count": 2,
   "metadata": {
    "collapsed": false,
    "deletable": true,
    "editable": true
   },
   "outputs": [
    {
     "data": {
      "text/plain": [
       "(146, 21)"
      ]
     },
     "execution_count": 2,
     "metadata": {},
     "output_type": "execute_result"
    }
   ],
   "source": [
    "### Load the dictionary containing the dataset\n",
    "with open(\"./final_project_dataset.pkl\", \"rb\") as data_file:\n",
    "    data_init = pickle.load(data_file)\n",
    "\n",
    "#Converting the dataset from a python dictionary to a pandas dataframe\n",
    "data_df = pd.DataFrame.from_dict(data_init, orient='index')\n",
    "data_df.shape"
   ]
  },
  {
   "cell_type": "markdown",
   "metadata": {
    "collapsed": true,
    "deletable": true,
    "editable": true,
    "variables": {
     "persons": "146",
     "variables": "21"
    }
   },
   "source": [
    "The dataset contains information across 21 variables for 146 employees.  \n",
    "\n",
    "Let's see how much information we have for each variable."
   ]
  },
  {
   "cell_type": "code",
   "execution_count": 3,
   "metadata": {
    "collapsed": false,
    "deletable": true,
    "editable": true
   },
   "outputs": [
    {
     "data": {
      "text/html": [
       "<div>\n",
       "<table border=\"1\" class=\"dataframe\">\n",
       "  <thead>\n",
       "    <tr style=\"text-align: right;\">\n",
       "      <th></th>\n",
       "      <th>salary</th>\n",
       "      <th>to_messages</th>\n",
       "      <th>deferral_payments</th>\n",
       "      <th>total_payments</th>\n",
       "      <th>loan_advances</th>\n",
       "      <th>bonus</th>\n",
       "      <th>email_address</th>\n",
       "      <th>restricted_stock_deferred</th>\n",
       "      <th>deferred_income</th>\n",
       "      <th>total_stock_value</th>\n",
       "      <th>...</th>\n",
       "      <th>from_poi_to_this_person</th>\n",
       "      <th>exercised_stock_options</th>\n",
       "      <th>from_messages</th>\n",
       "      <th>other</th>\n",
       "      <th>from_this_person_to_poi</th>\n",
       "      <th>poi</th>\n",
       "      <th>long_term_incentive</th>\n",
       "      <th>shared_receipt_with_poi</th>\n",
       "      <th>restricted_stock</th>\n",
       "      <th>director_fees</th>\n",
       "    </tr>\n",
       "  </thead>\n",
       "  <tbody>\n",
       "    <tr>\n",
       "      <th>ALLEN PHILLIP K</th>\n",
       "      <td>201955</td>\n",
       "      <td>2902</td>\n",
       "      <td>2869717</td>\n",
       "      <td>4484442</td>\n",
       "      <td>NaN</td>\n",
       "      <td>4175000</td>\n",
       "      <td>phillip.allen@enron.com</td>\n",
       "      <td>-126027</td>\n",
       "      <td>-3081055</td>\n",
       "      <td>1729541</td>\n",
       "      <td>...</td>\n",
       "      <td>47</td>\n",
       "      <td>1729541</td>\n",
       "      <td>2195</td>\n",
       "      <td>152</td>\n",
       "      <td>65</td>\n",
       "      <td>False</td>\n",
       "      <td>304805</td>\n",
       "      <td>1407</td>\n",
       "      <td>126027</td>\n",
       "      <td>NaN</td>\n",
       "    </tr>\n",
       "    <tr>\n",
       "      <th>BADUM JAMES P</th>\n",
       "      <td>NaN</td>\n",
       "      <td>NaN</td>\n",
       "      <td>178980</td>\n",
       "      <td>182466</td>\n",
       "      <td>NaN</td>\n",
       "      <td>NaN</td>\n",
       "      <td>NaN</td>\n",
       "      <td>NaN</td>\n",
       "      <td>NaN</td>\n",
       "      <td>257817</td>\n",
       "      <td>...</td>\n",
       "      <td>NaN</td>\n",
       "      <td>257817</td>\n",
       "      <td>NaN</td>\n",
       "      <td>NaN</td>\n",
       "      <td>NaN</td>\n",
       "      <td>False</td>\n",
       "      <td>NaN</td>\n",
       "      <td>NaN</td>\n",
       "      <td>NaN</td>\n",
       "      <td>NaN</td>\n",
       "    </tr>\n",
       "    <tr>\n",
       "      <th>BANNANTINE JAMES M</th>\n",
       "      <td>477</td>\n",
       "      <td>566</td>\n",
       "      <td>NaN</td>\n",
       "      <td>916197</td>\n",
       "      <td>NaN</td>\n",
       "      <td>NaN</td>\n",
       "      <td>james.bannantine@enron.com</td>\n",
       "      <td>-560222</td>\n",
       "      <td>-5104</td>\n",
       "      <td>5243487</td>\n",
       "      <td>...</td>\n",
       "      <td>39</td>\n",
       "      <td>4046157</td>\n",
       "      <td>29</td>\n",
       "      <td>864523</td>\n",
       "      <td>0</td>\n",
       "      <td>False</td>\n",
       "      <td>NaN</td>\n",
       "      <td>465</td>\n",
       "      <td>1757552</td>\n",
       "      <td>NaN</td>\n",
       "    </tr>\n",
       "    <tr>\n",
       "      <th>BAXTER JOHN C</th>\n",
       "      <td>267102</td>\n",
       "      <td>NaN</td>\n",
       "      <td>1295738</td>\n",
       "      <td>5634343</td>\n",
       "      <td>NaN</td>\n",
       "      <td>1200000</td>\n",
       "      <td>NaN</td>\n",
       "      <td>NaN</td>\n",
       "      <td>-1386055</td>\n",
       "      <td>10623258</td>\n",
       "      <td>...</td>\n",
       "      <td>NaN</td>\n",
       "      <td>6680544</td>\n",
       "      <td>NaN</td>\n",
       "      <td>2660303</td>\n",
       "      <td>NaN</td>\n",
       "      <td>False</td>\n",
       "      <td>1586055</td>\n",
       "      <td>NaN</td>\n",
       "      <td>3942714</td>\n",
       "      <td>NaN</td>\n",
       "    </tr>\n",
       "    <tr>\n",
       "      <th>BAY FRANKLIN R</th>\n",
       "      <td>239671</td>\n",
       "      <td>NaN</td>\n",
       "      <td>260455</td>\n",
       "      <td>827696</td>\n",
       "      <td>NaN</td>\n",
       "      <td>400000</td>\n",
       "      <td>frank.bay@enron.com</td>\n",
       "      <td>-82782</td>\n",
       "      <td>-201641</td>\n",
       "      <td>63014</td>\n",
       "      <td>...</td>\n",
       "      <td>NaN</td>\n",
       "      <td>NaN</td>\n",
       "      <td>NaN</td>\n",
       "      <td>69</td>\n",
       "      <td>NaN</td>\n",
       "      <td>False</td>\n",
       "      <td>NaN</td>\n",
       "      <td>NaN</td>\n",
       "      <td>145796</td>\n",
       "      <td>NaN</td>\n",
       "    </tr>\n",
       "  </tbody>\n",
       "</table>\n",
       "<p>5 rows × 21 columns</p>\n",
       "</div>"
      ],
      "text/plain": [
       "                    salary to_messages deferral_payments total_payments  \\\n",
       "ALLEN PHILLIP K     201955        2902           2869717        4484442   \n",
       "BADUM JAMES P          NaN         NaN            178980         182466   \n",
       "BANNANTINE JAMES M     477         566               NaN         916197   \n",
       "BAXTER JOHN C       267102         NaN           1295738        5634343   \n",
       "BAY FRANKLIN R      239671         NaN            260455         827696   \n",
       "\n",
       "                   loan_advances    bonus               email_address  \\\n",
       "ALLEN PHILLIP K              NaN  4175000     phillip.allen@enron.com   \n",
       "BADUM JAMES P                NaN      NaN                         NaN   \n",
       "BANNANTINE JAMES M           NaN      NaN  james.bannantine@enron.com   \n",
       "BAXTER JOHN C                NaN  1200000                         NaN   \n",
       "BAY FRANKLIN R               NaN   400000         frank.bay@enron.com   \n",
       "\n",
       "                   restricted_stock_deferred deferred_income  \\\n",
       "ALLEN PHILLIP K                      -126027        -3081055   \n",
       "BADUM JAMES P                            NaN             NaN   \n",
       "BANNANTINE JAMES M                   -560222           -5104   \n",
       "BAXTER JOHN C                            NaN        -1386055   \n",
       "BAY FRANKLIN R                        -82782         -201641   \n",
       "\n",
       "                   total_stock_value      ...      from_poi_to_this_person  \\\n",
       "ALLEN PHILLIP K              1729541      ...                           47   \n",
       "BADUM JAMES P                 257817      ...                          NaN   \n",
       "BANNANTINE JAMES M           5243487      ...                           39   \n",
       "BAXTER JOHN C               10623258      ...                          NaN   \n",
       "BAY FRANKLIN R                 63014      ...                          NaN   \n",
       "\n",
       "                   exercised_stock_options from_messages    other  \\\n",
       "ALLEN PHILLIP K                    1729541          2195      152   \n",
       "BADUM JAMES P                       257817           NaN      NaN   \n",
       "BANNANTINE JAMES M                 4046157            29   864523   \n",
       "BAXTER JOHN C                      6680544           NaN  2660303   \n",
       "BAY FRANKLIN R                         NaN           NaN       69   \n",
       "\n",
       "                   from_this_person_to_poi    poi long_term_incentive  \\\n",
       "ALLEN PHILLIP K                         65  False              304805   \n",
       "BADUM JAMES P                          NaN  False                 NaN   \n",
       "BANNANTINE JAMES M                       0  False                 NaN   \n",
       "BAXTER JOHN C                          NaN  False             1586055   \n",
       "BAY FRANKLIN R                         NaN  False                 NaN   \n",
       "\n",
       "                   shared_receipt_with_poi restricted_stock director_fees  \n",
       "ALLEN PHILLIP K                       1407           126027           NaN  \n",
       "BADUM JAMES P                          NaN              NaN           NaN  \n",
       "BANNANTINE JAMES M                     465          1757552           NaN  \n",
       "BAXTER JOHN C                          NaN          3942714           NaN  \n",
       "BAY FRANKLIN R                         NaN           145796           NaN  \n",
       "\n",
       "[5 rows x 21 columns]"
      ]
     },
     "execution_count": 3,
     "metadata": {},
     "output_type": "execute_result"
    }
   ],
   "source": [
    "data_df.head()"
   ]
  },
  {
   "cell_type": "markdown",
   "metadata": {
    "deletable": true,
    "editable": true
   },
   "source": [
    "There are some NaNs in the dataset. Let's see how much info we have on each feature."
   ]
  },
  {
   "cell_type": "code",
   "execution_count": 4,
   "metadata": {
    "collapsed": false,
    "deletable": true,
    "editable": true
   },
   "outputs": [
    {
     "data": {
      "text/plain": [
       "salary                       146\n",
       "to_messages                  146\n",
       "deferral_payments            146\n",
       "total_payments               146\n",
       "loan_advances                146\n",
       "bonus                        146\n",
       "email_address                146\n",
       "restricted_stock_deferred    146\n",
       "deferred_income              146\n",
       "total_stock_value            146\n",
       "expenses                     146\n",
       "from_poi_to_this_person      146\n",
       "exercised_stock_options      146\n",
       "from_messages                146\n",
       "other                        146\n",
       "from_this_person_to_poi      146\n",
       "poi                          146\n",
       "long_term_incentive          146\n",
       "shared_receipt_with_poi      146\n",
       "restricted_stock             146\n",
       "director_fees                146\n",
       "dtype: int64"
      ]
     },
     "execution_count": 4,
     "metadata": {},
     "output_type": "execute_result"
    }
   ],
   "source": [
    "data_df.count()"
   ]
  },
  {
   "cell_type": "markdown",
   "metadata": {
    "deletable": true,
    "editable": true
   },
   "source": [
    "It seems that the NaNs are actually strings. I will transform them to NumPy's NaNs so i can count the actual data."
   ]
  },
  {
   "cell_type": "code",
   "execution_count": 5,
   "metadata": {
    "collapsed": false,
    "deletable": true,
    "editable": true
   },
   "outputs": [],
   "source": [
    "data_df.replace(to_replace='NaN', value=np.nan, inplace=True)"
   ]
  },
  {
   "cell_type": "code",
   "execution_count": 6,
   "metadata": {
    "collapsed": false,
    "deletable": true,
    "editable": true,
    "scrolled": true
   },
   "outputs": [
    {
     "data": {
      "text/plain": [
       "salary                        95\n",
       "to_messages                   86\n",
       "deferral_payments             39\n",
       "total_payments               125\n",
       "loan_advances                  4\n",
       "bonus                         82\n",
       "email_address                111\n",
       "restricted_stock_deferred     18\n",
       "deferred_income               49\n",
       "total_stock_value            126\n",
       "expenses                      95\n",
       "from_poi_to_this_person       86\n",
       "exercised_stock_options      102\n",
       "from_messages                 86\n",
       "other                         93\n",
       "from_this_person_to_poi       86\n",
       "poi                          146\n",
       "long_term_incentive           66\n",
       "shared_receipt_with_poi       86\n",
       "restricted_stock             110\n",
       "director_fees                 17\n",
       "dtype: int64"
      ]
     },
     "execution_count": 6,
     "metadata": {},
     "output_type": "execute_result"
    }
   ],
   "source": [
    "data_df.count()"
   ]
  },
  {
   "cell_type": "markdown",
   "metadata": {
    "deletable": true,
    "editable": true
   },
   "source": [
    "We can see that there are some variables like *Total Payments* and *Total Stock Value* that we have values for most of the employees in the dataset but some others like *Loan Advances* and *Director Fees* that we have information for too few employees.  \n",
    "\n",
    "By paying attention to [Payments to Insiders statement](https://github.com/udacity/ud120-projects/blob/master/final_project/enron61702insiderpay.pdf), we can see that the values are summed both horizontally and vertically. This means that wherever there isn't a value it doesn't mean that we don't know the number but that the number is \"0\". Also since on the email fields there is not any \"0\" value, I assume also that a missing value means \"0\" emails.  \n",
    "Based on this, I will replace all the NaN values on numerical fields with \"0\"."
   ]
  },
  {
   "cell_type": "code",
   "execution_count": 7,
   "metadata": {
    "collapsed": false,
    "deletable": true,
    "editable": true
   },
   "outputs": [
    {
     "data": {
      "text/plain": [
       "salary                       float64\n",
       "to_messages                  float64\n",
       "deferral_payments            float64\n",
       "total_payments               float64\n",
       "loan_advances                float64\n",
       "bonus                        float64\n",
       "email_address                 object\n",
       "restricted_stock_deferred    float64\n",
       "deferred_income              float64\n",
       "total_stock_value            float64\n",
       "expenses                     float64\n",
       "from_poi_to_this_person      float64\n",
       "exercised_stock_options      float64\n",
       "from_messages                float64\n",
       "other                        float64\n",
       "from_this_person_to_poi      float64\n",
       "poi                             bool\n",
       "long_term_incentive          float64\n",
       "shared_receipt_with_poi      float64\n",
       "restricted_stock             float64\n",
       "director_fees                float64\n",
       "dtype: object"
      ]
     },
     "execution_count": 7,
     "metadata": {},
     "output_type": "execute_result"
    }
   ],
   "source": [
    "data_df.dtypes"
   ]
  },
  {
   "cell_type": "code",
   "execution_count": 8,
   "metadata": {
    "collapsed": true,
    "deletable": true,
    "editable": true
   },
   "outputs": [],
   "source": [
    "data_df.replace(to_replace=np.nan, value=0, inplace=True)\n",
    "data_df.email_address.replace(to_replace=0, value=np.nan, inplace=True)"
   ]
  },
  {
   "cell_type": "markdown",
   "metadata": {
    "deletable": true,
    "editable": true
   },
   "source": [
    "## Outlier Investigation"
   ]
  },
  {
   "cell_type": "markdown",
   "metadata": {
    "deletable": true,
    "editable": true
   },
   "source": [
    "You may notice that there are two aggregated features in the dataset:\n",
    "\n",
    "* Total Payments\n",
    "* Total Stock Value\n",
    "\n",
    "For these two features we have also the most information so initially, I will use these two features for outliers investigation."
   ]
  },
  {
   "cell_type": "code",
   "execution_count": 9,
   "metadata": {
    "collapsed": false,
    "deletable": true,
    "editable": true
   },
   "outputs": [
    {
     "data": {
      "text/plain": [
       "<seaborn.axisgrid.JointGrid at 0x7f7516261c88>"
      ]
     },
     "execution_count": 9,
     "metadata": {},
     "output_type": "execute_result"
    },
    {
     "data": {
      "image/png": "[encoded data removed]",
      "text/plain": [
       "<matplotlib.figure.Figure at 0x7f7515d77358>"
      ]
     },
     "metadata": {},
     "output_type": "display_data"
    }
   ],
   "source": [
    "sns.jointplot(x=\"total_payments\", y=\"total_stock_value\", data=data_df)"
   ]
  },
  {
   "cell_type": "markdown",
   "metadata": {
    "deletable": true,
    "editable": true
   },
   "source": [
    "We can see two datapoints very far from the rest."
   ]
  },
  {
   "cell_type": "code",
   "execution_count": 10,
   "metadata": {
    "collapsed": false,
    "deletable": true,
    "editable": true
   },
   "outputs": [
    {
     "data": {
      "text/plain": [
       "TOTAL            309886585.0\n",
       "LAY KENNETH L    103559793.0\n",
       "Name: total_payments, dtype: float64"
      ]
     },
     "execution_count": 10,
     "metadata": {},
     "output_type": "execute_result"
    }
   ],
   "source": [
    "data_df.total_payments.nlargest(2)"
   ]
  },
  {
   "cell_type": "markdown",
   "metadata": {
    "deletable": true,
    "editable": true
   },
   "source": [
    "The first one 'TOTAL', is the totals on the [financial statement](./enron61702insiderpay.pdf) and not a person so it should be removed.  \n",
    "The second one is not an outlier, it is just the huge payment and stock value of the CEO and chairman of Enron, Kenneth Lay. Datapoints like this are not outliers; in fact anomalies like this may lead us to the rest of the POIs. \n",
    "These extreme values lead the rest of the employees to the bottom left corner of the scatterplot. Let's use a logarithmic scale for both axes to unclutter the plot."
   ]
  },
  {
   "cell_type": "code",
   "execution_count": 11,
   "metadata": {
    "collapsed": false,
    "deletable": true,
    "editable": true
   },
   "outputs": [],
   "source": [
    "data_df.drop(\"TOTAL\", inplace=True)"
   ]
  },
  {
   "cell_type": "code",
   "execution_count": 12,
   "metadata": {
    "collapsed": false,
    "deletable": true,
    "editable": true
   },
   "outputs": [
    {
     "data": {
      "image/png": "[encoded data removed]",
      "text/plain": [
       "<matplotlib.figure.Figure at 0x7f75128c66d8>"
      ]
     },
     "metadata": {},
     "output_type": "display_data"
    }
   ],
   "source": [
    "fig, ax = plt.subplots()\n",
    "for poi, data in data_df.groupby(by=\"poi\"):\n",
    "    ax.plot(data['total_payments'],data['total_stock_value'],'o', label=poi)\n",
    "ax.legend()\n",
    "plt.xscale('symlog')\n",
    "plt.yscale('symlog')\n",
    "\n",
    "plt.show()"
   ]
  },
  {
   "cell_type": "markdown",
   "metadata": {
    "deletable": true,
    "editable": true,
    "variables": {
     "min(data_df[data_df.poi == True].total_payments)": "91093.0",
     "min(data_df[data_df.poi == True].total_stock_value)": "126027.0"
    }
   },
   "source": [
    "From this scatterplot we can see that there are not POIs with Total Payments less than 91,000 dollars or Total Stock Value less than 126,000 dollars."
   ]
  },
  {
   "cell_type": "markdown",
   "metadata": {
    "deletable": true,
    "editable": true
   },
   "source": [
    "Let's have a look in email variables for any outliers."
   ]
  },
  {
   "cell_type": "code",
   "execution_count": 13,
   "metadata": {
    "collapsed": false,
    "deletable": true,
    "editable": true
   },
   "outputs": [
    {
     "data": {
      "text/plain": [
       "<seaborn.axisgrid.PairGrid at 0x7f751236f1d0>"
      ]
     },
     "execution_count": 13,
     "metadata": {},
     "output_type": "execute_result"
    },
    {
     "data": {
      "image/png": "[encoded data removed]",
      "text/plain": [
       "<matplotlib.figure.Figure at 0x7f751236f400>"
      ]
     },
     "metadata": {},
     "output_type": "display_data"
    }
   ],
   "source": [
    "sns.pairplot(\n",
    "    data_df[[\n",
    "        \"poi\", \"to_messages\", \"from_poi_to_this_person\",\n",
    "        \"shared_receipt_with_poi\", \"from_this_person_to_poi\", \"from_messages\"\n",
    "    ]],\n",
    "    vars=[\n",
    "        \"to_messages\", \"from_poi_to_this_person\", \"shared_receipt_with_poi\",\n",
    "        \"from_this_person_to_poi\", \"from_messages\"\n",
    "    ],\n",
    "    hue=\"poi\", kind=\"scatter\")"
   ]
  },
  {
   "cell_type": "markdown",
   "metadata": {
    "deletable": true,
    "editable": true
   },
   "source": [
    "There are some high values but we cannot say there is any obvious outlier.  \n",
    "With a closer look we can see that there is some clustering when we plot from_messages with other email variables, especially with \"from_this_person_to_poi\". I will investigate it further in the new feature creation section.  \n",
    "\n",
    "Before going any further I will run an initial classification model so I can use the results as a baseline to evaluate improvements during the project.  \n",
    "I will split the dataset to training and testing and i will use a simple classifier (LinearSVC) which seems appropriate for the problem and further in the analysis I will try more sophisticated classifiers."
   ]
  },
  {
   "cell_type": "code",
   "execution_count": 14,
   "metadata": {
    "collapsed": false,
    "deletable": true,
    "editable": true
   },
   "outputs": [],
   "source": [
    "def prepare_dataset(data_df):\n",
    "    #Dropping the email feature because because it is irrelevant\n",
    "    X = data_df.drop(\"email_address\", axis=1)\n",
    "    # Transform the 'poi' from True / False to 0 / 1\n",
    "    X.poi = X.poi.astype(int)\n",
    "    #Removing the poi labels and put them in a separate array\n",
    "    y = X.pop(\"poi\")\n",
    "    X_train, X_test, y_train, y_test = train_test_split(X, y, random_state=42)\n",
    "    data_train = pd.concat([y_train, X_train], axis=1)\n",
    "    data_test = pd.concat([y_test, X_test], axis=1)\n",
    "    \n",
    "    return X_train, X_test, y_train, y_test, data_train, data_test"
   ]
  },
  {
   "cell_type": "code",
   "execution_count": 15,
   "metadata": {
    "collapsed": false,
    "deletable": true,
    "editable": true
   },
   "outputs": [],
   "source": [
    "X_train, X_test, y_train, y_test, data_train, data_test = prepare_dataset(data_df)"
   ]
  },
  {
   "cell_type": "code",
   "execution_count": 16,
   "metadata": {
    "collapsed": false,
    "deletable": true,
    "editable": true
   },
   "outputs": [
    {
     "name": "stdout",
     "output_type": "stream",
     "text": [
      "LinearSVC(C=1.0, class_weight=None, dual=True, fit_intercept=True,\n",
      "     intercept_scaling=1, loss='squared_hinge', max_iter=1000,\n",
      "     multi_class='ovr', penalty='l2', random_state=42, tol=0.0001,\n",
      "     verbose=0)\n",
      "\tAccuracy: 0.72436\tPrecision: 0.12287\tRecall: 0.33100\tF1: 0.17921\tF2: 0.24724\n",
      "\tTotal predictions: 11000\tTrue positives:  331\tFalse positives: 2363\tFalse negatives:  669\tTrue negatives: 7637\n",
      "\n"
     ]
    }
   ],
   "source": [
    "#test_classifier() demands the dataset in a dictionary and the features labels\n",
    "#in a list with 'poi' first.\n",
    "features = data_train.columns.tolist()\n",
    "data = data_train.to_dict(orient='index')\n",
    "\n",
    "test_classifier(svm.LinearSVC(random_state=42), data, features)"
   ]
  },
  {
   "cell_type": "markdown",
   "metadata": {
    "deletable": true,
    "editable": true
   },
   "source": [
    "# Optimize Feature Selection/Engineering"
   ]
  },
  {
   "cell_type": "markdown",
   "metadata": {
    "deletable": true,
    "editable": true
   },
   "source": [
    "## Create new features"
   ]
  },
  {
   "cell_type": "markdown",
   "metadata": {
    "deletable": true,
    "editable": true
   },
   "source": [
    "In the previous section we noticed a weak clustering while we were plotting pairs of features. This may be useful for new feature creation because if we create a new variable by dividing the two features there will be a value separation between the two classes.  \n",
    "\n",
    "By examining all the different combinations using pairplots, I concluded that POIs have a lower ratio of Restricted Stock to Total Stock Value and a higher rate of exchanged emails with POIs."
   ]
  },
  {
   "cell_type": "code",
   "execution_count": 17,
   "metadata": {
    "collapsed": false,
    "deletable": true,
    "editable": true
   },
   "outputs": [
    {
     "data": {
      "text/plain": [
       "<seaborn.axisgrid.FacetGrid at 0x7f75110c5908>"
      ]
     },
     "execution_count": 17,
     "metadata": {},
     "output_type": "execute_result"
    },
    {
     "data": {
      "image/png": "[encoded data removed]",
      "text/plain": [
       "<matplotlib.figure.Figure at 0x7f75111abef0>"
      ]
     },
     "metadata": {},
     "output_type": "display_data"
    }
   ],
   "source": [
    "sns.lmplot(\n",
    "    x=\"total_stock_value\", y=\"restricted_stock\", data=data_train, hue=\"poi\")"
   ]
  },
  {
   "cell_type": "code",
   "execution_count": 18,
   "metadata": {
    "collapsed": false,
    "deletable": true,
    "editable": true
   },
   "outputs": [
    {
     "data": {
      "text/plain": [
       "<seaborn.axisgrid.FacetGrid at 0x7f75115166a0>"
      ]
     },
     "execution_count": 18,
     "metadata": {},
     "output_type": "execute_result"
    },
    {
     "data": {
      "image/png": "[encoded data removed]",
      "text/plain": [
       "<matplotlib.figure.Figure at 0x7f751006a0f0>"
      ]
     },
     "metadata": {},
     "output_type": "display_data"
    }
   ],
   "source": [
    "sns.lmplot(\n",
    "    x=\"from_messages\", y=\"from_this_person_to_poi\", data=data_train, hue=\"poi\")"
   ]
  },
  {
   "cell_type": "code",
   "execution_count": 19,
   "metadata": {
    "collapsed": false,
    "deletable": true,
    "editable": true
   },
   "outputs": [
    {
     "data": {
      "text/plain": [
       "<seaborn.axisgrid.FacetGrid at 0x7f750a380438>"
      ]
     },
     "execution_count": 19,
     "metadata": {},
     "output_type": "execute_result"
    },
    {
     "data": {
      "image/png": "[encoded data removed]",
      "text/plain": [
       "<matplotlib.figure.Figure at 0x7f750a3ec198>"
      ]
     },
     "metadata": {},
     "output_type": "display_data"
    }
   ],
   "source": [
    "sns.lmplot(\n",
    "    x=\"from_poi_to_this_person\", y=\"from_messages\", data=data_train, hue=\"poi\")"
   ]
  },
  {
   "cell_type": "markdown",
   "metadata": {
    "deletable": true,
    "editable": true
   },
   "source": [
    "We can create three new variables that will represent these ratios."
   ]
  },
  {
   "cell_type": "code",
   "execution_count": 20,
   "metadata": {
    "collapsed": false,
    "deletable": true,
    "editable": true
   },
   "outputs": [],
   "source": [
    "data_train[\"stock_ratio\"] = data_train[\"restricted_stock\"] / data_train[\n",
    "    \"total_stock_value\"]\n",
    "data_train[\"to_poi_vs_from\"] = data_train[\"from_this_person_to_poi\"] / data_train[\n",
    "    \"from_messages\"]\n",
    "data_train[\"from_poi_vs_from\"] = data_train[\"from_poi_to_this_person\"] / data_train[\n",
    "    \"from_messages\"]\n",
    "data_train.replace(to_replace=np.nan, value=0, inplace=True)"
   ]
  },
  {
   "cell_type": "code",
   "execution_count": 21,
   "metadata": {
    "collapsed": false,
    "deletable": true,
    "editable": true
   },
   "outputs": [
    {
     "data": {
      "image/png": "[encoded data removed]",
      "text/plain": [
       "<matplotlib.figure.Figure at 0x7f7510c1cef0>"
      ]
     },
     "metadata": {},
     "output_type": "display_data"
    }
   ],
   "source": [
    "plt.subplots(figsize=(21, 5))\n",
    "\n",
    "plt.subplot(131)\n",
    "\n",
    "boxplot1 = sns.boxplot(x=\"poi\", y=\"stock_ratio\", data=data_train)\n",
    "\n",
    "plt.subplot(132)\n",
    "\n",
    "boxplot2 = sns.boxplot(x=\"poi\", y=\"to_poi_vs_from\", data=data_train)\n",
    "\n",
    "plt.subplot(133)\n",
    "\n",
    "boxplot3 = sns.boxplot(x=\"poi\", y=\"from_poi_vs_from\", data=data_train)\n",
    "\n",
    "plt.show()"
   ]
  },
  {
   "cell_type": "markdown",
   "metadata": {
    "deletable": true,
    "editable": true
   },
   "source": [
    "The statistics are against our intuition for the \"stock_ratio\" feature but they confirm our intuition for the other two."
   ]
  },
  {
   "cell_type": "code",
   "execution_count": 22,
   "metadata": {
    "collapsed": false,
    "deletable": true,
    "editable": true
   },
   "outputs": [],
   "source": [
    "data_df[\"to_poi_vs_from\"] = data_df[\"from_this_person_to_poi\"] / data_df[\n",
    "    \"from_messages\"]\n",
    "data_df[\"from_poi_vs_from\"] = data_df[\"from_poi_to_this_person\"] / data_df[\n",
    "    \"from_messages\"]\n",
    "data_df.replace(to_replace=np.nan, value=0, inplace=True)\n",
    "X_train, X_test, y_train, y_test, data_train, data_test = prepare_dataset(data_df)"
   ]
  },
  {
   "cell_type": "markdown",
   "metadata": {
    "deletable": true,
    "editable": true
   },
   "source": [
    "## Feature Selection"
   ]
  },
  {
   "cell_type": "markdown",
   "metadata": {},
   "source": [
    "For feature selection I will use LinearSVC classifier and I will test both univariate feature selection (KBest) and primary component analysis. For the number of features I will start with 2 and try up to 10."
   ]
  },
  {
   "cell_type": "code",
   "execution_count": 29,
   "metadata": {
    "collapsed": false
   },
   "outputs": [
    {
     "data": {
      "image/png": "[encoded data removed]",
      "text/plain": [
       "<matplotlib.figure.Figure at 0x7f750a360668>"
      ]
     },
     "metadata": {},
     "output_type": "display_data"
    }
   ],
   "source": [
    "from sklearn.pipeline import Pipeline\n",
    "from sklearn.decomposition import PCA\n",
    "\n",
    "pipe = Pipeline([\n",
    "    ('reduce_dim', PCA(random_state=42)),\n",
    "    ('classify', svm.LinearSVC(random_state=42))\n",
    "])\n",
    "\n",
    "N_FEATURES_OPTIONS = list(range(2,11))\n",
    "\n",
    "param_grid = [\n",
    "    {\n",
    "        'reduce_dim': [PCA(random_state=42)],\n",
    "        'reduce_dim__n_components': N_FEATURES_OPTIONS,\n",
    "    },\n",
    "    {\n",
    "        'reduce_dim': [SelectKBest()],\n",
    "        'reduce_dim__k': N_FEATURES_OPTIONS,\n",
    "    },\n",
    "]\n",
    "reducer_labels = ['PCA', 'KBest']\n",
    "grid = GridSearchCV(pipe, param_grid=param_grid)\n",
    "\n",
    "grid.fit(X_train, y_train)\n",
    "mean_scores = np.array(grid.cv_results_['mean_test_score'])\n",
    "mean_scores = mean_scores.reshape(-1, len(N_FEATURES_OPTIONS))\n",
    "bar_offsets = (np.arange(len(N_FEATURES_OPTIONS)) * (len(reducer_labels) + 1) + .5)\n",
    "plt.figure()\n",
    "\n",
    "for i, (label, reducer_scores) in enumerate(zip(reducer_labels, mean_scores)):\n",
    "    plt.bar(bar_offsets + i, reducer_scores, label=label)\n",
    "\n",
    "plt.title(\"Comparing feature reduction techniques\")\n",
    "plt.xlabel('Reduced number of features')\n",
    "plt.xticks(bar_offsets + len(reducer_labels) / 2, N_FEATURES_OPTIONS)\n",
    "plt.ylabel('Digit classification accuracy')\n",
    "plt.ylim((0, 1))\n",
    "plt.legend(loc='upper left')\n",
    "plt.show()"
   ]
  },
  {
   "cell_type": "markdown",
   "metadata": {},
   "source": [
    "We can see that univariate selection give us a good result with just 4 features. Further addition either gives us worse or similar score.  \n",
    "If we analyze the dataset to primary components we should analyze it to 5 components.  \n",
    "\n",
    "Let's try our scoring function with both options."
   ]
  },
  {
   "cell_type": "code",
   "execution_count": 68,
   "metadata": {
    "collapsed": false
   },
   "outputs": [
    {
     "name": "stdout",
     "output_type": "stream",
     "text": [
      "LinearSVC(C=1.0, class_weight=None, dual=True, fit_intercept=True,\n",
      "     intercept_scaling=1, loss='squared_hinge', max_iter=1000,\n",
      "     multi_class='ovr', penalty='l2', random_state=42, tol=0.0001,\n",
      "     verbose=0)\n",
      "\tAccuracy: 0.65900\tPrecision: 0.10310\tRecall: 0.31300\tF1: 0.15510\tF2: 0.22243\n",
      "\tTotal predictions: 10000\tTrue positives:  313\tFalse positives: 2723\tFalse negatives:  687\tTrue negatives: 6277\n",
      "\n"
     ]
    }
   ],
   "source": [
    "clf = SelectKBest(k=4)\n",
    "a = clf.fit(X_train, y_train)\n",
    "X_new = X_train[X_train.columns[a.get_support()]]\n",
    "data = pd.concat([pd.DataFrame(y_train), X_new], axis=1)\n",
    "features = list(data.columns)\n",
    "data = data.to_dict(orient='index')\n",
    "\n",
    "test_classifier(svm.LinearSVC(random_state=42), data, features)"
   ]
  },
  {
   "cell_type": "code",
   "execution_count": 88,
   "metadata": {
    "collapsed": false
   },
   "outputs": [
    {
     "name": "stdout",
     "output_type": "stream",
     "text": [
      "LinearSVC(C=1.0, class_weight=None, dual=True, fit_intercept=True,\n",
      "     intercept_scaling=1, loss='squared_hinge', max_iter=1000,\n",
      "     multi_class='ovr', penalty='l2', random_state=42, tol=0.0001,\n",
      "     verbose=0)\n",
      "\tAccuracy: 0.77300\tPrecision: 0.13110\tRecall: 0.26600\tF1: 0.17564\tF2: 0.22060\n",
      "\tTotal predictions: 11000\tTrue positives:  266\tFalse positives: 1763\tFalse negatives:  734\tTrue negatives: 8237\n",
      "\n"
     ]
    }
   ],
   "source": [
    "pca = PCA(n_components=5)\n",
    "data = pca.fit_transform(X_train)\n",
    "data = pd.DataFrame(data, index=X_train.index)\n",
    "data = pd.concat([pd.DataFrame(y_train), data], axis=1)\n",
    "features = list(data.columns)\n",
    "data = data.to_dict(orient='index')\n",
    "\n",
    "test_classifier(svm.LinearSVC(random_state=42), data, features)"
   ]
  },
  {
   "cell_type": "markdown",
   "metadata": {
    "collapsed": true,
    "deletable": true,
    "editable": true
   },
   "source": [
    "# Draft"
   ]
  },
  {
   "cell_type": "code",
   "execution_count": 87,
   "metadata": {
    "collapsed": false
   },
   "outputs": [
    {
     "data": {
      "text/html": [
       "<div>\n",
       "<table border=\"1\" class=\"dataframe\">\n",
       "  <thead>\n",
       "    <tr style=\"text-align: right;\">\n",
       "      <th></th>\n",
       "      <th>poi</th>\n",
       "      <th>0</th>\n",
       "      <th>1</th>\n",
       "      <th>2</th>\n",
       "      <th>3</th>\n",
       "      <th>4</th>\n",
       "    </tr>\n",
       "  </thead>\n",
       "  <tbody>\n",
       "    <tr>\n",
       "      <th>HAUG DAVID L</th>\n",
       "      <td>0</td>\n",
       "      <td>-2.879404e+06</td>\n",
       "      <td>-4.082923e+05</td>\n",
       "      <td>1.392197e+06</td>\n",
       "      <td>-1.854211e+06</td>\n",
       "      <td>2.412175e+05</td>\n",
       "    </tr>\n",
       "    <tr>\n",
       "      <th>HUGHES JAMES A</th>\n",
       "      <td>0</td>\n",
       "      <td>-3.307663e+06</td>\n",
       "      <td>-9.248576e+05</td>\n",
       "      <td>-5.224052e+05</td>\n",
       "      <td>-8.317697e+05</td>\n",
       "      <td>2.472511e+05</td>\n",
       "    </tr>\n",
       "    <tr>\n",
       "      <th>MULLER MARK S</th>\n",
       "      <td>0</td>\n",
       "      <td>-7.991676e+05</td>\n",
       "      <td>-1.687673e+06</td>\n",
       "      <td>4.105148e+05</td>\n",
       "      <td>1.651017e+06</td>\n",
       "      <td>-3.113938e+05</td>\n",
       "    </tr>\n",
       "    <tr>\n",
       "      <th>REDMOND BRIAN L</th>\n",
       "      <td>0</td>\n",
       "      <td>1.339864e+06</td>\n",
       "      <td>7.225280e+06</td>\n",
       "      <td>-2.356713e+06</td>\n",
       "      <td>-5.323687e+05</td>\n",
       "      <td>3.126382e+05</td>\n",
       "    </tr>\n",
       "    <tr>\n",
       "      <th>MORDAUNT KRISTINA M</th>\n",
       "      <td>0</td>\n",
       "      <td>-3.446441e+06</td>\n",
       "      <td>-2.178861e+06</td>\n",
       "      <td>-2.818877e+05</td>\n",
       "      <td>-4.110081e+05</td>\n",
       "      <td>-2.507336e+04</td>\n",
       "    </tr>\n",
       "    <tr>\n",
       "      <th>SAVAGE FRANK</th>\n",
       "      <td>0</td>\n",
       "      <td>-3.998213e+06</td>\n",
       "      <td>-2.119289e+06</td>\n",
       "      <td>-6.375166e+05</td>\n",
       "      <td>-6.365208e+05</td>\n",
       "      <td>2.385271e+05</td>\n",
       "    </tr>\n",
       "    <tr>\n",
       "      <th>ALLEN PHILLIP K</th>\n",
       "      <td>0</td>\n",
       "      <td>5.082647e+05</td>\n",
       "      <td>-1.528681e+06</td>\n",
       "      <td>1.018729e+06</td>\n",
       "      <td>4.254226e+06</td>\n",
       "      <td>-2.179225e+06</td>\n",
       "    </tr>\n",
       "    <tr>\n",
       "      <th>HIRKO JOSEPH</th>\n",
       "      <td>1</td>\n",
       "      <td>1.683881e+07</td>\n",
       "      <td>3.508982e+07</td>\n",
       "      <td>-9.167449e+06</td>\n",
       "      <td>5.536272e+05</td>\n",
       "      <td>5.591794e+05</td>\n",
       "    </tr>\n",
       "    <tr>\n",
       "      <th>COX DAVID</th>\n",
       "      <td>0</td>\n",
       "      <td>-2.932712e+06</td>\n",
       "      <td>-2.070567e+06</td>\n",
       "      <td>5.248049e+03</td>\n",
       "      <td>-1.511554e+05</td>\n",
       "      <td>-3.988822e+05</td>\n",
       "    </tr>\n",
       "    <tr>\n",
       "      <th>ECHOLS JOHN B</th>\n",
       "      <td>0</td>\n",
       "      <td>-1.469581e+06</td>\n",
       "      <td>-2.042849e+06</td>\n",
       "      <td>2.328062e+05</td>\n",
       "      <td>7.723924e+05</td>\n",
       "      <td>1.910636e+05</td>\n",
       "    </tr>\n",
       "    <tr>\n",
       "      <th>LOWRY CHARLES P</th>\n",
       "      <td>0</td>\n",
       "      <td>-3.732770e+06</td>\n",
       "      <td>-1.650745e+06</td>\n",
       "      <td>-6.435017e+05</td>\n",
       "      <td>-7.082760e+05</td>\n",
       "      <td>2.423450e+05</td>\n",
       "    </tr>\n",
       "    <tr>\n",
       "      <th>CHRISTODOULOU DIOMEDES</th>\n",
       "      <td>0</td>\n",
       "      <td>-5.787940e+04</td>\n",
       "      <td>4.820755e+06</td>\n",
       "      <td>-1.195599e+06</td>\n",
       "      <td>-9.791205e+05</td>\n",
       "      <td>2.925951e+05</td>\n",
       "    </tr>\n",
       "    <tr>\n",
       "      <th>CLINE KENNETH W</th>\n",
       "      <td>0</td>\n",
       "      <td>-3.852522e+06</td>\n",
       "      <td>-1.917934e+06</td>\n",
       "      <td>-1.440462e+05</td>\n",
       "      <td>-9.416635e+05</td>\n",
       "      <td>2.373542e+05</td>\n",
       "    </tr>\n",
       "    <tr>\n",
       "      <th>CHAN RONNIE</th>\n",
       "      <td>0</td>\n",
       "      <td>-3.997251e+06</td>\n",
       "      <td>-2.114399e+06</td>\n",
       "      <td>-6.172376e+05</td>\n",
       "      <td>-6.551541e+05</td>\n",
       "      <td>2.384787e+05</td>\n",
       "    </tr>\n",
       "    <tr>\n",
       "      <th>LEFF DANIEL P</th>\n",
       "      <td>0</td>\n",
       "      <td>-1.903722e+06</td>\n",
       "      <td>-2.787905e+06</td>\n",
       "      <td>4.171572e+05</td>\n",
       "      <td>8.223590e+05</td>\n",
       "      <td>-5.032384e+05</td>\n",
       "    </tr>\n",
       "    <tr>\n",
       "      <th>HUMPHREY GENE E</th>\n",
       "      <td>0</td>\n",
       "      <td>-3.148730e+05</td>\n",
       "      <td>-4.384448e+05</td>\n",
       "      <td>-3.876862e+05</td>\n",
       "      <td>1.750386e+06</td>\n",
       "      <td>1.169017e+06</td>\n",
       "    </tr>\n",
       "    <tr>\n",
       "      <th>FITZGERALD JAY L</th>\n",
       "      <td>0</td>\n",
       "      <td>-2.043697e+06</td>\n",
       "      <td>-1.083143e+06</td>\n",
       "      <td>4.463302e+05</td>\n",
       "      <td>-2.882643e+05</td>\n",
       "      <td>1.381520e+05</td>\n",
       "    </tr>\n",
       "    <tr>\n",
       "      <th>BOWEN JR RAYMOND M</th>\n",
       "      <td>1</td>\n",
       "      <td>-1.948135e+06</td>\n",
       "      <td>-2.869746e+06</td>\n",
       "      <td>3.462304e+05</td>\n",
       "      <td>9.025486e+05</td>\n",
       "      <td>-7.933510e+05</td>\n",
       "    </tr>\n",
       "    <tr>\n",
       "      <th>MORAN MICHAEL P</th>\n",
       "      <td>0</td>\n",
       "      <td>-3.879404e+06</td>\n",
       "      <td>-1.922396e+06</td>\n",
       "      <td>-5.150354e+05</td>\n",
       "      <td>-7.502218e+05</td>\n",
       "      <td>2.399397e+05</td>\n",
       "    </tr>\n",
       "    <tr>\n",
       "      <th>DURAN WILLIAM D</th>\n",
       "      <td>0</td>\n",
       "      <td>-1.421915e+06</td>\n",
       "      <td>-9.601392e+05</td>\n",
       "      <td>-3.054937e+05</td>\n",
       "      <td>6.015053e+05</td>\n",
       "      <td>-3.011049e+05</td>\n",
       "    </tr>\n",
       "    <tr>\n",
       "      <th>GRAMM WENDY L</th>\n",
       "      <td>0</td>\n",
       "      <td>-3.919627e+06</td>\n",
       "      <td>-2.161777e+06</td>\n",
       "      <td>-6.268144e+05</td>\n",
       "      <td>-6.181793e+05</td>\n",
       "      <td>2.404472e+05</td>\n",
       "    </tr>\n",
       "    <tr>\n",
       "      <th>CAUSEY RICHARD A</th>\n",
       "      <td>1</td>\n",
       "      <td>-1.367679e+06</td>\n",
       "      <td>-8.485417e+05</td>\n",
       "      <td>2.252654e+06</td>\n",
       "      <td>-7.340914e+05</td>\n",
       "      <td>-3.842207e+05</td>\n",
       "    </tr>\n",
       "    <tr>\n",
       "      <th>HICKERSON GARY J</th>\n",
       "      <td>0</td>\n",
       "      <td>-2.261959e+06</td>\n",
       "      <td>-2.509229e+06</td>\n",
       "      <td>4.087576e+05</td>\n",
       "      <td>4.775476e+05</td>\n",
       "      <td>-1.097068e+06</td>\n",
       "    </tr>\n",
       "    <tr>\n",
       "      <th>LEMAISTRE CHARLES</th>\n",
       "      <td>0</td>\n",
       "      <td>-3.662465e+06</td>\n",
       "      <td>-1.650392e+06</td>\n",
       "      <td>-7.449593e+05</td>\n",
       "      <td>-6.093389e+05</td>\n",
       "      <td>2.441977e+05</td>\n",
       "    </tr>\n",
       "    <tr>\n",
       "      <th>WALTERS GARETH W</th>\n",
       "      <td>0</td>\n",
       "      <td>-3.245272e+06</td>\n",
       "      <td>-9.027376e+05</td>\n",
       "      <td>-9.115178e+05</td>\n",
       "      <td>-5.717476e+05</td>\n",
       "      <td>2.662459e+05</td>\n",
       "    </tr>\n",
       "    <tr>\n",
       "      <th>FREVERT MARK A</th>\n",
       "      <td>0</td>\n",
       "      <td>1.880158e+07</td>\n",
       "      <td>6.900035e+06</td>\n",
       "      <td>5.421997e+06</td>\n",
       "      <td>9.137785e+06</td>\n",
       "      <td>4.688199e+06</td>\n",
       "    </tr>\n",
       "    <tr>\n",
       "      <th>DEFFNER JOSEPH M</th>\n",
       "      <td>0</td>\n",
       "      <td>-3.046844e+06</td>\n",
       "      <td>-2.416149e+06</td>\n",
       "      <td>-1.781954e+05</td>\n",
       "      <td>1.426575e+04</td>\n",
       "      <td>-2.129412e+05</td>\n",
       "    </tr>\n",
       "    <tr>\n",
       "      <th>MCCONNELL MICHAEL S</th>\n",
       "      <td>0</td>\n",
       "      <td>-6.442225e+05</td>\n",
       "      <td>2.440411e+05</td>\n",
       "      <td>8.589627e+05</td>\n",
       "      <td>-8.048473e+04</td>\n",
       "      <td>-5.988323e+05</td>\n",
       "    </tr>\n",
       "    <tr>\n",
       "      <th>WAKEHAM JOHN</th>\n",
       "      <td>0</td>\n",
       "      <td>-3.855295e+06</td>\n",
       "      <td>-2.195157e+06</td>\n",
       "      <td>-6.103148e+05</td>\n",
       "      <td>-5.802074e+05</td>\n",
       "      <td>2.403880e+05</td>\n",
       "    </tr>\n",
       "    <tr>\n",
       "      <th>DETMERING TIMOTHY J</th>\n",
       "      <td>0</td>\n",
       "      <td>-1.727344e+06</td>\n",
       "      <td>-4.009613e+04</td>\n",
       "      <td>-5.116808e+05</td>\n",
       "      <td>5.054030e+05</td>\n",
       "      <td>1.893856e+05</td>\n",
       "    </tr>\n",
       "    <tr>\n",
       "      <th>...</th>\n",
       "      <td>...</td>\n",
       "      <td>...</td>\n",
       "      <td>...</td>\n",
       "      <td>...</td>\n",
       "      <td>...</td>\n",
       "      <td>...</td>\n",
       "    </tr>\n",
       "    <tr>\n",
       "      <th>MCCLELLAN GEORGE</th>\n",
       "      <td>0</td>\n",
       "      <td>-2.480022e+06</td>\n",
       "      <td>-1.627576e+06</td>\n",
       "      <td>2.235182e+04</td>\n",
       "      <td>-2.411276e+04</td>\n",
       "      <td>-4.449809e+05</td>\n",
       "    </tr>\n",
       "    <tr>\n",
       "      <th>THE TRAVEL AGENCY IN THE PARK</th>\n",
       "      <td>0</td>\n",
       "      <td>-3.726083e+06</td>\n",
       "      <td>-2.252732e+06</td>\n",
       "      <td>-5.228215e+05</td>\n",
       "      <td>-4.415028e+05</td>\n",
       "      <td>4.337608e+05</td>\n",
       "    </tr>\n",
       "    <tr>\n",
       "      <th>CARTER REBECCA C</th>\n",
       "      <td>0</td>\n",
       "      <td>-3.619562e+06</td>\n",
       "      <td>-2.248929e+06</td>\n",
       "      <td>-2.729668e+05</td>\n",
       "      <td>-4.285880e+05</td>\n",
       "      <td>-7.168347e+03</td>\n",
       "    </tr>\n",
       "    <tr>\n",
       "      <th>GRAY RODNEY</th>\n",
       "      <td>0</td>\n",
       "      <td>-3.154261e+06</td>\n",
       "      <td>-2.536932e+06</td>\n",
       "      <td>-2.958070e+05</td>\n",
       "      <td>5.426426e+04</td>\n",
       "      <td>6.467037e+05</td>\n",
       "    </tr>\n",
       "    <tr>\n",
       "      <th>KITCHEN LOUISE</th>\n",
       "      <td>0</td>\n",
       "      <td>-1.166250e+06</td>\n",
       "      <td>-2.878838e+06</td>\n",
       "      <td>8.895635e+05</td>\n",
       "      <td>1.459290e+06</td>\n",
       "      <td>-2.148480e+06</td>\n",
       "    </tr>\n",
       "    <tr>\n",
       "      <th>DERRICK JR. JAMES V</th>\n",
       "      <td>0</td>\n",
       "      <td>2.605130e+06</td>\n",
       "      <td>8.602834e+06</td>\n",
       "      <td>-1.474107e+06</td>\n",
       "      <td>-9.368580e+04</td>\n",
       "      <td>-3.237055e+05</td>\n",
       "    </tr>\n",
       "    <tr>\n",
       "      <th>WHITE JR THOMAS E</th>\n",
       "      <td>0</td>\n",
       "      <td>5.311500e+06</td>\n",
       "      <td>9.437964e+06</td>\n",
       "      <td>1.233470e+07</td>\n",
       "      <td>-6.870137e+06</td>\n",
       "      <td>4.833675e+05</td>\n",
       "    </tr>\n",
       "    <tr>\n",
       "      <th>HANNON KEVIN P</th>\n",
       "      <td>1</td>\n",
       "      <td>5.044874e+05</td>\n",
       "      <td>5.178205e+06</td>\n",
       "      <td>-7.414245e+05</td>\n",
       "      <td>7.382233e+05</td>\n",
       "      <td>-8.747302e+05</td>\n",
       "    </tr>\n",
       "    <tr>\n",
       "      <th>HERMANN ROBERT J</th>\n",
       "      <td>0</td>\n",
       "      <td>-2.668403e+06</td>\n",
       "      <td>-1.980667e+06</td>\n",
       "      <td>1.953186e+05</td>\n",
       "      <td>1.953286e+04</td>\n",
       "      <td>-9.265815e+04</td>\n",
       "    </tr>\n",
       "    <tr>\n",
       "      <th>TILNEY ELIZABETH A</th>\n",
       "      <td>0</td>\n",
       "      <td>-2.997970e+06</td>\n",
       "      <td>-1.094236e+06</td>\n",
       "      <td>-6.286755e+04</td>\n",
       "      <td>-4.628835e+05</td>\n",
       "      <td>8.312590e+04</td>\n",
       "    </tr>\n",
       "    <tr>\n",
       "      <th>DONAHUE JR JEFFREY M</th>\n",
       "      <td>0</td>\n",
       "      <td>-2.680294e+06</td>\n",
       "      <td>-1.251311e+06</td>\n",
       "      <td>-2.531699e+05</td>\n",
       "      <td>-1.250049e+05</td>\n",
       "      <td>-3.948615e+05</td>\n",
       "    </tr>\n",
       "    <tr>\n",
       "      <th>CUMBERLAND MICHAEL S</th>\n",
       "      <td>0</td>\n",
       "      <td>-3.317258e+06</td>\n",
       "      <td>-2.244675e+06</td>\n",
       "      <td>-2.358721e+05</td>\n",
       "      <td>-2.856749e+05</td>\n",
       "      <td>-1.230111e+04</td>\n",
       "    </tr>\n",
       "    <tr>\n",
       "      <th>PIRO JIM</th>\n",
       "      <td>0</td>\n",
       "      <td>-3.977431e+06</td>\n",
       "      <td>-2.082668e+06</td>\n",
       "      <td>-6.036327e+05</td>\n",
       "      <td>-6.912361e+05</td>\n",
       "      <td>2.392253e+05</td>\n",
       "    </tr>\n",
       "    <tr>\n",
       "      <th>WASAFF GEORGE</th>\n",
       "      <td>0</td>\n",
       "      <td>-1.937345e+06</td>\n",
       "      <td>-1.538610e+05</td>\n",
       "      <td>-3.526644e+05</td>\n",
       "      <td>1.979643e+05</td>\n",
       "      <td>2.457621e+05</td>\n",
       "    </tr>\n",
       "    <tr>\n",
       "      <th>BADUM JAMES P</th>\n",
       "      <td>0</td>\n",
       "      <td>-3.701042e+06</td>\n",
       "      <td>-1.870809e+06</td>\n",
       "      <td>-6.659298e+05</td>\n",
       "      <td>-5.177302e+05</td>\n",
       "      <td>2.968646e+05</td>\n",
       "    </tr>\n",
       "    <tr>\n",
       "      <th>GIBBS DANA R</th>\n",
       "      <td>0</td>\n",
       "      <td>-1.825502e+06</td>\n",
       "      <td>2.235313e+05</td>\n",
       "      <td>-1.003433e+06</td>\n",
       "      <td>8.752103e+04</td>\n",
       "      <td>4.336989e+05</td>\n",
       "    </tr>\n",
       "    <tr>\n",
       "      <th>UMANOFF ADAM S</th>\n",
       "      <td>0</td>\n",
       "      <td>-3.184434e+06</td>\n",
       "      <td>-2.515613e+06</td>\n",
       "      <td>-3.109674e+05</td>\n",
       "      <td>4.422646e+04</td>\n",
       "      <td>-3.901801e+05</td>\n",
       "    </tr>\n",
       "    <tr>\n",
       "      <th>PAI LOU L</th>\n",
       "      <td>0</td>\n",
       "      <td>1.298118e+07</td>\n",
       "      <td>2.187398e+07</td>\n",
       "      <td>3.889580e+06</td>\n",
       "      <td>-2.636800e+06</td>\n",
       "      <td>5.936727e+05</td>\n",
       "    </tr>\n",
       "    <tr>\n",
       "      <th>MURRAY JULIA H</th>\n",
       "      <td>0</td>\n",
       "      <td>-3.049243e+06</td>\n",
       "      <td>-1.768610e+06</td>\n",
       "      <td>-3.527428e+05</td>\n",
       "      <td>-2.689703e+05</td>\n",
       "      <td>-7.431287e+04</td>\n",
       "    </tr>\n",
       "    <tr>\n",
       "      <th>SHANKMAN JEFFREY A</th>\n",
       "      <td>0</td>\n",
       "      <td>-5.081371e+05</td>\n",
       "      <td>-9.583924e+05</td>\n",
       "      <td>4.347551e+05</td>\n",
       "      <td>1.014129e+06</td>\n",
       "      <td>-1.303731e+06</td>\n",
       "    </tr>\n",
       "    <tr>\n",
       "      <th>MCCARTY DANNY J</th>\n",
       "      <td>0</td>\n",
       "      <td>-3.504852e+06</td>\n",
       "      <td>-1.241999e+06</td>\n",
       "      <td>-7.445468e+05</td>\n",
       "      <td>-6.911176e+05</td>\n",
       "      <td>2.460752e+05</td>\n",
       "    </tr>\n",
       "    <tr>\n",
       "      <th>KISHKILL JOSEPH G</th>\n",
       "      <td>0</td>\n",
       "      <td>-2.958455e+06</td>\n",
       "      <td>-1.576512e+06</td>\n",
       "      <td>5.172488e+05</td>\n",
       "      <td>-8.137912e+05</td>\n",
       "      <td>4.824975e+05</td>\n",
       "    </tr>\n",
       "    <tr>\n",
       "      <th>SHERRIFF JOHN R</th>\n",
       "      <td>0</td>\n",
       "      <td>1.096208e+06</td>\n",
       "      <td>-4.577738e+05</td>\n",
       "      <td>1.399239e+06</td>\n",
       "      <td>1.452619e+06</td>\n",
       "      <td>8.225605e+04</td>\n",
       "    </tr>\n",
       "    <tr>\n",
       "      <th>YEAP SOON</th>\n",
       "      <td>0</td>\n",
       "      <td>-3.833392e+06</td>\n",
       "      <td>-1.905462e+06</td>\n",
       "      <td>-6.909666e+05</td>\n",
       "      <td>-6.362149e+05</td>\n",
       "      <td>2.411820e+05</td>\n",
       "    </tr>\n",
       "    <tr>\n",
       "      <th>CALGER CHRISTOPHER F</th>\n",
       "      <td>1</td>\n",
       "      <td>-2.737885e+06</td>\n",
       "      <td>-2.595607e+06</td>\n",
       "      <td>1.200707e+04</td>\n",
       "      <td>4.581452e+05</td>\n",
       "      <td>-7.400364e+05</td>\n",
       "    </tr>\n",
       "    <tr>\n",
       "      <th>JAEDICKE ROBERT</th>\n",
       "      <td>0</td>\n",
       "      <td>-3.647341e+06</td>\n",
       "      <td>-1.621080e+06</td>\n",
       "      <td>-7.201560e+05</td>\n",
       "      <td>-6.263659e+05</td>\n",
       "      <td>2.441646e+05</td>\n",
       "    </tr>\n",
       "    <tr>\n",
       "      <th>PIPER GREGORY F</th>\n",
       "      <td>0</td>\n",
       "      <td>-2.140789e+06</td>\n",
       "      <td>-1.613058e+06</td>\n",
       "      <td>-9.586774e+04</td>\n",
       "      <td>4.656840e+05</td>\n",
       "      <td>2.726666e+05</td>\n",
       "    </tr>\n",
       "    <tr>\n",
       "      <th>BLAKE JR. NORMAN P</th>\n",
       "      <td>0</td>\n",
       "      <td>-3.999940e+06</td>\n",
       "      <td>-2.118481e+06</td>\n",
       "      <td>-6.384866e+05</td>\n",
       "      <td>-6.392258e+05</td>\n",
       "      <td>2.385309e+05</td>\n",
       "    </tr>\n",
       "    <tr>\n",
       "      <th>MENDELSOHN JOHN</th>\n",
       "      <td>0</td>\n",
       "      <td>-4.000764e+06</td>\n",
       "      <td>-2.118179e+06</td>\n",
       "      <td>-6.394281e+05</td>\n",
       "      <td>-6.419881e+05</td>\n",
       "      <td>2.385878e+05</td>\n",
       "    </tr>\n",
       "    <tr>\n",
       "      <th>OVERDYKE JR JERE C</th>\n",
       "      <td>0</td>\n",
       "      <td>7.633542e+05</td>\n",
       "      <td>5.741851e+06</td>\n",
       "      <td>-1.745508e+05</td>\n",
       "      <td>-1.423900e+06</td>\n",
       "      <td>2.962415e+05</td>\n",
       "    </tr>\n",
       "  </tbody>\n",
       "</table>\n",
       "<p>108 rows × 6 columns</p>\n",
       "</div>"
      ],
      "text/plain": [
       "                               poi             0             1             2  \\\n",
       "HAUG DAVID L                     0 -2.879404e+06 -4.082923e+05  1.392197e+06   \n",
       "HUGHES JAMES A                   0 -3.307663e+06 -9.248576e+05 -5.224052e+05   \n",
       "MULLER MARK S                    0 -7.991676e+05 -1.687673e+06  4.105148e+05   \n",
       "REDMOND BRIAN L                  0  1.339864e+06  7.225280e+06 -2.356713e+06   \n",
       "MORDAUNT KRISTINA M              0 -3.446441e+06 -2.178861e+06 -2.818877e+05   \n",
       "SAVAGE FRANK                     0 -3.998213e+06 -2.119289e+06 -6.375166e+05   \n",
       "ALLEN PHILLIP K                  0  5.082647e+05 -1.528681e+06  1.018729e+06   \n",
       "HIRKO JOSEPH                     1  1.683881e+07  3.508982e+07 -9.167449e+06   \n",
       "COX DAVID                        0 -2.932712e+06 -2.070567e+06  5.248049e+03   \n",
       "ECHOLS JOHN B                    0 -1.469581e+06 -2.042849e+06  2.328062e+05   \n",
       "LOWRY CHARLES P                  0 -3.732770e+06 -1.650745e+06 -6.435017e+05   \n",
       "CHRISTODOULOU DIOMEDES           0 -5.787940e+04  4.820755e+06 -1.195599e+06   \n",
       "CLINE KENNETH W                  0 -3.852522e+06 -1.917934e+06 -1.440462e+05   \n",
       "CHAN RONNIE                      0 -3.997251e+06 -2.114399e+06 -6.172376e+05   \n",
       "LEFF DANIEL P                    0 -1.903722e+06 -2.787905e+06  4.171572e+05   \n",
       "HUMPHREY GENE E                  0 -3.148730e+05 -4.384448e+05 -3.876862e+05   \n",
       "FITZGERALD JAY L                 0 -2.043697e+06 -1.083143e+06  4.463302e+05   \n",
       "BOWEN JR RAYMOND M               1 -1.948135e+06 -2.869746e+06  3.462304e+05   \n",
       "MORAN MICHAEL P                  0 -3.879404e+06 -1.922396e+06 -5.150354e+05   \n",
       "DURAN WILLIAM D                  0 -1.421915e+06 -9.601392e+05 -3.054937e+05   \n",
       "GRAMM WENDY L                    0 -3.919627e+06 -2.161777e+06 -6.268144e+05   \n",
       "CAUSEY RICHARD A                 1 -1.367679e+06 -8.485417e+05  2.252654e+06   \n",
       "HICKERSON GARY J                 0 -2.261959e+06 -2.509229e+06  4.087576e+05   \n",
       "LEMAISTRE CHARLES                0 -3.662465e+06 -1.650392e+06 -7.449593e+05   \n",
       "WALTERS GARETH W                 0 -3.245272e+06 -9.027376e+05 -9.115178e+05   \n",
       "FREVERT MARK A                   0  1.880158e+07  6.900035e+06  5.421997e+06   \n",
       "DEFFNER JOSEPH M                 0 -3.046844e+06 -2.416149e+06 -1.781954e+05   \n",
       "MCCONNELL MICHAEL S              0 -6.442225e+05  2.440411e+05  8.589627e+05   \n",
       "WAKEHAM JOHN                     0 -3.855295e+06 -2.195157e+06 -6.103148e+05   \n",
       "DETMERING TIMOTHY J              0 -1.727344e+06 -4.009613e+04 -5.116808e+05   \n",
       "...                            ...           ...           ...           ...   \n",
       "MCCLELLAN GEORGE                 0 -2.480022e+06 -1.627576e+06  2.235182e+04   \n",
       "THE TRAVEL AGENCY IN THE PARK    0 -3.726083e+06 -2.252732e+06 -5.228215e+05   \n",
       "CARTER REBECCA C                 0 -3.619562e+06 -2.248929e+06 -2.729668e+05   \n",
       "GRAY RODNEY                      0 -3.154261e+06 -2.536932e+06 -2.958070e+05   \n",
       "KITCHEN LOUISE                   0 -1.166250e+06 -2.878838e+06  8.895635e+05   \n",
       "DERRICK JR. JAMES V              0  2.605130e+06  8.602834e+06 -1.474107e+06   \n",
       "WHITE JR THOMAS E                0  5.311500e+06  9.437964e+06  1.233470e+07   \n",
       "HANNON KEVIN P                   1  5.044874e+05  5.178205e+06 -7.414245e+05   \n",
       "HERMANN ROBERT J                 0 -2.668403e+06 -1.980667e+06  1.953186e+05   \n",
       "TILNEY ELIZABETH A               0 -2.997970e+06 -1.094236e+06 -6.286755e+04   \n",
       "DONAHUE JR JEFFREY M             0 -2.680294e+06 -1.251311e+06 -2.531699e+05   \n",
       "CUMBERLAND MICHAEL S             0 -3.317258e+06 -2.244675e+06 -2.358721e+05   \n",
       "PIRO JIM                         0 -3.977431e+06 -2.082668e+06 -6.036327e+05   \n",
       "WASAFF GEORGE                    0 -1.937345e+06 -1.538610e+05 -3.526644e+05   \n",
       "BADUM JAMES P                    0 -3.701042e+06 -1.870809e+06 -6.659298e+05   \n",
       "GIBBS DANA R                     0 -1.825502e+06  2.235313e+05 -1.003433e+06   \n",
       "UMANOFF ADAM S                   0 -3.184434e+06 -2.515613e+06 -3.109674e+05   \n",
       "PAI LOU L                        0  1.298118e+07  2.187398e+07  3.889580e+06   \n",
       "MURRAY JULIA H                   0 -3.049243e+06 -1.768610e+06 -3.527428e+05   \n",
       "SHANKMAN JEFFREY A               0 -5.081371e+05 -9.583924e+05  4.347551e+05   \n",
       "MCCARTY DANNY J                  0 -3.504852e+06 -1.241999e+06 -7.445468e+05   \n",
       "KISHKILL JOSEPH G                0 -2.958455e+06 -1.576512e+06  5.172488e+05   \n",
       "SHERRIFF JOHN R                  0  1.096208e+06 -4.577738e+05  1.399239e+06   \n",
       "YEAP SOON                        0 -3.833392e+06 -1.905462e+06 -6.909666e+05   \n",
       "CALGER CHRISTOPHER F             1 -2.737885e+06 -2.595607e+06  1.200707e+04   \n",
       "JAEDICKE ROBERT                  0 -3.647341e+06 -1.621080e+06 -7.201560e+05   \n",
       "PIPER GREGORY F                  0 -2.140789e+06 -1.613058e+06 -9.586774e+04   \n",
       "BLAKE JR. NORMAN P               0 -3.999940e+06 -2.118481e+06 -6.384866e+05   \n",
       "MENDELSOHN JOHN                  0 -4.000764e+06 -2.118179e+06 -6.394281e+05   \n",
       "OVERDYKE JR JERE C               0  7.633542e+05  5.741851e+06 -1.745508e+05   \n",
       "\n",
       "                                          3             4  \n",
       "HAUG DAVID L                  -1.854211e+06  2.412175e+05  \n",
       "HUGHES JAMES A                -8.317697e+05  2.472511e+05  \n",
       "MULLER MARK S                  1.651017e+06 -3.113938e+05  \n",
       "REDMOND BRIAN L               -5.323687e+05  3.126382e+05  \n",
       "MORDAUNT KRISTINA M           -4.110081e+05 -2.507336e+04  \n",
       "SAVAGE FRANK                  -6.365208e+05  2.385271e+05  \n",
       "ALLEN PHILLIP K                4.254226e+06 -2.179225e+06  \n",
       "HIRKO JOSEPH                   5.536272e+05  5.591794e+05  \n",
       "COX DAVID                     -1.511554e+05 -3.988822e+05  \n",
       "ECHOLS JOHN B                  7.723924e+05  1.910636e+05  \n",
       "LOWRY CHARLES P               -7.082760e+05  2.423450e+05  \n",
       "CHRISTODOULOU DIOMEDES        -9.791205e+05  2.925951e+05  \n",
       "CLINE KENNETH W               -9.416635e+05  2.373542e+05  \n",
       "CHAN RONNIE                   -6.551541e+05  2.384787e+05  \n",
       "LEFF DANIEL P                  8.223590e+05 -5.032384e+05  \n",
       "HUMPHREY GENE E                1.750386e+06  1.169017e+06  \n",
       "FITZGERALD JAY L              -2.882643e+05  1.381520e+05  \n",
       "BOWEN JR RAYMOND M             9.025486e+05 -7.933510e+05  \n",
       "MORAN MICHAEL P               -7.502218e+05  2.399397e+05  \n",
       "DURAN WILLIAM D                6.015053e+05 -3.011049e+05  \n",
       "GRAMM WENDY L                 -6.181793e+05  2.404472e+05  \n",
       "CAUSEY RICHARD A              -7.340914e+05 -3.842207e+05  \n",
       "HICKERSON GARY J               4.775476e+05 -1.097068e+06  \n",
       "LEMAISTRE CHARLES             -6.093389e+05  2.441977e+05  \n",
       "WALTERS GARETH W              -5.717476e+05  2.662459e+05  \n",
       "FREVERT MARK A                 9.137785e+06  4.688199e+06  \n",
       "DEFFNER JOSEPH M               1.426575e+04 -2.129412e+05  \n",
       "MCCONNELL MICHAEL S           -8.048473e+04 -5.988323e+05  \n",
       "WAKEHAM JOHN                  -5.802074e+05  2.403880e+05  \n",
       "DETMERING TIMOTHY J            5.054030e+05  1.893856e+05  \n",
       "...                                     ...           ...  \n",
       "MCCLELLAN GEORGE              -2.411276e+04 -4.449809e+05  \n",
       "THE TRAVEL AGENCY IN THE PARK -4.415028e+05  4.337608e+05  \n",
       "CARTER REBECCA C              -4.285880e+05 -7.168347e+03  \n",
       "GRAY RODNEY                    5.426426e+04  6.467037e+05  \n",
       "KITCHEN LOUISE                 1.459290e+06 -2.148480e+06  \n",
       "DERRICK JR. JAMES V           -9.368580e+04 -3.237055e+05  \n",
       "WHITE JR THOMAS E             -6.870137e+06  4.833675e+05  \n",
       "HANNON KEVIN P                 7.382233e+05 -8.747302e+05  \n",
       "HERMANN ROBERT J               1.953286e+04 -9.265815e+04  \n",
       "TILNEY ELIZABETH A            -4.628835e+05  8.312590e+04  \n",
       "DONAHUE JR JEFFREY M          -1.250049e+05 -3.948615e+05  \n",
       "CUMBERLAND MICHAEL S          -2.856749e+05 -1.230111e+04  \n",
       "PIRO JIM                      -6.912361e+05  2.392253e+05  \n",
       "WASAFF GEORGE                  1.979643e+05  2.457621e+05  \n",
       "BADUM JAMES P                 -5.177302e+05  2.968646e+05  \n",
       "GIBBS DANA R                   8.752103e+04  4.336989e+05  \n",
       "UMANOFF ADAM S                 4.422646e+04 -3.901801e+05  \n",
       "PAI LOU L                     -2.636800e+06  5.936727e+05  \n",
       "MURRAY JULIA H                -2.689703e+05 -7.431287e+04  \n",
       "SHANKMAN JEFFREY A             1.014129e+06 -1.303731e+06  \n",
       "MCCARTY DANNY J               -6.911176e+05  2.460752e+05  \n",
       "KISHKILL JOSEPH G             -8.137912e+05  4.824975e+05  \n",
       "SHERRIFF JOHN R                1.452619e+06  8.225605e+04  \n",
       "YEAP SOON                     -6.362149e+05  2.411820e+05  \n",
       "CALGER CHRISTOPHER F           4.581452e+05 -7.400364e+05  \n",
       "JAEDICKE ROBERT               -6.263659e+05  2.441646e+05  \n",
       "PIPER GREGORY F                4.656840e+05  2.726666e+05  \n",
       "BLAKE JR. NORMAN P            -6.392258e+05  2.385309e+05  \n",
       "MENDELSOHN JOHN               -6.419881e+05  2.385878e+05  \n",
       "OVERDYKE JR JERE C            -1.423900e+06  2.962415e+05  \n",
       "\n",
       "[108 rows x 6 columns]"
      ]
     },
     "execution_count": 87,
     "metadata": {},
     "output_type": "execute_result"
    }
   ],
   "source": [
    "data"
   ]
  },
  {
   "cell_type": "code",
   "execution_count": 82,
   "metadata": {
    "collapsed": false
   },
   "outputs": [
    {
     "data": {
      "text/html": [
       "<div>\n",
       "<table border=\"1\" class=\"dataframe\">\n",
       "  <thead>\n",
       "    <tr style=\"text-align: right;\">\n",
       "      <th></th>\n",
       "      <th>poi</th>\n",
       "    </tr>\n",
       "  </thead>\n",
       "  <tbody>\n",
       "    <tr>\n",
       "      <th>HAUG DAVID L</th>\n",
       "      <td>0</td>\n",
       "    </tr>\n",
       "    <tr>\n",
       "      <th>HUGHES JAMES A</th>\n",
       "      <td>0</td>\n",
       "    </tr>\n",
       "    <tr>\n",
       "      <th>MULLER MARK S</th>\n",
       "      <td>0</td>\n",
       "    </tr>\n",
       "    <tr>\n",
       "      <th>REDMOND BRIAN L</th>\n",
       "      <td>0</td>\n",
       "    </tr>\n",
       "    <tr>\n",
       "      <th>MORDAUNT KRISTINA M</th>\n",
       "      <td>0</td>\n",
       "    </tr>\n",
       "    <tr>\n",
       "      <th>SAVAGE FRANK</th>\n",
       "      <td>0</td>\n",
       "    </tr>\n",
       "    <tr>\n",
       "      <th>ALLEN PHILLIP K</th>\n",
       "      <td>0</td>\n",
       "    </tr>\n",
       "    <tr>\n",
       "      <th>HIRKO JOSEPH</th>\n",
       "      <td>1</td>\n",
       "    </tr>\n",
       "    <tr>\n",
       "      <th>COX DAVID</th>\n",
       "      <td>0</td>\n",
       "    </tr>\n",
       "    <tr>\n",
       "      <th>ECHOLS JOHN B</th>\n",
       "      <td>0</td>\n",
       "    </tr>\n",
       "    <tr>\n",
       "      <th>LOWRY CHARLES P</th>\n",
       "      <td>0</td>\n",
       "    </tr>\n",
       "    <tr>\n",
       "      <th>CHRISTODOULOU DIOMEDES</th>\n",
       "      <td>0</td>\n",
       "    </tr>\n",
       "    <tr>\n",
       "      <th>CLINE KENNETH W</th>\n",
       "      <td>0</td>\n",
       "    </tr>\n",
       "    <tr>\n",
       "      <th>CHAN RONNIE</th>\n",
       "      <td>0</td>\n",
       "    </tr>\n",
       "    <tr>\n",
       "      <th>LEFF DANIEL P</th>\n",
       "      <td>0</td>\n",
       "    </tr>\n",
       "    <tr>\n",
       "      <th>HUMPHREY GENE E</th>\n",
       "      <td>0</td>\n",
       "    </tr>\n",
       "    <tr>\n",
       "      <th>FITZGERALD JAY L</th>\n",
       "      <td>0</td>\n",
       "    </tr>\n",
       "    <tr>\n",
       "      <th>BOWEN JR RAYMOND M</th>\n",
       "      <td>1</td>\n",
       "    </tr>\n",
       "    <tr>\n",
       "      <th>MORAN MICHAEL P</th>\n",
       "      <td>0</td>\n",
       "    </tr>\n",
       "    <tr>\n",
       "      <th>DURAN WILLIAM D</th>\n",
       "      <td>0</td>\n",
       "    </tr>\n",
       "    <tr>\n",
       "      <th>GRAMM WENDY L</th>\n",
       "      <td>0</td>\n",
       "    </tr>\n",
       "    <tr>\n",
       "      <th>CAUSEY RICHARD A</th>\n",
       "      <td>1</td>\n",
       "    </tr>\n",
       "    <tr>\n",
       "      <th>HICKERSON GARY J</th>\n",
       "      <td>0</td>\n",
       "    </tr>\n",
       "    <tr>\n",
       "      <th>LEMAISTRE CHARLES</th>\n",
       "      <td>0</td>\n",
       "    </tr>\n",
       "    <tr>\n",
       "      <th>WALTERS GARETH W</th>\n",
       "      <td>0</td>\n",
       "    </tr>\n",
       "    <tr>\n",
       "      <th>FREVERT MARK A</th>\n",
       "      <td>0</td>\n",
       "    </tr>\n",
       "    <tr>\n",
       "      <th>DEFFNER JOSEPH M</th>\n",
       "      <td>0</td>\n",
       "    </tr>\n",
       "    <tr>\n",
       "      <th>MCCONNELL MICHAEL S</th>\n",
       "      <td>0</td>\n",
       "    </tr>\n",
       "    <tr>\n",
       "      <th>WAKEHAM JOHN</th>\n",
       "      <td>0</td>\n",
       "    </tr>\n",
       "    <tr>\n",
       "      <th>DETMERING TIMOTHY J</th>\n",
       "      <td>0</td>\n",
       "    </tr>\n",
       "    <tr>\n",
       "      <th>...</th>\n",
       "      <td>...</td>\n",
       "    </tr>\n",
       "    <tr>\n",
       "      <th>MCCLELLAN GEORGE</th>\n",
       "      <td>0</td>\n",
       "    </tr>\n",
       "    <tr>\n",
       "      <th>THE TRAVEL AGENCY IN THE PARK</th>\n",
       "      <td>0</td>\n",
       "    </tr>\n",
       "    <tr>\n",
       "      <th>CARTER REBECCA C</th>\n",
       "      <td>0</td>\n",
       "    </tr>\n",
       "    <tr>\n",
       "      <th>GRAY RODNEY</th>\n",
       "      <td>0</td>\n",
       "    </tr>\n",
       "    <tr>\n",
       "      <th>KITCHEN LOUISE</th>\n",
       "      <td>0</td>\n",
       "    </tr>\n",
       "    <tr>\n",
       "      <th>DERRICK JR. JAMES V</th>\n",
       "      <td>0</td>\n",
       "    </tr>\n",
       "    <tr>\n",
       "      <th>WHITE JR THOMAS E</th>\n",
       "      <td>0</td>\n",
       "    </tr>\n",
       "    <tr>\n",
       "      <th>HANNON KEVIN P</th>\n",
       "      <td>1</td>\n",
       "    </tr>\n",
       "    <tr>\n",
       "      <th>HERMANN ROBERT J</th>\n",
       "      <td>0</td>\n",
       "    </tr>\n",
       "    <tr>\n",
       "      <th>TILNEY ELIZABETH A</th>\n",
       "      <td>0</td>\n",
       "    </tr>\n",
       "    <tr>\n",
       "      <th>DONAHUE JR JEFFREY M</th>\n",
       "      <td>0</td>\n",
       "    </tr>\n",
       "    <tr>\n",
       "      <th>CUMBERLAND MICHAEL S</th>\n",
       "      <td>0</td>\n",
       "    </tr>\n",
       "    <tr>\n",
       "      <th>PIRO JIM</th>\n",
       "      <td>0</td>\n",
       "    </tr>\n",
       "    <tr>\n",
       "      <th>WASAFF GEORGE</th>\n",
       "      <td>0</td>\n",
       "    </tr>\n",
       "    <tr>\n",
       "      <th>BADUM JAMES P</th>\n",
       "      <td>0</td>\n",
       "    </tr>\n",
       "    <tr>\n",
       "      <th>GIBBS DANA R</th>\n",
       "      <td>0</td>\n",
       "    </tr>\n",
       "    <tr>\n",
       "      <th>UMANOFF ADAM S</th>\n",
       "      <td>0</td>\n",
       "    </tr>\n",
       "    <tr>\n",
       "      <th>PAI LOU L</th>\n",
       "      <td>0</td>\n",
       "    </tr>\n",
       "    <tr>\n",
       "      <th>MURRAY JULIA H</th>\n",
       "      <td>0</td>\n",
       "    </tr>\n",
       "    <tr>\n",
       "      <th>SHANKMAN JEFFREY A</th>\n",
       "      <td>0</td>\n",
       "    </tr>\n",
       "    <tr>\n",
       "      <th>MCCARTY DANNY J</th>\n",
       "      <td>0</td>\n",
       "    </tr>\n",
       "    <tr>\n",
       "      <th>KISHKILL JOSEPH G</th>\n",
       "      <td>0</td>\n",
       "    </tr>\n",
       "    <tr>\n",
       "      <th>SHERRIFF JOHN R</th>\n",
       "      <td>0</td>\n",
       "    </tr>\n",
       "    <tr>\n",
       "      <th>YEAP SOON</th>\n",
       "      <td>0</td>\n",
       "    </tr>\n",
       "    <tr>\n",
       "      <th>CALGER CHRISTOPHER F</th>\n",
       "      <td>1</td>\n",
       "    </tr>\n",
       "    <tr>\n",
       "      <th>JAEDICKE ROBERT</th>\n",
       "      <td>0</td>\n",
       "    </tr>\n",
       "    <tr>\n",
       "      <th>PIPER GREGORY F</th>\n",
       "      <td>0</td>\n",
       "    </tr>\n",
       "    <tr>\n",
       "      <th>BLAKE JR. NORMAN P</th>\n",
       "      <td>0</td>\n",
       "    </tr>\n",
       "    <tr>\n",
       "      <th>MENDELSOHN JOHN</th>\n",
       "      <td>0</td>\n",
       "    </tr>\n",
       "    <tr>\n",
       "      <th>OVERDYKE JR JERE C</th>\n",
       "      <td>0</td>\n",
       "    </tr>\n",
       "  </tbody>\n",
       "</table>\n",
       "<p>108 rows × 1 columns</p>\n",
       "</div>"
      ],
      "text/plain": [
       "                               poi\n",
       "HAUG DAVID L                     0\n",
       "HUGHES JAMES A                   0\n",
       "MULLER MARK S                    0\n",
       "REDMOND BRIAN L                  0\n",
       "MORDAUNT KRISTINA M              0\n",
       "SAVAGE FRANK                     0\n",
       "ALLEN PHILLIP K                  0\n",
       "HIRKO JOSEPH                     1\n",
       "COX DAVID                        0\n",
       "ECHOLS JOHN B                    0\n",
       "LOWRY CHARLES P                  0\n",
       "CHRISTODOULOU DIOMEDES           0\n",
       "CLINE KENNETH W                  0\n",
       "CHAN RONNIE                      0\n",
       "LEFF DANIEL P                    0\n",
       "HUMPHREY GENE E                  0\n",
       "FITZGERALD JAY L                 0\n",
       "BOWEN JR RAYMOND M               1\n",
       "MORAN MICHAEL P                  0\n",
       "DURAN WILLIAM D                  0\n",
       "GRAMM WENDY L                    0\n",
       "CAUSEY RICHARD A                 1\n",
       "HICKERSON GARY J                 0\n",
       "LEMAISTRE CHARLES                0\n",
       "WALTERS GARETH W                 0\n",
       "FREVERT MARK A                   0\n",
       "DEFFNER JOSEPH M                 0\n",
       "MCCONNELL MICHAEL S              0\n",
       "WAKEHAM JOHN                     0\n",
       "DETMERING TIMOTHY J              0\n",
       "...                            ...\n",
       "MCCLELLAN GEORGE                 0\n",
       "THE TRAVEL AGENCY IN THE PARK    0\n",
       "CARTER REBECCA C                 0\n",
       "GRAY RODNEY                      0\n",
       "KITCHEN LOUISE                   0\n",
       "DERRICK JR. JAMES V              0\n",
       "WHITE JR THOMAS E                0\n",
       "HANNON KEVIN P                   1\n",
       "HERMANN ROBERT J                 0\n",
       "TILNEY ELIZABETH A               0\n",
       "DONAHUE JR JEFFREY M             0\n",
       "CUMBERLAND MICHAEL S             0\n",
       "PIRO JIM                         0\n",
       "WASAFF GEORGE                    0\n",
       "BADUM JAMES P                    0\n",
       "GIBBS DANA R                     0\n",
       "UMANOFF ADAM S                   0\n",
       "PAI LOU L                        0\n",
       "MURRAY JULIA H                   0\n",
       "SHANKMAN JEFFREY A               0\n",
       "MCCARTY DANNY J                  0\n",
       "KISHKILL JOSEPH G                0\n",
       "SHERRIFF JOHN R                  0\n",
       "YEAP SOON                        0\n",
       "CALGER CHRISTOPHER F             1\n",
       "JAEDICKE ROBERT                  0\n",
       "PIPER GREGORY F                  0\n",
       "BLAKE JR. NORMAN P               0\n",
       "MENDELSOHN JOHN                  0\n",
       "OVERDYKE JR JERE C               0\n",
       "\n",
       "[108 rows x 1 columns]"
      ]
     },
     "execution_count": 82,
     "metadata": {},
     "output_type": "execute_result"
    }
   ],
   "source": [
    "pd.DataFrame(y_train)"
   ]
  },
  {
   "cell_type": "code",
   "execution_count": 31,
   "metadata": {
    "collapsed": false,
    "deletable": true,
    "editable": true
   },
   "outputs": [],
   "source": [
    "selector = SelectKBest(k=4)\n",
    "a = selector.fit(X_train, y_train)"
   ]
  },
  {
   "cell_type": "code",
   "execution_count": 32,
   "metadata": {
    "collapsed": false,
    "deletable": true,
    "editable": true
   },
   "outputs": [
    {
     "data": {
      "text/plain": [
       "['bonus', 'total_stock_value', 'exercised_stock_options', 'to_poi_vs_from']"
      ]
     },
     "execution_count": 32,
     "metadata": {},
     "output_type": "execute_result"
    }
   ],
   "source": [
    "list(X_train.columns[a.get_support()])"
   ]
  },
  {
   "cell_type": "code",
   "execution_count": 30,
   "metadata": {
    "collapsed": false,
    "deletable": true,
    "editable": true
   },
   "outputs": [
    {
     "data": {
      "text/plain": [
       "<matplotlib.axes._subplots.AxesSubplot at 0x7f7509e4b898>"
      ]
     },
     "execution_count": 30,
     "metadata": {},
     "output_type": "execute_result"
    },
    {
     "data": {
      "image/png": "[encoded data removed]",
      "text/plain": [
       "<matplotlib.figure.Figure at 0x7f7509e9b358>"
      ]
     },
     "metadata": {},
     "output_type": "display_data"
    }
   ],
   "source": [
    "sns.barplot(y=X_train.columns, x=a.scores_)"
   ]
  },
  {
   "cell_type": "code",
   "execution_count": 94,
   "metadata": {
    "collapsed": false,
    "deletable": true,
    "editable": true
   },
   "outputs": [
    {
     "ename": "NameError",
     "evalue": "name 'X' is not defined",
     "output_type": "error",
     "traceback": [
      "\u001b[0;31m---------------------------------------------------------------------------\u001b[0m",
      "\u001b[0;31mNameError\u001b[0m                                 Traceback (most recent call last)",
      "\u001b[0;32m<ipython-input-94-8ff98e904a55>\u001b[0m in \u001b[0;36m<module>\u001b[0;34m()\u001b[0m\n\u001b[0;32m----> 1\u001b[0;31m \u001b[0mX_train\u001b[0m \u001b[0;34m=\u001b[0m \u001b[0mX_train\u001b[0m\u001b[0;34m[\u001b[0m\u001b[0mX\u001b[0m\u001b[0;34m.\u001b[0m\u001b[0mcolumns\u001b[0m\u001b[0;34m[\u001b[0m\u001b[0mselector\u001b[0m\u001b[0;34m.\u001b[0m\u001b[0mget_support\u001b[0m\u001b[0;34m(\u001b[0m\u001b[0;34m)\u001b[0m\u001b[0;34m]\u001b[0m\u001b[0;34m]\u001b[0m\u001b[0;34m\u001b[0m\u001b[0m\n\u001b[0m\u001b[1;32m      2\u001b[0m \u001b[0mX_test\u001b[0m \u001b[0;34m=\u001b[0m \u001b[0mX_test\u001b[0m\u001b[0;34m[\u001b[0m\u001b[0mX\u001b[0m\u001b[0;34m.\u001b[0m\u001b[0mcolumns\u001b[0m\u001b[0;34m[\u001b[0m\u001b[0mselector\u001b[0m\u001b[0;34m.\u001b[0m\u001b[0mget_support\u001b[0m\u001b[0;34m(\u001b[0m\u001b[0;34m)\u001b[0m\u001b[0;34m]\u001b[0m\u001b[0;34m]\u001b[0m\u001b[0;34m\u001b[0m\u001b[0m\n",
      "\u001b[0;31mNameError\u001b[0m: name 'X' is not defined"
     ]
    }
   ],
   "source": [
    "X_train = X_train[X.columns[selector.get_support()]]\n",
    "X_test = X_test[X.columns[selector.get_support()]]"
   ]
  },
  {
   "cell_type": "markdown",
   "metadata": {
    "deletable": true,
    "editable": true
   },
   "source": [
    "## Features Scaling"
   ]
  },
  {
   "cell_type": "code",
   "execution_count": 47,
   "metadata": {
    "collapsed": false,
    "deletable": true,
    "editable": true
   },
   "outputs": [],
   "source": [
    "X_train = preprocessing.scale(X_train)"
   ]
  },
  {
   "cell_type": "code",
   "execution_count": 49,
   "metadata": {
    "collapsed": false,
    "deletable": true,
    "editable": true
   },
   "outputs": [],
   "source": [
    "X_train = pd.DataFrame(X_train, columns=selected_features)"
   ]
  },
  {
   "cell_type": "code",
   "execution_count": 50,
   "metadata": {
    "collapsed": false,
    "deletable": true,
    "editable": true,
    "scrolled": true
   },
   "outputs": [
    {
     "data": {
      "text/html": [
       "<div>\n",
       "<table border=\"1\" class=\"dataframe\">\n",
       "  <thead>\n",
       "    <tr style=\"text-align: right;\">\n",
       "      <th></th>\n",
       "      <th>salary</th>\n",
       "      <th>bonus</th>\n",
       "      <th>total_stock_value</th>\n",
       "      <th>exercised_stock_options</th>\n",
       "      <th>to_poi_vs_from</th>\n",
       "    </tr>\n",
       "  </thead>\n",
       "  <tbody>\n",
       "    <tr>\n",
       "      <th>count</th>\n",
       "      <td>1.080000e+02</td>\n",
       "      <td>1.080000e+02</td>\n",
       "      <td>1.080000e+02</td>\n",
       "      <td>1.080000e+02</td>\n",
       "      <td>1.080000e+02</td>\n",
       "    </tr>\n",
       "    <tr>\n",
       "      <th>mean</th>\n",
       "      <td>5.551115e-17</td>\n",
       "      <td>7.607084e-17</td>\n",
       "      <td>1.541976e-17</td>\n",
       "      <td>5.139921e-17</td>\n",
       "      <td>1.233581e-17</td>\n",
       "    </tr>\n",
       "    <tr>\n",
       "      <th>std</th>\n",
       "      <td>1.004662e+00</td>\n",
       "      <td>1.004662e+00</td>\n",
       "      <td>1.004662e+00</td>\n",
       "      <td>1.004662e+00</td>\n",
       "      <td>1.004662e+00</td>\n",
       "    </tr>\n",
       "    <tr>\n",
       "      <th>min</th>\n",
       "      <td>-8.830784e-01</td>\n",
       "      <td>-5.650144e-01</td>\n",
       "      <td>-4.494847e-01</td>\n",
       "      <td>-4.111603e-01</td>\n",
       "      <td>-5.739670e-01</td>\n",
       "    </tr>\n",
       "    <tr>\n",
       "      <th>25%</th>\n",
       "      <td>-8.830784e-01</td>\n",
       "      <td>-5.650144e-01</td>\n",
       "      <td>-4.120680e-01</td>\n",
       "      <td>-4.111603e-01</td>\n",
       "      <td>-5.739670e-01</td>\n",
       "    </tr>\n",
       "    <tr>\n",
       "      <th>50%</th>\n",
       "      <td>6.597181e-02</td>\n",
       "      <td>-3.065347e-01</td>\n",
       "      <td>-3.063009e-01</td>\n",
       "      <td>-3.142502e-01</td>\n",
       "      <td>-5.739670e-01</td>\n",
       "    </tr>\n",
       "    <tr>\n",
       "      <th>75%</th>\n",
       "      <td>3.677707e-01</td>\n",
       "      <td>1.242648e-01</td>\n",
       "      <td>-1.376565e-01</td>\n",
       "      <td>-1.000643e-01</td>\n",
       "      <td>2.258695e-01</td>\n",
       "    </tr>\n",
       "    <tr>\n",
       "      <th>max</th>\n",
       "      <td>4.375501e+00</td>\n",
       "      <td>5.466178e+00</td>\n",
       "      <td>6.835559e+00</td>\n",
       "      <td>6.244559e+00</td>\n",
       "      <td>4.630019e+00</td>\n",
       "    </tr>\n",
       "  </tbody>\n",
       "</table>\n",
       "</div>"
      ],
      "text/plain": [
       "             salary         bonus  total_stock_value  exercised_stock_options  \\\n",
       "count  1.080000e+02  1.080000e+02       1.080000e+02             1.080000e+02   \n",
       "mean   5.551115e-17  7.607084e-17       1.541976e-17             5.139921e-17   \n",
       "std    1.004662e+00  1.004662e+00       1.004662e+00             1.004662e+00   \n",
       "min   -8.830784e-01 -5.650144e-01      -4.494847e-01            -4.111603e-01   \n",
       "25%   -8.830784e-01 -5.650144e-01      -4.120680e-01            -4.111603e-01   \n",
       "50%    6.597181e-02 -3.065347e-01      -3.063009e-01            -3.142502e-01   \n",
       "75%    3.677707e-01  1.242648e-01      -1.376565e-01            -1.000643e-01   \n",
       "max    4.375501e+00  5.466178e+00       6.835559e+00             6.244559e+00   \n",
       "\n",
       "       to_poi_vs_from  \n",
       "count    1.080000e+02  \n",
       "mean     1.233581e-17  \n",
       "std      1.004662e+00  \n",
       "min     -5.739670e-01  \n",
       "25%     -5.739670e-01  \n",
       "50%     -5.739670e-01  \n",
       "75%      2.258695e-01  \n",
       "max      4.630019e+00  "
      ]
     },
     "execution_count": 50,
     "metadata": {},
     "output_type": "execute_result"
    }
   ],
   "source": [
    "X_train.describe()"
   ]
  },
  {
   "cell_type": "markdown",
   "metadata": {
    "deletable": true,
    "editable": true
   },
   "source": [
    "# Algorithm Selection and Tuning"
   ]
  },
  {
   "cell_type": "markdown",
   "metadata": {
    "deletable": true,
    "editable": true
   },
   "source": [
    "## Algorithm Selection"
   ]
  },
  {
   "cell_type": "code",
   "execution_count": 51,
   "metadata": {
    "collapsed": false,
    "deletable": true,
    "editable": true
   },
   "outputs": [
    {
     "name": "stdout",
     "output_type": "stream",
     "text": [
      "0.871078221078\n"
     ]
    }
   ],
   "source": [
    "clf = svm.LinearSVC(random_state=42)\n",
    "scores = cross_val_score(clf, X_train, y_train)\n",
    "print(scores.mean())"
   ]
  },
  {
   "cell_type": "code",
   "execution_count": 52,
   "metadata": {
    "collapsed": false,
    "deletable": true,
    "editable": true
   },
   "outputs": [
    {
     "name": "stdout",
     "output_type": "stream",
     "text": [
      "0.841991991992\n"
     ]
    }
   ],
   "source": [
    "clf = KNeighborsClassifier()\n",
    "scores = cross_val_score(clf, X_train, y_train)\n",
    "print(scores.mean())"
   ]
  },
  {
   "cell_type": "code",
   "execution_count": 53,
   "metadata": {
    "collapsed": false,
    "deletable": true,
    "editable": true
   },
   "outputs": [
    {
     "name": "stdout",
     "output_type": "stream",
     "text": [
      "0.842256542257\n"
     ]
    }
   ],
   "source": [
    "clf = GradientBoostingClassifier(random_state=42)\n",
    "scores = cross_val_score(clf, X_train, y_train)\n",
    "print(scores.mean())"
   ]
  },
  {
   "cell_type": "code",
   "execution_count": 54,
   "metadata": {
    "collapsed": false,
    "deletable": true,
    "editable": true
   },
   "outputs": [
    {
     "name": "stdout",
     "output_type": "stream",
     "text": [
      "0.870563420563\n"
     ]
    }
   ],
   "source": [
    "clf = RandomForestClassifier(random_state=42)\n",
    "scores = cross_val_score(clf, X_train, y_train)\n",
    "print(scores.mean())"
   ]
  },
  {
   "cell_type": "markdown",
   "metadata": {
    "collapsed": true,
    "deletable": true,
    "editable": true
   },
   "source": [
    "## Algorithm Tuning"
   ]
  },
  {
   "cell_type": "code",
   "execution_count": 102,
   "metadata": {
    "collapsed": false,
    "deletable": true,
    "editable": true
   },
   "outputs": [
    {
     "name": "stdout",
     "output_type": "stream",
     "text": [
      "1 500 1000\n",
      "500 750 1000\n",
      "750 875 1000\n",
      "875 938 1000\n",
      "906 938 969\n",
      "922 938 954\n",
      "922 930 938\n",
      "922 926 930\n",
      "922 924 926\n",
      "922 923 924\n",
      "922 922 923\n",
      "{'n_estimators': 922}\n",
      "0.861111111111\n"
     ]
    }
   ],
   "source": [
    "def find_optimal(min_bound, max_bound):\n",
    "    while min_bound < max_bound:\n",
    "        b = round((min_bound+max_bound)/2)\n",
    "        print(min_bound, b, max_bound)\n",
    "        tune_parameters = [{'n_estimators': [min_bound,b,max_bound]}]\n",
    "        \n",
    "        clf = GridSearchCV(RandomForestClassifier(random_state=42), tune_parameters)\n",
    "    \n",
    "        clf.fit(X_train, y_train)\n",
    "        best_param = clf.best_params_['n_estimators']\n",
    "        \n",
    "        if (best_param == min_bound):\n",
    "            max_bound = b\n",
    "        elif (best_param == max_bound):\n",
    "            min_bound = b\n",
    "        else:\n",
    "            min_bound = round((b+min_bound)/2)\n",
    "            max_bound = round((max_bound+b)/2)\n",
    "            \n",
    "    print(clf.best_params_)\n",
    "    print(clf.best_score_)\n",
    "    \n",
    "find_optimal(1,1000)"
   ]
  },
  {
   "cell_type": "code",
   "execution_count": 90,
   "metadata": {
    "collapsed": false,
    "deletable": true,
    "editable": true
   },
   "outputs": [
    {
     "name": "stdout",
     "output_type": "stream",
     "text": [
      "{'n_estimators': 1000}\n",
      "0.861111111111\n"
     ]
    }
   ],
   "source": [
    "find_optimal(1,1000)"
   ]
  },
  {
   "cell_type": "code",
   "execution_count": 73,
   "metadata": {
    "collapsed": false,
    "deletable": true,
    "editable": true
   },
   "outputs": [
    {
     "name": "stdout",
     "output_type": "stream",
     "text": [
      "{'C': 0.1}\n",
      "0.87962962963\n"
     ]
    }
   ],
   "source": [
    "tune_parameters = [{'C': [0.01, 0.1, 1, 10, 100]}]\n",
    "\n",
    "clf = GridSearchCV(svm.LinearSVC(dual=False, random_state=42), tune_parameters)\n",
    "clf.fit(X_train, y_train)\n",
    "\n",
    "print(clf.best_params_)\n",
    "print(clf.best_score_)"
   ]
  },
  {
   "cell_type": "code",
   "execution_count": 92,
   "metadata": {
    "collapsed": false,
    "deletable": true,
    "editable": true
   },
   "outputs": [
    {
     "data": {
      "text/plain": [
       "0.1"
      ]
     },
     "execution_count": 92,
     "metadata": {},
     "output_type": "execute_result"
    }
   ],
   "source": [
    "clf.best_params_['C']"
   ]
  },
  {
   "cell_type": "code",
   "execution_count": 97,
   "metadata": {
    "collapsed": false,
    "deletable": true,
    "editable": true
   },
   "outputs": [
    {
     "name": "stdout",
     "output_type": "stream",
     "text": [
      "{'n_estimators': 10}\n",
      "0.87037037037\n"
     ]
    }
   ],
   "source": [
    "tune_parameters = [{'n_estimators': [1, 10, 1000]}]\n",
    "\n",
    "clf = GridSearchCV(RandomForestClassifier(random_state=42), tune_parameters)\n",
    "clf.fit(X_train, y_train)\n",
    "\n",
    "print(clf.best_params_)\n",
    "print(clf.best_score_)"
   ]
  },
  {
   "cell_type": "code",
   "execution_count": 58,
   "metadata": {
    "collapsed": false,
    "deletable": true,
    "editable": true
   },
   "outputs": [
    {
     "name": "stdout",
     "output_type": "stream",
     "text": [
      "0.243243243243\n"
     ]
    }
   ],
   "source": [
    "clf = svm.LinearSVC(C=10, dual=False, random_state=42)\n",
    "clf.fit(X_train, y_train)\n",
    "score = clf.score(X_test, y_test)\n",
    "print(score)"
   ]
  },
  {
   "cell_type": "code",
   "execution_count": 59,
   "metadata": {
    "collapsed": false,
    "deletable": true,
    "editable": true
   },
   "outputs": [
    {
     "name": "stdout",
     "output_type": "stream",
     "text": [
      "0.540540540541\n"
     ]
    }
   ],
   "source": [
    "clf = RandomForestClassifier(n_estimators=10, random_state=42)\n",
    "clf.fit(X_train, y_train)\n",
    "score = clf.score(X_test, y_test)\n",
    "print(score)"
   ]
  },
  {
   "cell_type": "markdown",
   "metadata": {
    "collapsed": true,
    "deletable": true,
    "editable": true
   },
   "source": [
    "# Draft"
   ]
  },
  {
   "cell_type": "code",
   "execution_count": 49,
   "metadata": {
    "collapsed": false,
    "deletable": true,
    "editable": true
   },
   "outputs": [],
   "source": [
    "poi_list = []\n",
    "npoi_list = []\n",
    "result = pd.DataFrame(columns=[\"Feature 1\", \"Feature 2\", \"Ratio\"])\n",
    "features = data_df.columns.tolist()\n",
    "features.remove(\"email_address\")\n",
    "for feature1 in features:\n",
    "    for feature2 in features:\n",
    "        for employee in data_df.iterrows():\n",
    "            try:\n",
    "                value = employee[1][feature1] / employee[1][feature2]\n",
    "            except ZeroDivisionError:\n",
    "                break\n",
    "            except TypeError:\n",
    "                print(feature1, feature2)\n",
    "\n",
    "            if employee[1][\"poi\"]:\n",
    "                poi_list.append(value)\n",
    "            else:\n",
    "                npoi_list.append(value)\n",
    "        if len(poi_list) > 0 and len(npoi_list) > 0:\n",
    "            value1 = (sum(poi_list) / len(poi_list)) / (sum(npoi_list) /\n",
    "                                                        len(npoi_list))\n",
    "            result = result.append(\n",
    "                pd.DataFrame(\n",
    "                    [[feature1, feature2, value1]],\n",
    "                    columns=[\"Feature 1\", \"Feature 2\", \"Ratio\"]))"
   ]
  },
  {
   "cell_type": "code",
   "execution_count": 50,
   "metadata": {
    "collapsed": false,
    "deletable": true,
    "editable": true
   },
   "outputs": [
    {
     "data": {
      "text/html": [
       "<div>\n",
       "<table border=\"1\" class=\"dataframe\">\n",
       "  <thead>\n",
       "    <tr style=\"text-align: right;\">\n",
       "      <th></th>\n",
       "      <th>Feature 1</th>\n",
       "      <th>Feature 2</th>\n",
       "      <th>Ratio</th>\n",
       "    </tr>\n",
       "  </thead>\n",
       "  <tbody>\n",
       "    <tr>\n",
       "      <th>0</th>\n",
       "      <td>salary</td>\n",
       "      <td>total_stock_value</td>\n",
       "      <td>0.064570</td>\n",
       "    </tr>\n",
       "    <tr>\n",
       "      <th>0</th>\n",
       "      <td>salary</td>\n",
       "      <td>expenses</td>\n",
       "      <td>0.048617</td>\n",
       "    </tr>\n",
       "    <tr>\n",
       "      <th>0</th>\n",
       "      <td>salary</td>\n",
       "      <td>deferred_income</td>\n",
       "      <td>0.045984</td>\n",
       "    </tr>\n",
       "    <tr>\n",
       "      <th>0</th>\n",
       "      <td>salary</td>\n",
       "      <td>restricted_stock_deferred</td>\n",
       "      <td>0.044175</td>\n",
       "    </tr>\n",
       "    <tr>\n",
       "      <th>0</th>\n",
       "      <td>salary</td>\n",
       "      <td>bonus</td>\n",
       "      <td>0.041490</td>\n",
       "    </tr>\n",
       "    <tr>\n",
       "      <th>0</th>\n",
       "      <td>salary</td>\n",
       "      <td>total_payments</td>\n",
       "      <td>0.039788</td>\n",
       "    </tr>\n",
       "    <tr>\n",
       "      <th>0</th>\n",
       "      <td>salary</td>\n",
       "      <td>loan_advances</td>\n",
       "      <td>0.039788</td>\n",
       "    </tr>\n",
       "    <tr>\n",
       "      <th>0</th>\n",
       "      <td>salary</td>\n",
       "      <td>from_messages</td>\n",
       "      <td>0.001469</td>\n",
       "    </tr>\n",
       "    <tr>\n",
       "      <th>0</th>\n",
       "      <td>salary</td>\n",
       "      <td>exercised_stock_options</td>\n",
       "      <td>0.001468</td>\n",
       "    </tr>\n",
       "    <tr>\n",
       "      <th>0</th>\n",
       "      <td>salary</td>\n",
       "      <td>from_poi_to_this_person</td>\n",
       "      <td>0.001340</td>\n",
       "    </tr>\n",
       "    <tr>\n",
       "      <th>0</th>\n",
       "      <td>salary</td>\n",
       "      <td>other</td>\n",
       "      <td>0.001159</td>\n",
       "    </tr>\n",
       "    <tr>\n",
       "      <th>0</th>\n",
       "      <td>salary</td>\n",
       "      <td>restricted_stock</td>\n",
       "      <td>0.000806</td>\n",
       "    </tr>\n",
       "    <tr>\n",
       "      <th>0</th>\n",
       "      <td>salary</td>\n",
       "      <td>director_fees</td>\n",
       "      <td>0.000806</td>\n",
       "    </tr>\n",
       "    <tr>\n",
       "      <th>0</th>\n",
       "      <td>salary</td>\n",
       "      <td>shared_receipt_with_poi</td>\n",
       "      <td>0.000791</td>\n",
       "    </tr>\n",
       "    <tr>\n",
       "      <th>0</th>\n",
       "      <td>salary</td>\n",
       "      <td>long_term_incentive</td>\n",
       "      <td>0.000788</td>\n",
       "    </tr>\n",
       "    <tr>\n",
       "      <th>0</th>\n",
       "      <td>salary</td>\n",
       "      <td>from_this_person_to_poi</td>\n",
       "      <td>0.000772</td>\n",
       "    </tr>\n",
       "    <tr>\n",
       "      <th>0</th>\n",
       "      <td>salary</td>\n",
       "      <td>poi</td>\n",
       "      <td>0.000772</td>\n",
       "    </tr>\n",
       "    <tr>\n",
       "      <th>0</th>\n",
       "      <td>salary</td>\n",
       "      <td>to_poi_vs_from</td>\n",
       "      <td>NaN</td>\n",
       "    </tr>\n",
       "    <tr>\n",
       "      <th>0</th>\n",
       "      <td>salary</td>\n",
       "      <td>from_poi_vs_from</td>\n",
       "      <td>NaN</td>\n",
       "    </tr>\n",
       "    <tr>\n",
       "      <th>0</th>\n",
       "      <td>to_messages</td>\n",
       "      <td>salary</td>\n",
       "      <td>NaN</td>\n",
       "    </tr>\n",
       "    <tr>\n",
       "      <th>0</th>\n",
       "      <td>to_messages</td>\n",
       "      <td>to_messages</td>\n",
       "      <td>NaN</td>\n",
       "    </tr>\n",
       "    <tr>\n",
       "      <th>0</th>\n",
       "      <td>to_messages</td>\n",
       "      <td>deferral_payments</td>\n",
       "      <td>NaN</td>\n",
       "    </tr>\n",
       "    <tr>\n",
       "      <th>0</th>\n",
       "      <td>to_messages</td>\n",
       "      <td>total_payments</td>\n",
       "      <td>NaN</td>\n",
       "    </tr>\n",
       "    <tr>\n",
       "      <th>0</th>\n",
       "      <td>to_messages</td>\n",
       "      <td>loan_advances</td>\n",
       "      <td>NaN</td>\n",
       "    </tr>\n",
       "    <tr>\n",
       "      <th>0</th>\n",
       "      <td>to_messages</td>\n",
       "      <td>bonus</td>\n",
       "      <td>NaN</td>\n",
       "    </tr>\n",
       "    <tr>\n",
       "      <th>0</th>\n",
       "      <td>to_messages</td>\n",
       "      <td>restricted_stock_deferred</td>\n",
       "      <td>NaN</td>\n",
       "    </tr>\n",
       "    <tr>\n",
       "      <th>0</th>\n",
       "      <td>to_messages</td>\n",
       "      <td>deferred_income</td>\n",
       "      <td>NaN</td>\n",
       "    </tr>\n",
       "    <tr>\n",
       "      <th>0</th>\n",
       "      <td>to_messages</td>\n",
       "      <td>total_stock_value</td>\n",
       "      <td>NaN</td>\n",
       "    </tr>\n",
       "    <tr>\n",
       "      <th>0</th>\n",
       "      <td>to_messages</td>\n",
       "      <td>expenses</td>\n",
       "      <td>NaN</td>\n",
       "    </tr>\n",
       "    <tr>\n",
       "      <th>0</th>\n",
       "      <td>to_messages</td>\n",
       "      <td>from_poi_to_this_person</td>\n",
       "      <td>NaN</td>\n",
       "    </tr>\n",
       "    <tr>\n",
       "      <th>...</th>\n",
       "      <td>...</td>\n",
       "      <td>...</td>\n",
       "      <td>...</td>\n",
       "    </tr>\n",
       "    <tr>\n",
       "      <th>0</th>\n",
       "      <td>to_poi_vs_from</td>\n",
       "      <td>from_this_person_to_poi</td>\n",
       "      <td>NaN</td>\n",
       "    </tr>\n",
       "    <tr>\n",
       "      <th>0</th>\n",
       "      <td>to_poi_vs_from</td>\n",
       "      <td>poi</td>\n",
       "      <td>NaN</td>\n",
       "    </tr>\n",
       "    <tr>\n",
       "      <th>0</th>\n",
       "      <td>to_poi_vs_from</td>\n",
       "      <td>long_term_incentive</td>\n",
       "      <td>NaN</td>\n",
       "    </tr>\n",
       "    <tr>\n",
       "      <th>0</th>\n",
       "      <td>to_poi_vs_from</td>\n",
       "      <td>shared_receipt_with_poi</td>\n",
       "      <td>NaN</td>\n",
       "    </tr>\n",
       "    <tr>\n",
       "      <th>0</th>\n",
       "      <td>to_poi_vs_from</td>\n",
       "      <td>restricted_stock</td>\n",
       "      <td>NaN</td>\n",
       "    </tr>\n",
       "    <tr>\n",
       "      <th>0</th>\n",
       "      <td>to_poi_vs_from</td>\n",
       "      <td>director_fees</td>\n",
       "      <td>NaN</td>\n",
       "    </tr>\n",
       "    <tr>\n",
       "      <th>0</th>\n",
       "      <td>to_poi_vs_from</td>\n",
       "      <td>to_poi_vs_from</td>\n",
       "      <td>NaN</td>\n",
       "    </tr>\n",
       "    <tr>\n",
       "      <th>0</th>\n",
       "      <td>to_poi_vs_from</td>\n",
       "      <td>from_poi_vs_from</td>\n",
       "      <td>NaN</td>\n",
       "    </tr>\n",
       "    <tr>\n",
       "      <th>0</th>\n",
       "      <td>from_poi_vs_from</td>\n",
       "      <td>salary</td>\n",
       "      <td>NaN</td>\n",
       "    </tr>\n",
       "    <tr>\n",
       "      <th>0</th>\n",
       "      <td>from_poi_vs_from</td>\n",
       "      <td>to_messages</td>\n",
       "      <td>NaN</td>\n",
       "    </tr>\n",
       "    <tr>\n",
       "      <th>0</th>\n",
       "      <td>from_poi_vs_from</td>\n",
       "      <td>deferral_payments</td>\n",
       "      <td>NaN</td>\n",
       "    </tr>\n",
       "    <tr>\n",
       "      <th>0</th>\n",
       "      <td>from_poi_vs_from</td>\n",
       "      <td>total_payments</td>\n",
       "      <td>NaN</td>\n",
       "    </tr>\n",
       "    <tr>\n",
       "      <th>0</th>\n",
       "      <td>from_poi_vs_from</td>\n",
       "      <td>loan_advances</td>\n",
       "      <td>NaN</td>\n",
       "    </tr>\n",
       "    <tr>\n",
       "      <th>0</th>\n",
       "      <td>from_poi_vs_from</td>\n",
       "      <td>bonus</td>\n",
       "      <td>NaN</td>\n",
       "    </tr>\n",
       "    <tr>\n",
       "      <th>0</th>\n",
       "      <td>from_poi_vs_from</td>\n",
       "      <td>restricted_stock_deferred</td>\n",
       "      <td>NaN</td>\n",
       "    </tr>\n",
       "    <tr>\n",
       "      <th>0</th>\n",
       "      <td>from_poi_vs_from</td>\n",
       "      <td>deferred_income</td>\n",
       "      <td>NaN</td>\n",
       "    </tr>\n",
       "    <tr>\n",
       "      <th>0</th>\n",
       "      <td>from_poi_vs_from</td>\n",
       "      <td>total_stock_value</td>\n",
       "      <td>NaN</td>\n",
       "    </tr>\n",
       "    <tr>\n",
       "      <th>0</th>\n",
       "      <td>from_poi_vs_from</td>\n",
       "      <td>expenses</td>\n",
       "      <td>NaN</td>\n",
       "    </tr>\n",
       "    <tr>\n",
       "      <th>0</th>\n",
       "      <td>from_poi_vs_from</td>\n",
       "      <td>from_poi_to_this_person</td>\n",
       "      <td>NaN</td>\n",
       "    </tr>\n",
       "    <tr>\n",
       "      <th>0</th>\n",
       "      <td>from_poi_vs_from</td>\n",
       "      <td>exercised_stock_options</td>\n",
       "      <td>NaN</td>\n",
       "    </tr>\n",
       "    <tr>\n",
       "      <th>0</th>\n",
       "      <td>from_poi_vs_from</td>\n",
       "      <td>from_messages</td>\n",
       "      <td>NaN</td>\n",
       "    </tr>\n",
       "    <tr>\n",
       "      <th>0</th>\n",
       "      <td>from_poi_vs_from</td>\n",
       "      <td>other</td>\n",
       "      <td>NaN</td>\n",
       "    </tr>\n",
       "    <tr>\n",
       "      <th>0</th>\n",
       "      <td>from_poi_vs_from</td>\n",
       "      <td>from_this_person_to_poi</td>\n",
       "      <td>NaN</td>\n",
       "    </tr>\n",
       "    <tr>\n",
       "      <th>0</th>\n",
       "      <td>from_poi_vs_from</td>\n",
       "      <td>poi</td>\n",
       "      <td>NaN</td>\n",
       "    </tr>\n",
       "    <tr>\n",
       "      <th>0</th>\n",
       "      <td>from_poi_vs_from</td>\n",
       "      <td>long_term_incentive</td>\n",
       "      <td>NaN</td>\n",
       "    </tr>\n",
       "    <tr>\n",
       "      <th>0</th>\n",
       "      <td>from_poi_vs_from</td>\n",
       "      <td>shared_receipt_with_poi</td>\n",
       "      <td>NaN</td>\n",
       "    </tr>\n",
       "    <tr>\n",
       "      <th>0</th>\n",
       "      <td>from_poi_vs_from</td>\n",
       "      <td>restricted_stock</td>\n",
       "      <td>NaN</td>\n",
       "    </tr>\n",
       "    <tr>\n",
       "      <th>0</th>\n",
       "      <td>from_poi_vs_from</td>\n",
       "      <td>director_fees</td>\n",
       "      <td>NaN</td>\n",
       "    </tr>\n",
       "    <tr>\n",
       "      <th>0</th>\n",
       "      <td>from_poi_vs_from</td>\n",
       "      <td>to_poi_vs_from</td>\n",
       "      <td>NaN</td>\n",
       "    </tr>\n",
       "    <tr>\n",
       "      <th>0</th>\n",
       "      <td>from_poi_vs_from</td>\n",
       "      <td>from_poi_vs_from</td>\n",
       "      <td>NaN</td>\n",
       "    </tr>\n",
       "  </tbody>\n",
       "</table>\n",
       "<p>481 rows × 3 columns</p>\n",
       "</div>"
      ],
      "text/plain": [
       "           Feature 1                  Feature 2     Ratio\n",
       "0             salary          total_stock_value  0.064570\n",
       "0             salary                   expenses  0.048617\n",
       "0             salary            deferred_income  0.045984\n",
       "0             salary  restricted_stock_deferred  0.044175\n",
       "0             salary                      bonus  0.041490\n",
       "0             salary             total_payments  0.039788\n",
       "0             salary              loan_advances  0.039788\n",
       "0             salary              from_messages  0.001469\n",
       "0             salary    exercised_stock_options  0.001468\n",
       "0             salary    from_poi_to_this_person  0.001340\n",
       "0             salary                      other  0.001159\n",
       "0             salary           restricted_stock  0.000806\n",
       "0             salary              director_fees  0.000806\n",
       "0             salary    shared_receipt_with_poi  0.000791\n",
       "0             salary        long_term_incentive  0.000788\n",
       "0             salary    from_this_person_to_poi  0.000772\n",
       "0             salary                        poi  0.000772\n",
       "0             salary             to_poi_vs_from       NaN\n",
       "0             salary           from_poi_vs_from       NaN\n",
       "0        to_messages                     salary       NaN\n",
       "0        to_messages                to_messages       NaN\n",
       "0        to_messages          deferral_payments       NaN\n",
       "0        to_messages             total_payments       NaN\n",
       "0        to_messages              loan_advances       NaN\n",
       "0        to_messages                      bonus       NaN\n",
       "0        to_messages  restricted_stock_deferred       NaN\n",
       "0        to_messages            deferred_income       NaN\n",
       "0        to_messages          total_stock_value       NaN\n",
       "0        to_messages                   expenses       NaN\n",
       "0        to_messages    from_poi_to_this_person       NaN\n",
       "..               ...                        ...       ...\n",
       "0     to_poi_vs_from    from_this_person_to_poi       NaN\n",
       "0     to_poi_vs_from                        poi       NaN\n",
       "0     to_poi_vs_from        long_term_incentive       NaN\n",
       "0     to_poi_vs_from    shared_receipt_with_poi       NaN\n",
       "0     to_poi_vs_from           restricted_stock       NaN\n",
       "0     to_poi_vs_from              director_fees       NaN\n",
       "0     to_poi_vs_from             to_poi_vs_from       NaN\n",
       "0     to_poi_vs_from           from_poi_vs_from       NaN\n",
       "0   from_poi_vs_from                     salary       NaN\n",
       "0   from_poi_vs_from                to_messages       NaN\n",
       "0   from_poi_vs_from          deferral_payments       NaN\n",
       "0   from_poi_vs_from             total_payments       NaN\n",
       "0   from_poi_vs_from              loan_advances       NaN\n",
       "0   from_poi_vs_from                      bonus       NaN\n",
       "0   from_poi_vs_from  restricted_stock_deferred       NaN\n",
       "0   from_poi_vs_from            deferred_income       NaN\n",
       "0   from_poi_vs_from          total_stock_value       NaN\n",
       "0   from_poi_vs_from                   expenses       NaN\n",
       "0   from_poi_vs_from    from_poi_to_this_person       NaN\n",
       "0   from_poi_vs_from    exercised_stock_options       NaN\n",
       "0   from_poi_vs_from              from_messages       NaN\n",
       "0   from_poi_vs_from                      other       NaN\n",
       "0   from_poi_vs_from    from_this_person_to_poi       NaN\n",
       "0   from_poi_vs_from                        poi       NaN\n",
       "0   from_poi_vs_from        long_term_incentive       NaN\n",
       "0   from_poi_vs_from    shared_receipt_with_poi       NaN\n",
       "0   from_poi_vs_from           restricted_stock       NaN\n",
       "0   from_poi_vs_from              director_fees       NaN\n",
       "0   from_poi_vs_from             to_poi_vs_from       NaN\n",
       "0   from_poi_vs_from           from_poi_vs_from       NaN\n",
       "\n",
       "[481 rows x 3 columns]"
      ]
     },
     "execution_count": 50,
     "metadata": {},
     "output_type": "execute_result"
    }
   ],
   "source": [
    "result.sort_values(\"Ratio\", ascending=False)"
   ]
  },
  {
   "cell_type": "code",
   "execution_count": 51,
   "metadata": {
    "collapsed": false,
    "deletable": true,
    "editable": true
   },
   "outputs": [
    {
     "data": {
      "text/plain": [
       "<seaborn.axisgrid.FacetGrid at 0x7fc30e39ecc0>"
      ]
     },
     "execution_count": 51,
     "metadata": {},
     "output_type": "execute_result"
    },
    {
     "data": {
      "image/png": "[encoded data removed]",
      "text/plain": [
       "<matplotlib.figure.Figure at 0x7fc30e39eda0>"
      ]
     },
     "metadata": {},
     "output_type": "display_data"
    }
   ],
   "source": [
    "sns.lmplot(\n",
    "    x=\"salary\", y=\"total_stock_value\", data=data_df, hue=\"poi\")"
   ]
  },
  {
   "cell_type": "code",
   "execution_count": 102,
   "metadata": {
    "collapsed": false,
    "deletable": true,
    "editable": true
   },
   "outputs": [
    {
     "data": {
      "text/html": [
       "<div>\n",
       "<table border=\"1\" class=\"dataframe\">\n",
       "  <thead>\n",
       "    <tr style=\"text-align: right;\">\n",
       "      <th></th>\n",
       "      <th>Feature 1</th>\n",
       "      <th>Feature 2</th>\n",
       "      <th>Ratio</th>\n",
       "    </tr>\n",
       "  </thead>\n",
       "  <tbody>\n",
       "    <tr>\n",
       "      <th>0</th>\n",
       "      <td>Arxidia</td>\n",
       "      <td>Poutses</td>\n",
       "      <td>7.0</td>\n",
       "    </tr>\n",
       "  </tbody>\n",
       "</table>\n",
       "</div>"
      ],
      "text/plain": [
       "  Feature 1 Feature 2  Ratio\n",
       "0   Arxidia   Poutses    7.0"
      ]
     },
     "execution_count": 102,
     "metadata": {},
     "output_type": "execute_result"
    }
   ],
   "source": [
    "result = pd.DataFrame(columns=[\"Feature 1\", \"Feature 2\", \"Ratio\"])\n",
    "addition = pd.DataFrame([[\"Arxidia\", \"Poutses\", 7]], columns=[\"Feature 1\", \"Feature 2\", \"Ratio\"])\n",
    "result = result.append(addition)\n",
    "result"
   ]
  }
 ],
 "metadata": {
  "hide_input": false,
  "kernelspec": {
   "display_name": "Python 3",
   "language": "python",
   "name": "python3"
  },
  "language_info": {
   "codemirror_mode": {
    "name": "ipython",
    "version": 3
   },
   "file_extension": ".py",
   "mimetype": "text/x-python",
   "name": "python",
   "nbconvert_exporter": "python",
   "pygments_lexer": "ipython3",
   "version": "3.6.0"
  },
  "latex_envs": {
   "LaTeX_envs_menu_present": true,
   "bibliofile": "biblio.bib",
   "cite_by": "apalike",
   "current_citInitial": 1,
   "eqLabelWithNumbers": true,
   "eqNumInitial": 1,
   "hotkeys": {
    "equation": "Ctrl-E",
    "itemize": "Ctrl-I"
   },
   "labels_anchors": false,
   "latex_user_defs": false,
   "report_style_numbering": false,
   "user_envs_cfg": false
  },
  "toc": {
   "colors": {
    "hover_highlight": "#DAA520",
    "running_highlight": "#FF0000",
    "selected_highlight": "#FFD700"
   },
   "moveMenuLeft": true,
   "nav_menu": {
    "height": "81px",
    "width": "252px"
   },
   "navigate_menu": true,
   "number_sections": false,
   "sideBar": true,
   "threshold": "2",
   "toc_cell": false,
   "toc_section_display": "block",
   "toc_window_display": false
  }
 },
 "nbformat": 4,
 "nbformat_minor": 2
}
