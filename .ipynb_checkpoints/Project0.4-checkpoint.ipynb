{
 "cells": [
  {
   "cell_type": "code",
   "execution_count": 1,
   "metadata": {
    "collapsed": false,
    "deletable": true,
    "editable": true,
    "hide_input": false
   },
   "outputs": [
    {
     "name": "stderr",
     "output_type": "stream",
     "text": [
      "/home/yannis/anaconda3/lib/python3.6/site-packages/sklearn/cross_validation.py:44: DeprecationWarning: This module was deprecated in version 0.18 in favor of the model_selection module into which all the refactored classes and functions are moved. Also note that the interface of the new CV iterators are different from that of this module. This module will be removed in 0.20.\n",
      "  \"This module will be removed in 0.20.\", DeprecationWarning)\n"
     ]
    }
   ],
   "source": [
    "%matplotlib inline\n",
    "\n",
    "import sys\n",
    "import pickle\n",
    "from tester import test_classifier\n",
    "\n",
    "import numpy as np\n",
    "import pandas as pd\n",
    "import matplotlib.pyplot as plt\n",
    "import seaborn as sns\n",
    "import warnings\n",
    "\n",
    "from sklearn.decomposition import PCA\n",
    "from sklearn.ensemble import AdaBoostClassifier, GradientBoostingClassifier, RandomForestClassifier\n",
    "from sklearn.feature_selection import SelectPercentile, SelectKBest\n",
    "from sklearn.metrics import f1_score\n",
    "from sklearn.model_selection import train_test_split, cross_val_score, GridSearchCV, StratifiedShuffleSplit\n",
    "from sklearn.neighbors import KNeighborsClassifier, RadiusNeighborsClassifier, NearestCentroid, LSHForest\n",
    "from sklearn.pipeline import Pipeline\n",
    "from sklearn.preprocessing import MaxAbsScaler, scale\n",
    "from sklearn.svm import LinearSVC, SVC"
   ]
  },
  {
   "cell_type": "markdown",
   "metadata": {
    "deletable": true,
    "editable": true
   },
   "source": [
    "# Understanding the Dataset"
   ]
  },
  {
   "cell_type": "markdown",
   "metadata": {
    "deletable": true,
    "editable": true
   },
   "source": [
    "## Features"
   ]
  },
  {
   "cell_type": "markdown",
   "metadata": {
    "deletable": true,
    "editable": true
   },
   "source": [
    "***\n",
    "**Salary Features**\n",
    "\n",
    "| Payments            | Definitions of Category Groupings                                                                                                                                                                                                                                                                                                                                                                                                |\n",
    "|---------------------|----------------------------------------------------------------------------------------------------------------------------------------------------------------------------------------------------------------------------------------------------------------------------------------------------------------------------------------------------------------------------------------------------------------------------------|\n",
    "| ***Salary***              | Reflects items such as base salary, executive cash allowances, and benefits payments.                                                                                                                                                                                                                                                                                                                                            |\n",
    "| ***Bonus***               | Reflects annual cash incentives paid based upon company performance. Also may include other retention payments.                                                                                                                                                                                                                                                                                                                  |\n",
    "| ***Long Term Incentive*** | Reflects long-term incentive cash payments from various long-term incentive programs designed to tie executive compensation to long-term success as measuredagainst key performance drivers and business objectives over a multi-year period, generally 3 to 5 years.                                                                                                                                                            |\n",
    "| ***Deferred Income***     | Reflects voluntary executive deferrals of salary, annual cash incentives, and long-term cash incentives as well as cash fees deferred by non-employee directorsunder a deferred compensation arrangement. May also reflect deferrals under a stock option or phantom stock unit in lieu of cash arrangement.                                                                                                                     |\n",
    "| ***Deferral Payments***   | Reflects distributions from a deferred compensation arrangement due to termination of employment or due to in-service withdrawals as per plan provisions.                                                                                                                                                                                                                                                                        |\n",
    "| ***Loan Advances***       | Reflects total amount of loan advances, excluding repayments, provided by the Debtor in return for a promise of repayment. In certain instances, the terms of thepromissory notes allow for the option to repay with stock of the company.                                                                                                                                                                                       |\n",
    "| ***Other***               | Reflects items such as payments for severence, consulting services, relocation costs, tax advances and allowances for employees on international assignment (i.e.housing allowances, cost of living allowances, payments under Enron’s Tax Equalization Program, etc.). May also include payments provided with respect toemployment agreements, as well as imputed income amounts for such things as use of corporate aircraft. |\n",
    "| ***Expenses***            | Reflects reimbursements of business expenses. May include fees paid for consulting services.                                                                                                                                                                                                                                                                                                                                     |\n",
    "| ***Director Fees***       | Reflects cash payments and/or value of stock grants made in lieu of cash payments to non-employee directors.                                                                                                                                                                                                                                                                                                                     |\n",
    "| ***Total Payments***      | Sum of the above values                                                                                                                                                                                                                                                                                                                                                                                                         |\n",
    "***"
   ]
  },
  {
   "cell_type": "markdown",
   "metadata": {
    "deletable": true,
    "editable": true
   },
   "source": [
    "**Stock Features**\n",
    "\n",
    "| Stock Value              | Definitions of Category Groupings                                                                                                                                                                                                                                                                                                                                                       |\n",
    "|--------------------------|-----------------------------------------------------------------------------------------------------------------------------------------------------------------------------------------------------------------------------------------------------------------------------------------------------------------------------------------------------------------------------------------|\n",
    "| ***Exercised Stock Options***  | Reflects amounts from exercised stock options which equal the market value in excess of the exercise price on the date the options were exercised either throughcashless (same-day sale), stock swap or cash exercises. The reflected gain may differ from that realized by the insider due to fluctuations in the market price andthe timing of any subsequent sale of the securities. |\n",
    "| ***Restricted Stock***         | Reflects the gross fair market value of shares and accrued dividends (and/or phantom units and dividend equivalents) on the date of release due to lapse of vestingperiods, regardless of whether deferred.                                                                                                                                                                             |\n",
    "| ***Restricted StockDeferred*** | Reflects value of restricted stock voluntarily deferred prior to release under a deferred compensation arrangement.                                                                                                                                                                                                                                                                     |\n",
    "| ***Total Stock Value***        | Sum of the above values                                                                                                                                                                                                                                                                                                                                                                 |\n",
    "***"
   ]
  },
  {
   "cell_type": "markdown",
   "metadata": {
    "deletable": true,
    "editable": true
   },
   "source": [
    "**email features**\n",
    "\n",
    "| Variable                      | Definition                                                                    |\n",
    "|-------------------------------|-------------------------------------------------------------------------------|\n",
    "| ***to messages***             | Total number of emails received (person's inbox)                              |\n",
    "| ***email address***           | Email address of the person                                                   |\n",
    "| ***from poi to this person*** | Number of emails received by POIs                                             |\n",
    "| ***from messages***           | Total number of emails sent by this person                                    |\n",
    "| ***from this person to poi*** | Number of emails sent by this person to a POI.                                |\n",
    "| ***shared receipt with poi*** | Number of emails addressed by someone else to a POI where this person was CC. |"
   ]
  },
  {
   "cell_type": "markdown",
   "metadata": {
    "deletable": true,
    "editable": true
   },
   "source": [
    "## Data Exploration "
   ]
  },
  {
   "cell_type": "code",
   "execution_count": 2,
   "metadata": {
    "collapsed": false,
    "deletable": true,
    "editable": true
   },
   "outputs": [
    {
     "data": {
      "text/plain": [
       "(146, 21)"
      ]
     },
     "execution_count": 2,
     "metadata": {},
     "output_type": "execute_result"
    }
   ],
   "source": [
    "### Load the dictionary containing the dataset\n",
    "with open(\"./final_project_dataset.pkl\", \"rb\") as data_file:\n",
    "    data_init = pickle.load(data_file)\n",
    "\n",
    "#Converting the dataset from a python dictionary to a pandas dataframe\n",
    "data_df = pd.DataFrame.from_dict(data_init, orient='index')\n",
    "data_df.shape"
   ]
  },
  {
   "cell_type": "markdown",
   "metadata": {
    "collapsed": true,
    "deletable": true,
    "editable": true
   },
   "source": [
    "The dataset contains information across 21 variables for 146 employees.  \n",
    "\n",
    "Let's see how much information we have for each variable."
   ]
  },
  {
   "cell_type": "code",
   "execution_count": 3,
   "metadata": {
    "collapsed": false,
    "deletable": true,
    "editable": true
   },
   "outputs": [
    {
     "data": {
      "text/html": [
       "<div>\n",
       "<table border=\"1\" class=\"dataframe\">\n",
       "  <thead>\n",
       "    <tr style=\"text-align: right;\">\n",
       "      <th></th>\n",
       "      <th>salary</th>\n",
       "      <th>to_messages</th>\n",
       "      <th>deferral_payments</th>\n",
       "      <th>total_payments</th>\n",
       "      <th>loan_advances</th>\n",
       "      <th>bonus</th>\n",
       "      <th>email_address</th>\n",
       "      <th>restricted_stock_deferred</th>\n",
       "      <th>deferred_income</th>\n",
       "      <th>total_stock_value</th>\n",
       "      <th>...</th>\n",
       "      <th>from_poi_to_this_person</th>\n",
       "      <th>exercised_stock_options</th>\n",
       "      <th>from_messages</th>\n",
       "      <th>other</th>\n",
       "      <th>from_this_person_to_poi</th>\n",
       "      <th>poi</th>\n",
       "      <th>long_term_incentive</th>\n",
       "      <th>shared_receipt_with_poi</th>\n",
       "      <th>restricted_stock</th>\n",
       "      <th>director_fees</th>\n",
       "    </tr>\n",
       "  </thead>\n",
       "  <tbody>\n",
       "    <tr>\n",
       "      <th>ALLEN PHILLIP K</th>\n",
       "      <td>201955</td>\n",
       "      <td>2902</td>\n",
       "      <td>2869717</td>\n",
       "      <td>4484442</td>\n",
       "      <td>NaN</td>\n",
       "      <td>4175000</td>\n",
       "      <td>phillip.allen@enron.com</td>\n",
       "      <td>-126027</td>\n",
       "      <td>-3081055</td>\n",
       "      <td>1729541</td>\n",
       "      <td>...</td>\n",
       "      <td>47</td>\n",
       "      <td>1729541</td>\n",
       "      <td>2195</td>\n",
       "      <td>152</td>\n",
       "      <td>65</td>\n",
       "      <td>False</td>\n",
       "      <td>304805</td>\n",
       "      <td>1407</td>\n",
       "      <td>126027</td>\n",
       "      <td>NaN</td>\n",
       "    </tr>\n",
       "    <tr>\n",
       "      <th>BADUM JAMES P</th>\n",
       "      <td>NaN</td>\n",
       "      <td>NaN</td>\n",
       "      <td>178980</td>\n",
       "      <td>182466</td>\n",
       "      <td>NaN</td>\n",
       "      <td>NaN</td>\n",
       "      <td>NaN</td>\n",
       "      <td>NaN</td>\n",
       "      <td>NaN</td>\n",
       "      <td>257817</td>\n",
       "      <td>...</td>\n",
       "      <td>NaN</td>\n",
       "      <td>257817</td>\n",
       "      <td>NaN</td>\n",
       "      <td>NaN</td>\n",
       "      <td>NaN</td>\n",
       "      <td>False</td>\n",
       "      <td>NaN</td>\n",
       "      <td>NaN</td>\n",
       "      <td>NaN</td>\n",
       "      <td>NaN</td>\n",
       "    </tr>\n",
       "    <tr>\n",
       "      <th>BANNANTINE JAMES M</th>\n",
       "      <td>477</td>\n",
       "      <td>566</td>\n",
       "      <td>NaN</td>\n",
       "      <td>916197</td>\n",
       "      <td>NaN</td>\n",
       "      <td>NaN</td>\n",
       "      <td>james.bannantine@enron.com</td>\n",
       "      <td>-560222</td>\n",
       "      <td>-5104</td>\n",
       "      <td>5243487</td>\n",
       "      <td>...</td>\n",
       "      <td>39</td>\n",
       "      <td>4046157</td>\n",
       "      <td>29</td>\n",
       "      <td>864523</td>\n",
       "      <td>0</td>\n",
       "      <td>False</td>\n",
       "      <td>NaN</td>\n",
       "      <td>465</td>\n",
       "      <td>1757552</td>\n",
       "      <td>NaN</td>\n",
       "    </tr>\n",
       "    <tr>\n",
       "      <th>BAXTER JOHN C</th>\n",
       "      <td>267102</td>\n",
       "      <td>NaN</td>\n",
       "      <td>1295738</td>\n",
       "      <td>5634343</td>\n",
       "      <td>NaN</td>\n",
       "      <td>1200000</td>\n",
       "      <td>NaN</td>\n",
       "      <td>NaN</td>\n",
       "      <td>-1386055</td>\n",
       "      <td>10623258</td>\n",
       "      <td>...</td>\n",
       "      <td>NaN</td>\n",
       "      <td>6680544</td>\n",
       "      <td>NaN</td>\n",
       "      <td>2660303</td>\n",
       "      <td>NaN</td>\n",
       "      <td>False</td>\n",
       "      <td>1586055</td>\n",
       "      <td>NaN</td>\n",
       "      <td>3942714</td>\n",
       "      <td>NaN</td>\n",
       "    </tr>\n",
       "    <tr>\n",
       "      <th>BAY FRANKLIN R</th>\n",
       "      <td>239671</td>\n",
       "      <td>NaN</td>\n",
       "      <td>260455</td>\n",
       "      <td>827696</td>\n",
       "      <td>NaN</td>\n",
       "      <td>400000</td>\n",
       "      <td>frank.bay@enron.com</td>\n",
       "      <td>-82782</td>\n",
       "      <td>-201641</td>\n",
       "      <td>63014</td>\n",
       "      <td>...</td>\n",
       "      <td>NaN</td>\n",
       "      <td>NaN</td>\n",
       "      <td>NaN</td>\n",
       "      <td>69</td>\n",
       "      <td>NaN</td>\n",
       "      <td>False</td>\n",
       "      <td>NaN</td>\n",
       "      <td>NaN</td>\n",
       "      <td>145796</td>\n",
       "      <td>NaN</td>\n",
       "    </tr>\n",
       "  </tbody>\n",
       "</table>\n",
       "<p>5 rows × 21 columns</p>\n",
       "</div>"
      ],
      "text/plain": [
       "                    salary to_messages deferral_payments total_payments  \\\n",
       "ALLEN PHILLIP K     201955        2902           2869717        4484442   \n",
       "BADUM JAMES P          NaN         NaN            178980         182466   \n",
       "BANNANTINE JAMES M     477         566               NaN         916197   \n",
       "BAXTER JOHN C       267102         NaN           1295738        5634343   \n",
       "BAY FRANKLIN R      239671         NaN            260455         827696   \n",
       "\n",
       "                   loan_advances    bonus               email_address  \\\n",
       "ALLEN PHILLIP K              NaN  4175000     phillip.allen@enron.com   \n",
       "BADUM JAMES P                NaN      NaN                         NaN   \n",
       "BANNANTINE JAMES M           NaN      NaN  james.bannantine@enron.com   \n",
       "BAXTER JOHN C                NaN  1200000                         NaN   \n",
       "BAY FRANKLIN R               NaN   400000         frank.bay@enron.com   \n",
       "\n",
       "                   restricted_stock_deferred deferred_income  \\\n",
       "ALLEN PHILLIP K                      -126027        -3081055   \n",
       "BADUM JAMES P                            NaN             NaN   \n",
       "BANNANTINE JAMES M                   -560222           -5104   \n",
       "BAXTER JOHN C                            NaN        -1386055   \n",
       "BAY FRANKLIN R                        -82782         -201641   \n",
       "\n",
       "                   total_stock_value      ...      from_poi_to_this_person  \\\n",
       "ALLEN PHILLIP K              1729541      ...                           47   \n",
       "BADUM JAMES P                 257817      ...                          NaN   \n",
       "BANNANTINE JAMES M           5243487      ...                           39   \n",
       "BAXTER JOHN C               10623258      ...                          NaN   \n",
       "BAY FRANKLIN R                 63014      ...                          NaN   \n",
       "\n",
       "                   exercised_stock_options from_messages    other  \\\n",
       "ALLEN PHILLIP K                    1729541          2195      152   \n",
       "BADUM JAMES P                       257817           NaN      NaN   \n",
       "BANNANTINE JAMES M                 4046157            29   864523   \n",
       "BAXTER JOHN C                      6680544           NaN  2660303   \n",
       "BAY FRANKLIN R                         NaN           NaN       69   \n",
       "\n",
       "                   from_this_person_to_poi    poi long_term_incentive  \\\n",
       "ALLEN PHILLIP K                         65  False              304805   \n",
       "BADUM JAMES P                          NaN  False                 NaN   \n",
       "BANNANTINE JAMES M                       0  False                 NaN   \n",
       "BAXTER JOHN C                          NaN  False             1586055   \n",
       "BAY FRANKLIN R                         NaN  False                 NaN   \n",
       "\n",
       "                   shared_receipt_with_poi restricted_stock director_fees  \n",
       "ALLEN PHILLIP K                       1407           126027           NaN  \n",
       "BADUM JAMES P                          NaN              NaN           NaN  \n",
       "BANNANTINE JAMES M                     465          1757552           NaN  \n",
       "BAXTER JOHN C                          NaN          3942714           NaN  \n",
       "BAY FRANKLIN R                         NaN           145796           NaN  \n",
       "\n",
       "[5 rows x 21 columns]"
      ]
     },
     "execution_count": 3,
     "metadata": {},
     "output_type": "execute_result"
    }
   ],
   "source": [
    "data_df.head()"
   ]
  },
  {
   "cell_type": "markdown",
   "metadata": {
    "deletable": true,
    "editable": true
   },
   "source": [
    "There are some NaNs in the dataset. By paying attention to [Payments to Insiders statement](https://github.com/udacity/ud120-projects/blob/master/final_project/enron61702insiderpay.pdf), we can see that wherever there isn't a value it doesn't mean that we don't know the number but that the number is \"0\".  \n",
    "Also the ```email_address``` fields isn't an information we can somehow use during the analysis, it is better to remove this column."
   ]
  },
  {
   "cell_type": "code",
   "execution_count": 4,
   "metadata": {
    "collapsed": false,
    "deletable": true,
    "editable": true
   },
   "outputs": [],
   "source": [
    "data_df.replace(to_replace=\"NaN\", value=0, inplace=True)\n",
    "data_df = data_df.drop(\"email_address\", axis=1)"
   ]
  },
  {
   "cell_type": "markdown",
   "metadata": {
    "deletable": true,
    "editable": true
   },
   "source": [
    "Since some values are related I would like to rearrange column's oder in the following form:  \n",
    "\n",
    "| **POI** | *All payment features* | **Total Payments** | *All stock features* | **Total Stocks** | *Incoming emails features* | **All incoming mails** | *sent emails features* | **All sent emails** |"
   ]
  },
  {
   "cell_type": "code",
   "execution_count": 5,
   "metadata": {
    "collapsed": false,
    "deletable": true,
    "editable": true
   },
   "outputs": [
    {
     "data": {
      "text/html": [
       "<div>\n",
       "<table border=\"1\" class=\"dataframe\">\n",
       "  <thead>\n",
       "    <tr style=\"text-align: right;\">\n",
       "      <th></th>\n",
       "      <th>poi</th>\n",
       "      <th>salary</th>\n",
       "      <th>bonus</th>\n",
       "      <th>long_term_incentive</th>\n",
       "      <th>deferred_income</th>\n",
       "      <th>deferral_payments</th>\n",
       "      <th>loan_advances</th>\n",
       "      <th>other</th>\n",
       "      <th>expenses</th>\n",
       "      <th>director_fees</th>\n",
       "      <th>total_payments</th>\n",
       "      <th>exercised_stock_options</th>\n",
       "      <th>restricted_stock</th>\n",
       "      <th>restricted_stock_deferred</th>\n",
       "      <th>total_stock_value</th>\n",
       "      <th>from_poi_to_this_person</th>\n",
       "      <th>shared_receipt_with_poi</th>\n",
       "      <th>to_messages</th>\n",
       "      <th>from_this_person_to_poi</th>\n",
       "      <th>from_messages</th>\n",
       "    </tr>\n",
       "  </thead>\n",
       "  <tbody>\n",
       "    <tr>\n",
       "      <th>ALLEN PHILLIP K</th>\n",
       "      <td>False</td>\n",
       "      <td>201955</td>\n",
       "      <td>4175000</td>\n",
       "      <td>304805</td>\n",
       "      <td>-3081055</td>\n",
       "      <td>2869717</td>\n",
       "      <td>0</td>\n",
       "      <td>152</td>\n",
       "      <td>13868</td>\n",
       "      <td>0</td>\n",
       "      <td>4484442</td>\n",
       "      <td>1729541</td>\n",
       "      <td>126027</td>\n",
       "      <td>-126027</td>\n",
       "      <td>1729541</td>\n",
       "      <td>47</td>\n",
       "      <td>1407</td>\n",
       "      <td>2902</td>\n",
       "      <td>65</td>\n",
       "      <td>2195</td>\n",
       "    </tr>\n",
       "    <tr>\n",
       "      <th>BADUM JAMES P</th>\n",
       "      <td>False</td>\n",
       "      <td>0</td>\n",
       "      <td>0</td>\n",
       "      <td>0</td>\n",
       "      <td>0</td>\n",
       "      <td>178980</td>\n",
       "      <td>0</td>\n",
       "      <td>0</td>\n",
       "      <td>3486</td>\n",
       "      <td>0</td>\n",
       "      <td>182466</td>\n",
       "      <td>257817</td>\n",
       "      <td>0</td>\n",
       "      <td>0</td>\n",
       "      <td>257817</td>\n",
       "      <td>0</td>\n",
       "      <td>0</td>\n",
       "      <td>0</td>\n",
       "      <td>0</td>\n",
       "      <td>0</td>\n",
       "    </tr>\n",
       "    <tr>\n",
       "      <th>BANNANTINE JAMES M</th>\n",
       "      <td>False</td>\n",
       "      <td>477</td>\n",
       "      <td>0</td>\n",
       "      <td>0</td>\n",
       "      <td>-5104</td>\n",
       "      <td>0</td>\n",
       "      <td>0</td>\n",
       "      <td>864523</td>\n",
       "      <td>56301</td>\n",
       "      <td>0</td>\n",
       "      <td>916197</td>\n",
       "      <td>4046157</td>\n",
       "      <td>1757552</td>\n",
       "      <td>-560222</td>\n",
       "      <td>5243487</td>\n",
       "      <td>39</td>\n",
       "      <td>465</td>\n",
       "      <td>566</td>\n",
       "      <td>0</td>\n",
       "      <td>29</td>\n",
       "    </tr>\n",
       "    <tr>\n",
       "      <th>BAXTER JOHN C</th>\n",
       "      <td>False</td>\n",
       "      <td>267102</td>\n",
       "      <td>1200000</td>\n",
       "      <td>1586055</td>\n",
       "      <td>-1386055</td>\n",
       "      <td>1295738</td>\n",
       "      <td>0</td>\n",
       "      <td>2660303</td>\n",
       "      <td>11200</td>\n",
       "      <td>0</td>\n",
       "      <td>5634343</td>\n",
       "      <td>6680544</td>\n",
       "      <td>3942714</td>\n",
       "      <td>0</td>\n",
       "      <td>10623258</td>\n",
       "      <td>0</td>\n",
       "      <td>0</td>\n",
       "      <td>0</td>\n",
       "      <td>0</td>\n",
       "      <td>0</td>\n",
       "    </tr>\n",
       "    <tr>\n",
       "      <th>BAY FRANKLIN R</th>\n",
       "      <td>False</td>\n",
       "      <td>239671</td>\n",
       "      <td>400000</td>\n",
       "      <td>0</td>\n",
       "      <td>-201641</td>\n",
       "      <td>260455</td>\n",
       "      <td>0</td>\n",
       "      <td>69</td>\n",
       "      <td>129142</td>\n",
       "      <td>0</td>\n",
       "      <td>827696</td>\n",
       "      <td>0</td>\n",
       "      <td>145796</td>\n",
       "      <td>-82782</td>\n",
       "      <td>63014</td>\n",
       "      <td>0</td>\n",
       "      <td>0</td>\n",
       "      <td>0</td>\n",
       "      <td>0</td>\n",
       "      <td>0</td>\n",
       "    </tr>\n",
       "  </tbody>\n",
       "</table>\n",
       "</div>"
      ],
      "text/plain": [
       "                      poi  salary    bonus  long_term_incentive  \\\n",
       "ALLEN PHILLIP K     False  201955  4175000               304805   \n",
       "BADUM JAMES P       False       0        0                    0   \n",
       "BANNANTINE JAMES M  False     477        0                    0   \n",
       "BAXTER JOHN C       False  267102  1200000              1586055   \n",
       "BAY FRANKLIN R      False  239671   400000                    0   \n",
       "\n",
       "                    deferred_income  deferral_payments  loan_advances  \\\n",
       "ALLEN PHILLIP K            -3081055            2869717              0   \n",
       "BADUM JAMES P                     0             178980              0   \n",
       "BANNANTINE JAMES M            -5104                  0              0   \n",
       "BAXTER JOHN C              -1386055            1295738              0   \n",
       "BAY FRANKLIN R              -201641             260455              0   \n",
       "\n",
       "                      other  expenses  director_fees  total_payments  \\\n",
       "ALLEN PHILLIP K         152     13868              0         4484442   \n",
       "BADUM JAMES P             0      3486              0          182466   \n",
       "BANNANTINE JAMES M   864523     56301              0          916197   \n",
       "BAXTER JOHN C       2660303     11200              0         5634343   \n",
       "BAY FRANKLIN R           69    129142              0          827696   \n",
       "\n",
       "                    exercised_stock_options  restricted_stock  \\\n",
       "ALLEN PHILLIP K                     1729541            126027   \n",
       "BADUM JAMES P                        257817                 0   \n",
       "BANNANTINE JAMES M                  4046157           1757552   \n",
       "BAXTER JOHN C                       6680544           3942714   \n",
       "BAY FRANKLIN R                            0            145796   \n",
       "\n",
       "                    restricted_stock_deferred  total_stock_value  \\\n",
       "ALLEN PHILLIP K                       -126027            1729541   \n",
       "BADUM JAMES P                               0             257817   \n",
       "BANNANTINE JAMES M                    -560222            5243487   \n",
       "BAXTER JOHN C                               0           10623258   \n",
       "BAY FRANKLIN R                         -82782              63014   \n",
       "\n",
       "                    from_poi_to_this_person  shared_receipt_with_poi  \\\n",
       "ALLEN PHILLIP K                          47                     1407   \n",
       "BADUM JAMES P                             0                        0   \n",
       "BANNANTINE JAMES M                       39                      465   \n",
       "BAXTER JOHN C                             0                        0   \n",
       "BAY FRANKLIN R                            0                        0   \n",
       "\n",
       "                    to_messages  from_this_person_to_poi  from_messages  \n",
       "ALLEN PHILLIP K            2902                       65           2195  \n",
       "BADUM JAMES P                 0                        0              0  \n",
       "BANNANTINE JAMES M          566                        0             29  \n",
       "BAXTER JOHN C                 0                        0              0  \n",
       "BAY FRANKLIN R                0                        0              0  "
      ]
     },
     "execution_count": 5,
     "metadata": {},
     "output_type": "execute_result"
    }
   ],
   "source": [
    "cols = [\n",
    "    'poi', 'salary', 'bonus', 'long_term_incentive', 'deferred_income',\n",
    "    'deferral_payments', 'loan_advances', 'other', 'expenses', 'director_fees',\n",
    "    'total_payments', 'exercised_stock_options', 'restricted_stock',\n",
    "    'restricted_stock_deferred', 'total_stock_value',\n",
    "    'from_poi_to_this_person', 'shared_receipt_with_poi', 'to_messages',\n",
    "    'from_this_person_to_poi', 'from_messages'\n",
    "]\n",
    "data_df = data_df[cols]\n",
    "data_df.head()"
   ]
  },
  {
   "cell_type": "markdown",
   "metadata": {
    "deletable": true,
    "editable": true
   },
   "source": [
    "Now that we have the features in the right order, we can take a look in the statistics of the dataset."
   ]
  },
  {
   "cell_type": "code",
   "execution_count": 6,
   "metadata": {
    "collapsed": false,
    "deletable": true,
    "editable": true
   },
   "outputs": [
    {
     "data": {
      "text/html": [
       "<div>\n",
       "<table border=\"1\" class=\"dataframe\">\n",
       "  <thead>\n",
       "    <tr style=\"text-align: right;\">\n",
       "      <th></th>\n",
       "      <th>salary</th>\n",
       "      <th>bonus</th>\n",
       "      <th>long_term_incentive</th>\n",
       "      <th>deferred_income</th>\n",
       "      <th>deferral_payments</th>\n",
       "      <th>loan_advances</th>\n",
       "      <th>other</th>\n",
       "      <th>expenses</th>\n",
       "      <th>director_fees</th>\n",
       "      <th>total_payments</th>\n",
       "      <th>exercised_stock_options</th>\n",
       "      <th>restricted_stock</th>\n",
       "      <th>restricted_stock_deferred</th>\n",
       "      <th>total_stock_value</th>\n",
       "      <th>from_poi_to_this_person</th>\n",
       "      <th>shared_receipt_with_poi</th>\n",
       "      <th>to_messages</th>\n",
       "      <th>from_this_person_to_poi</th>\n",
       "      <th>from_messages</th>\n",
       "    </tr>\n",
       "  </thead>\n",
       "  <tbody>\n",
       "    <tr>\n",
       "      <th>count</th>\n",
       "      <td>1.460000e+02</td>\n",
       "      <td>1.460000e+02</td>\n",
       "      <td>1.460000e+02</td>\n",
       "      <td>1.460000e+02</td>\n",
       "      <td>1.460000e+02</td>\n",
       "      <td>1.460000e+02</td>\n",
       "      <td>1.460000e+02</td>\n",
       "      <td>1.460000e+02</td>\n",
       "      <td>1.460000e+02</td>\n",
       "      <td>1.460000e+02</td>\n",
       "      <td>1.460000e+02</td>\n",
       "      <td>1.460000e+02</td>\n",
       "      <td>1.460000e+02</td>\n",
       "      <td>1.460000e+02</td>\n",
       "      <td>146.000000</td>\n",
       "      <td>146.000000</td>\n",
       "      <td>146.000000</td>\n",
       "      <td>146.000000</td>\n",
       "      <td>146.000000</td>\n",
       "    </tr>\n",
       "    <tr>\n",
       "      <th>mean</th>\n",
       "      <td>3.658114e+05</td>\n",
       "      <td>1.333474e+06</td>\n",
       "      <td>6.646839e+05</td>\n",
       "      <td>-3.827622e+05</td>\n",
       "      <td>4.387965e+05</td>\n",
       "      <td>1.149658e+06</td>\n",
       "      <td>5.854318e+05</td>\n",
       "      <td>7.074827e+04</td>\n",
       "      <td>1.942249e+04</td>\n",
       "      <td>4.350622e+06</td>\n",
       "      <td>4.182736e+06</td>\n",
       "      <td>1.749257e+06</td>\n",
       "      <td>2.051637e+04</td>\n",
       "      <td>5.846018e+06</td>\n",
       "      <td>38.226027</td>\n",
       "      <td>692.986301</td>\n",
       "      <td>1221.589041</td>\n",
       "      <td>24.287671</td>\n",
       "      <td>358.602740</td>\n",
       "    </tr>\n",
       "    <tr>\n",
       "      <th>std</th>\n",
       "      <td>2.203575e+06</td>\n",
       "      <td>8.094029e+06</td>\n",
       "      <td>4.046072e+06</td>\n",
       "      <td>2.378250e+06</td>\n",
       "      <td>2.741325e+06</td>\n",
       "      <td>9.649342e+06</td>\n",
       "      <td>3.682345e+06</td>\n",
       "      <td>4.327163e+05</td>\n",
       "      <td>1.190543e+05</td>\n",
       "      <td>2.693448e+07</td>\n",
       "      <td>2.607040e+07</td>\n",
       "      <td>1.089995e+07</td>\n",
       "      <td>1.439661e+06</td>\n",
       "      <td>3.624681e+07</td>\n",
       "      <td>73.901124</td>\n",
       "      <td>1072.969492</td>\n",
       "      <td>2226.770637</td>\n",
       "      <td>79.278206</td>\n",
       "      <td>1441.259868</td>\n",
       "    </tr>\n",
       "    <tr>\n",
       "      <th>min</th>\n",
       "      <td>0.000000e+00</td>\n",
       "      <td>0.000000e+00</td>\n",
       "      <td>0.000000e+00</td>\n",
       "      <td>-2.799289e+07</td>\n",
       "      <td>-1.025000e+05</td>\n",
       "      <td>0.000000e+00</td>\n",
       "      <td>0.000000e+00</td>\n",
       "      <td>0.000000e+00</td>\n",
       "      <td>0.000000e+00</td>\n",
       "      <td>0.000000e+00</td>\n",
       "      <td>0.000000e+00</td>\n",
       "      <td>-2.604490e+06</td>\n",
       "      <td>-7.576788e+06</td>\n",
       "      <td>-4.409300e+04</td>\n",
       "      <td>0.000000</td>\n",
       "      <td>0.000000</td>\n",
       "      <td>0.000000</td>\n",
       "      <td>0.000000</td>\n",
       "      <td>0.000000</td>\n",
       "    </tr>\n",
       "    <tr>\n",
       "      <th>25%</th>\n",
       "      <td>0.000000e+00</td>\n",
       "      <td>0.000000e+00</td>\n",
       "      <td>0.000000e+00</td>\n",
       "      <td>-3.792600e+04</td>\n",
       "      <td>0.000000e+00</td>\n",
       "      <td>0.000000e+00</td>\n",
       "      <td>0.000000e+00</td>\n",
       "      <td>0.000000e+00</td>\n",
       "      <td>0.000000e+00</td>\n",
       "      <td>9.394475e+04</td>\n",
       "      <td>0.000000e+00</td>\n",
       "      <td>8.115000e+03</td>\n",
       "      <td>0.000000e+00</td>\n",
       "      <td>2.288695e+05</td>\n",
       "      <td>0.000000</td>\n",
       "      <td>0.000000</td>\n",
       "      <td>0.000000</td>\n",
       "      <td>0.000000</td>\n",
       "      <td>0.000000</td>\n",
       "    </tr>\n",
       "    <tr>\n",
       "      <th>50%</th>\n",
       "      <td>2.105960e+05</td>\n",
       "      <td>3.000000e+05</td>\n",
       "      <td>0.000000e+00</td>\n",
       "      <td>0.000000e+00</td>\n",
       "      <td>0.000000e+00</td>\n",
       "      <td>0.000000e+00</td>\n",
       "      <td>9.595000e+02</td>\n",
       "      <td>2.018200e+04</td>\n",
       "      <td>0.000000e+00</td>\n",
       "      <td>9.413595e+05</td>\n",
       "      <td>6.082935e+05</td>\n",
       "      <td>3.605280e+05</td>\n",
       "      <td>0.000000e+00</td>\n",
       "      <td>9.659550e+05</td>\n",
       "      <td>2.500000</td>\n",
       "      <td>102.500000</td>\n",
       "      <td>289.000000</td>\n",
       "      <td>0.000000</td>\n",
       "      <td>16.500000</td>\n",
       "    </tr>\n",
       "    <tr>\n",
       "      <th>75%</th>\n",
       "      <td>2.708505e+05</td>\n",
       "      <td>8.000000e+05</td>\n",
       "      <td>3.750648e+05</td>\n",
       "      <td>0.000000e+00</td>\n",
       "      <td>9.684500e+03</td>\n",
       "      <td>0.000000e+00</td>\n",
       "      <td>1.506065e+05</td>\n",
       "      <td>5.374075e+04</td>\n",
       "      <td>0.000000e+00</td>\n",
       "      <td>1.968287e+06</td>\n",
       "      <td>1.714221e+06</td>\n",
       "      <td>8.145280e+05</td>\n",
       "      <td>0.000000e+00</td>\n",
       "      <td>2.319991e+06</td>\n",
       "      <td>40.750000</td>\n",
       "      <td>893.500000</td>\n",
       "      <td>1585.750000</td>\n",
       "      <td>13.750000</td>\n",
       "      <td>51.250000</td>\n",
       "    </tr>\n",
       "    <tr>\n",
       "      <th>max</th>\n",
       "      <td>2.670423e+07</td>\n",
       "      <td>9.734362e+07</td>\n",
       "      <td>4.852193e+07</td>\n",
       "      <td>0.000000e+00</td>\n",
       "      <td>3.208340e+07</td>\n",
       "      <td>8.392500e+07</td>\n",
       "      <td>4.266759e+07</td>\n",
       "      <td>5.235198e+06</td>\n",
       "      <td>1.398517e+06</td>\n",
       "      <td>3.098866e+08</td>\n",
       "      <td>3.117640e+08</td>\n",
       "      <td>1.303223e+08</td>\n",
       "      <td>1.545629e+07</td>\n",
       "      <td>4.345095e+08</td>\n",
       "      <td>528.000000</td>\n",
       "      <td>5521.000000</td>\n",
       "      <td>15149.000000</td>\n",
       "      <td>609.000000</td>\n",
       "      <td>14368.000000</td>\n",
       "    </tr>\n",
       "  </tbody>\n",
       "</table>\n",
       "</div>"
      ],
      "text/plain": [
       "             salary         bonus  long_term_incentive  deferred_income  \\\n",
       "count  1.460000e+02  1.460000e+02         1.460000e+02     1.460000e+02   \n",
       "mean   3.658114e+05  1.333474e+06         6.646839e+05    -3.827622e+05   \n",
       "std    2.203575e+06  8.094029e+06         4.046072e+06     2.378250e+06   \n",
       "min    0.000000e+00  0.000000e+00         0.000000e+00    -2.799289e+07   \n",
       "25%    0.000000e+00  0.000000e+00         0.000000e+00    -3.792600e+04   \n",
       "50%    2.105960e+05  3.000000e+05         0.000000e+00     0.000000e+00   \n",
       "75%    2.708505e+05  8.000000e+05         3.750648e+05     0.000000e+00   \n",
       "max    2.670423e+07  9.734362e+07         4.852193e+07     0.000000e+00   \n",
       "\n",
       "       deferral_payments  loan_advances         other      expenses  \\\n",
       "count       1.460000e+02   1.460000e+02  1.460000e+02  1.460000e+02   \n",
       "mean        4.387965e+05   1.149658e+06  5.854318e+05  7.074827e+04   \n",
       "std         2.741325e+06   9.649342e+06  3.682345e+06  4.327163e+05   \n",
       "min        -1.025000e+05   0.000000e+00  0.000000e+00  0.000000e+00   \n",
       "25%         0.000000e+00   0.000000e+00  0.000000e+00  0.000000e+00   \n",
       "50%         0.000000e+00   0.000000e+00  9.595000e+02  2.018200e+04   \n",
       "75%         9.684500e+03   0.000000e+00  1.506065e+05  5.374075e+04   \n",
       "max         3.208340e+07   8.392500e+07  4.266759e+07  5.235198e+06   \n",
       "\n",
       "       director_fees  total_payments  exercised_stock_options  \\\n",
       "count   1.460000e+02    1.460000e+02             1.460000e+02   \n",
       "mean    1.942249e+04    4.350622e+06             4.182736e+06   \n",
       "std     1.190543e+05    2.693448e+07             2.607040e+07   \n",
       "min     0.000000e+00    0.000000e+00             0.000000e+00   \n",
       "25%     0.000000e+00    9.394475e+04             0.000000e+00   \n",
       "50%     0.000000e+00    9.413595e+05             6.082935e+05   \n",
       "75%     0.000000e+00    1.968287e+06             1.714221e+06   \n",
       "max     1.398517e+06    3.098866e+08             3.117640e+08   \n",
       "\n",
       "       restricted_stock  restricted_stock_deferred  total_stock_value  \\\n",
       "count      1.460000e+02               1.460000e+02       1.460000e+02   \n",
       "mean       1.749257e+06               2.051637e+04       5.846018e+06   \n",
       "std        1.089995e+07               1.439661e+06       3.624681e+07   \n",
       "min       -2.604490e+06              -7.576788e+06      -4.409300e+04   \n",
       "25%        8.115000e+03               0.000000e+00       2.288695e+05   \n",
       "50%        3.605280e+05               0.000000e+00       9.659550e+05   \n",
       "75%        8.145280e+05               0.000000e+00       2.319991e+06   \n",
       "max        1.303223e+08               1.545629e+07       4.345095e+08   \n",
       "\n",
       "       from_poi_to_this_person  shared_receipt_with_poi   to_messages  \\\n",
       "count               146.000000               146.000000    146.000000   \n",
       "mean                 38.226027               692.986301   1221.589041   \n",
       "std                  73.901124              1072.969492   2226.770637   \n",
       "min                   0.000000                 0.000000      0.000000   \n",
       "25%                   0.000000                 0.000000      0.000000   \n",
       "50%                   2.500000               102.500000    289.000000   \n",
       "75%                  40.750000               893.500000   1585.750000   \n",
       "max                 528.000000              5521.000000  15149.000000   \n",
       "\n",
       "       from_this_person_to_poi  from_messages  \n",
       "count               146.000000     146.000000  \n",
       "mean                 24.287671     358.602740  \n",
       "std                  79.278206    1441.259868  \n",
       "min                   0.000000       0.000000  \n",
       "25%                   0.000000       0.000000  \n",
       "50%                   0.000000      16.500000  \n",
       "75%                  13.750000      51.250000  \n",
       "max                 609.000000   14368.000000  "
      ]
     },
     "execution_count": 6,
     "metadata": {},
     "output_type": "execute_result"
    }
   ],
   "source": [
    "data_df.describe()"
   ]
  },
  {
   "cell_type": "markdown",
   "metadata": {
    "deletable": true,
    "editable": true
   },
   "source": [
    "Also let's find out how many POIs we have in the dataset."
   ]
  },
  {
   "cell_type": "code",
   "execution_count": 7,
   "metadata": {
    "collapsed": false,
    "deletable": true,
    "editable": true
   },
   "outputs": [
    {
     "data": {
      "text/plain": [
       "False    128\n",
       "True      18\n",
       "Name: poi, dtype: int64"
      ]
     },
     "execution_count": 7,
     "metadata": {},
     "output_type": "execute_result"
    }
   ],
   "source": [
    "data_df.loc[:, \"poi\"].value_counts()"
   ]
  },
  {
   "cell_type": "markdown",
   "metadata": {
    "deletable": true,
    "editable": true
   },
   "source": [
    "## Outlier Investigation"
   ]
  },
  {
   "cell_type": "markdown",
   "metadata": {
    "deletable": true,
    "editable": true
   },
   "source": [
    "Our first attempt to spot any possible outliers will be visually.  \n",
    "I will use Seaborn's pairplot which present in the same time the distribution of the variables and a scatter plot representation of them. Since the number of variables are too many to plot them all, I will use the 4 with the higher variance."
   ]
  },
  {
   "cell_type": "code",
   "execution_count": 8,
   "metadata": {
    "collapsed": false,
    "deletable": true,
    "editable": true
   },
   "outputs": [
    {
     "data": {
      "text/plain": [
       "<seaborn.axisgrid.PairGrid at 0x7f1cbdbcd4e0>"
      ]
     },
     "execution_count": 8,
     "metadata": {},
     "output_type": "execute_result"
    },
    {
     "data": {
      "image/png": "[encoded data removed]",
      "text/plain": [
       "<matplotlib.figure.Figure at 0x7f1c8a909748>"
      ]
     },
     "metadata": {},
     "output_type": "display_data"
    }
   ],
   "source": [
    "sns.pairplot(data=data_df, vars=[\"total_payments\", \"exercised_stock_options\", \"restricted_stock\", \"total_stock_value\"], hue=\"poi\")"
   ]
  },
  {
   "cell_type": "markdown",
   "metadata": {
    "deletable": true,
    "editable": true
   },
   "source": [
    "There are two datapoints far away from the cluster of the rest. I will use the *Total Payments* to find them."
   ]
  },
  {
   "cell_type": "code",
   "execution_count": 9,
   "metadata": {
    "collapsed": false,
    "deletable": true,
    "editable": true
   },
   "outputs": [
    {
     "data": {
      "text/plain": [
       "TOTAL            309886585\n",
       "LAY KENNETH L    103559793\n",
       "Name: total_payments, dtype: int64"
      ]
     },
     "execution_count": 9,
     "metadata": {},
     "output_type": "execute_result"
    }
   ],
   "source": [
    "data_df.total_payments.nlargest(2)"
   ]
  },
  {
   "cell_type": "markdown",
   "metadata": {
    "deletable": true,
    "editable": true
   },
   "source": [
    "The first one 'TOTAL', is the totals on the [financial statement](./enron61702insiderpay.pdf) and not a person so it should be removed.  \n",
    "The second one is not an outlier, it is just the huge payment and stock value of the CEO and chairman of Enron, Kenneth Lay. Datapoints like this are not outliers; in fact anomalies like this may lead us to the rest of the POIs. \n",
    "These extreme values lead the rest of the employees to the bottom left corner of the scatterplot. Let's use a logarithmic scale for both axes to unclutter the plot."
   ]
  },
  {
   "cell_type": "code",
   "execution_count": 10,
   "metadata": {
    "collapsed": false,
    "deletable": true,
    "editable": true
   },
   "outputs": [],
   "source": [
    "data_df.drop(\"TOTAL\", inplace=True)"
   ]
  },
  {
   "cell_type": "code",
   "execution_count": 11,
   "metadata": {
    "collapsed": false,
    "deletable": true,
    "editable": true
   },
   "outputs": [
    {
     "data": {
      "text/plain": [
       "<seaborn.axisgrid.PairGrid at 0x7f1c84682fd0>"
      ]
     },
     "execution_count": 11,
     "metadata": {},
     "output_type": "execute_result"
    },
    {
     "data": {
      "image/png": "[encoded data removed]",
      "text/plain": [
       "<matplotlib.figure.Figure at 0x7f1c8a75d208>"
      ]
     },
     "metadata": {},
     "output_type": "display_data"
    }
   ],
   "source": [
    "sns.pairplot(data=data_df, vars=[\"total_payments\", \"exercised_stock_options\", \"restricted_stock\", \"total_stock_value\"], hue=\"poi\")"
   ]
  },
  {
   "cell_type": "markdown",
   "metadata": {
    "deletable": true,
    "editable": true
   },
   "source": [
    "With the \"TOTAL\" removed the scatter plots are much more uncluttered and we can see some trends on them.  \n",
    "We can notice also a negative value on *Restricted Stock* variable, an indication that more outliers may exist.  \n",
    "Since the data have been taken from a financial statement an error may have introduced during the data entry / scrapping.  \n",
    "We can make a first sanity by checking if the individual values sum with the totals of each category (*Total Payments*, *Total Stock Value*)."
   ]
  },
  {
   "cell_type": "code",
   "execution_count": 12,
   "metadata": {
    "collapsed": false,
    "deletable": true,
    "editable": true
   },
   "outputs": [
    {
     "name": "stdout",
     "output_type": "stream",
     "text": [
      "salary                  26704229.0\n",
      "bonus                   97343619.0\n",
      "long_term_incentive     48521928.0\n",
      "deferred_income        -27890391.0\n",
      "deferral_payments       31980896.0\n",
      "loan_advances           83925000.0\n",
      "other                   42805453.0\n",
      "expenses                 5094049.0\n",
      "director_fees            1437166.0\n",
      "total_payments         325304226.0\n",
      "dtype: float64\n",
      "---\n",
      "Sum all 'payment' variables: 309921949.0\n"
     ]
    }
   ],
   "source": [
    "print(data_df.sum()[1:11])\n",
    "print(\"---\")\n",
    "print(\"Sum all 'payment' variables:\", sum(data_df.sum()[1:10]))"
   ]
  },
  {
   "cell_type": "code",
   "execution_count": 13,
   "metadata": {
    "collapsed": false,
    "deletable": true,
    "editable": true
   },
   "outputs": [
    {
     "name": "stdout",
     "output_type": "stream",
     "text": [
      "exercised_stock_options      298915485.0\n",
      "restricted_stock             125069226.0\n",
      "restricted_stock_deferred     10572178.0\n",
      "total_stock_value            419009128.0\n",
      "dtype: float64\n",
      "---\n",
      "Sum all 'stock' variables: 434556889.0\n"
     ]
    }
   ],
   "source": [
    "print(data_df.sum()[11:15])\n",
    "print(\"---\")\n",
    "print(\"Sum all 'stock' variables:\", sum(data_df.sum()[11:14]))"
   ]
  },
  {
   "cell_type": "markdown",
   "metadata": {
    "deletable": true,
    "editable": true
   },
   "source": [
    "We can see that the totals do not match. We need to check employee by employee to find the errors."
   ]
  },
  {
   "cell_type": "code",
   "execution_count": 14,
   "metadata": {
    "collapsed": false,
    "deletable": true,
    "editable": true
   },
   "outputs": [
    {
     "data": {
      "text/html": [
       "<div>\n",
       "<table border=\"1\" class=\"dataframe\">\n",
       "  <thead>\n",
       "    <tr style=\"text-align: right;\">\n",
       "      <th></th>\n",
       "      <th>poi</th>\n",
       "      <th>salary</th>\n",
       "      <th>bonus</th>\n",
       "      <th>long_term_incentive</th>\n",
       "      <th>deferred_income</th>\n",
       "      <th>deferral_payments</th>\n",
       "      <th>loan_advances</th>\n",
       "      <th>other</th>\n",
       "      <th>expenses</th>\n",
       "      <th>director_fees</th>\n",
       "      <th>total_payments</th>\n",
       "      <th>exercised_stock_options</th>\n",
       "      <th>restricted_stock</th>\n",
       "      <th>restricted_stock_deferred</th>\n",
       "      <th>total_stock_value</th>\n",
       "      <th>from_poi_to_this_person</th>\n",
       "      <th>shared_receipt_with_poi</th>\n",
       "      <th>to_messages</th>\n",
       "      <th>from_this_person_to_poi</th>\n",
       "      <th>from_messages</th>\n",
       "    </tr>\n",
       "  </thead>\n",
       "  <tbody>\n",
       "    <tr>\n",
       "      <th>BELFER ROBERT</th>\n",
       "      <td>False</td>\n",
       "      <td>0</td>\n",
       "      <td>0</td>\n",
       "      <td>0</td>\n",
       "      <td>0</td>\n",
       "      <td>-102500</td>\n",
       "      <td>0</td>\n",
       "      <td>0</td>\n",
       "      <td>0</td>\n",
       "      <td>3285</td>\n",
       "      <td>102500</td>\n",
       "      <td>3285</td>\n",
       "      <td>0</td>\n",
       "      <td>44093</td>\n",
       "      <td>-44093</td>\n",
       "      <td>0</td>\n",
       "      <td>0</td>\n",
       "      <td>0</td>\n",
       "      <td>0</td>\n",
       "      <td>0</td>\n",
       "    </tr>\n",
       "    <tr>\n",
       "      <th>BHATNAGAR SANJAY</th>\n",
       "      <td>False</td>\n",
       "      <td>0</td>\n",
       "      <td>0</td>\n",
       "      <td>0</td>\n",
       "      <td>0</td>\n",
       "      <td>0</td>\n",
       "      <td>0</td>\n",
       "      <td>137864</td>\n",
       "      <td>0</td>\n",
       "      <td>137864</td>\n",
       "      <td>15456290</td>\n",
       "      <td>2604490</td>\n",
       "      <td>-2604490</td>\n",
       "      <td>15456290</td>\n",
       "      <td>0</td>\n",
       "      <td>0</td>\n",
       "      <td>463</td>\n",
       "      <td>523</td>\n",
       "      <td>1</td>\n",
       "      <td>29</td>\n",
       "    </tr>\n",
       "  </tbody>\n",
       "</table>\n",
       "</div>"
      ],
      "text/plain": [
       "                    poi  salary  bonus  long_term_incentive  deferred_income  \\\n",
       "BELFER ROBERT     False       0      0                    0                0   \n",
       "BHATNAGAR SANJAY  False       0      0                    0                0   \n",
       "\n",
       "                  deferral_payments  loan_advances   other  expenses  \\\n",
       "BELFER ROBERT               -102500              0       0         0   \n",
       "BHATNAGAR SANJAY                  0              0  137864         0   \n",
       "\n",
       "                  director_fees  total_payments  exercised_stock_options  \\\n",
       "BELFER ROBERT              3285          102500                     3285   \n",
       "BHATNAGAR SANJAY         137864        15456290                  2604490   \n",
       "\n",
       "                  restricted_stock  restricted_stock_deferred  \\\n",
       "BELFER ROBERT                    0                      44093   \n",
       "BHATNAGAR SANJAY          -2604490                   15456290   \n",
       "\n",
       "                  total_stock_value  from_poi_to_this_person  \\\n",
       "BELFER ROBERT                -44093                        0   \n",
       "BHATNAGAR SANJAY                  0                        0   \n",
       "\n",
       "                  shared_receipt_with_poi  to_messages  \\\n",
       "BELFER ROBERT                           0            0   \n",
       "BHATNAGAR SANJAY                      463          523   \n",
       "\n",
       "                  from_this_person_to_poi  from_messages  \n",
       "BELFER ROBERT                           0              0  \n",
       "BHATNAGAR SANJAY                        1             29  "
      ]
     },
     "execution_count": 14,
     "metadata": {},
     "output_type": "execute_result"
    }
   ],
   "source": [
    "alist = []\n",
    "for line in data_df.itertuples():\n",
    "    if sum(line[2:11]) != line[11] or sum(line[12:15]) != line[15]:\n",
    "        alist.append(line[0])\n",
    "data_df.loc[alist]"
   ]
  },
  {
   "cell_type": "markdown",
   "metadata": {
    "deletable": true,
    "editable": true
   },
   "source": [
    "Comparing the above results with the [financial statement](./enron61702insiderpay.pdf) we can see that there are some errors in the data.  \n",
    "The right values are:\n",
    "\n",
    "|               | poi | salary | deferral_payments | loan_advances | bonus | deferred_income | expenses | other | long_term_incentive | director_fees | total_payments | restricted_stock_deferred | exercised_stock_options | restricted_stock | total_stock_value |\n",
    "|-------------------|--------|-------------------|---------------|-------|-----------------|----------|-------|---------------------|---------------|----------------|---------------------------|-------------------------|------------------|-------------------|\n",
    "| **BELFER ROBERT** | False | 0      | 0                 | 0             | 0     | -102500        | 3285    | 0     | 0                   | 102500       | 3285          | -44093                   | 0                       | 44093           | 0                 |\n",
    "| **BHATNAGAR SANJAY** | False | 0      | 0                 | 0             | 0     | 0               | 137864  |   0    | 0                   | 0             | 137864        | -2604490                | 15456290              | 2604490        | 15456290        |\n"
   ]
  },
  {
   "cell_type": "code",
   "execution_count": 15,
   "metadata": {
    "collapsed": false,
    "deletable": true,
    "editable": true
   },
   "outputs": [],
   "source": [
    "data_df.loc[\"BELFER ROBERT\", :] = [False, 0, 0, 0, 0, -102500, 3285, 0, 0, 102500, 3285, -44093, 0, 44093, 0, 0, 0, 0, 0, 0]\n",
    "data_df.loc[\"BHATNAGAR SANJAY\", :] = [False, 0, 0, 0, 0, 0, 137864, 0, 0, 0, 137864, -2604490, 15456290, 2604490, 15456290, 0, 463, 523, 1, 29]\n"
   ]
  },
  {
   "cell_type": "markdown",
   "metadata": {
    "deletable": true,
    "editable": true
   },
   "source": [
    "Now that we do not have any more outliers we can plot the two aggregated variables, *Total Payments* and *Total Stock Value*."
   ]
  },
  {
   "cell_type": "code",
   "execution_count": 16,
   "metadata": {
    "collapsed": false,
    "deletable": true,
    "editable": true
   },
   "outputs": [
    {
     "data": {
      "image/png": "[encoded data removed]",
      "text/plain": [
       "<matplotlib.figure.Figure at 0x7f1c82f64780>"
      ]
     },
     "metadata": {},
     "output_type": "display_data"
    }
   ],
   "source": [
    "fig, ax = plt.subplots()\n",
    "for poi, data in data_df.groupby(by=\"poi\"):\n",
    "    ax.plot(data['total_payments'],data['total_stock_value'],'o', label=poi)\n",
    "ax.legend()\n",
    "plt.xscale('symlog')\n",
    "plt.yscale('symlog')\n",
    "plt.xlabel(\"Total Payments\")\n",
    "plt.ylabel(\"Total Stock Value\")\n",
    "\n",
    "plt.show()"
   ]
  },
  {
   "cell_type": "markdown",
   "metadata": {
    "deletable": true,
    "editable": true
   },
   "source": [
    "We can see that there are some persons with zero salary or bonus (or both) and none of them is a POI. Since we have a sparse number of POIs it might beneficial to remove them to have a more dense dataset. I will create a copy of the dataset with the specific persons removed for further evaluation."
   ]
  },
  {
   "cell_type": "code",
   "execution_count": 17,
   "metadata": {
    "collapsed": false,
    "deletable": true,
    "editable": true
   },
   "outputs": [
    {
     "data": {
      "text/plain": [
       "(81, 20)"
      ]
     },
     "execution_count": 17,
     "metadata": {},
     "output_type": "execute_result"
    }
   ],
   "source": [
    "data_nbs = data_df[data_df.salary > 0]\n",
    "data_nbs = data_nbs[data_nbs.bonus > 0]\n",
    "data_nbs.shape"
   ]
  },
  {
   "cell_type": "markdown",
   "metadata": {
    "deletable": true,
    "editable": true
   },
   "source": [
    "Now that the dataset is clear of outliers we can split it to training and testing and have a first scoring as a baseline. I will use the LinearSVC classifier which seems the more appropriate to begin."
   ]
  },
  {
   "cell_type": "code",
   "execution_count": 18,
   "metadata": {
    "collapsed": false,
    "deletable": true,
    "editable": true
   },
   "outputs": [],
   "source": [
    "def do_split(data, rnd=42):\n",
    "    X = data.copy()\n",
    "    #Removing the poi labels and put them in a separate array, transforming it\n",
    "    #from True / False to 0 / 1\n",
    "    y = X.pop(\"poi\").astype(int)\n",
    "    X_train, X_test, y_train, y_test = train_test_split(X, y, random_state=rnd)\n",
    "    data_train = pd.concat([y_train, X_train], axis=1)\n",
    "    data_test = pd.concat([y_test, X_test], axis=1)\n",
    "    \n",
    "    return X_train, X_test, y_train, y_test, data_train, data_test"
   ]
  },
  {
   "cell_type": "code",
   "execution_count": 19,
   "metadata": {
    "collapsed": false,
    "deletable": true,
    "editable": true,
    "scrolled": true
   },
   "outputs": [
    {
     "name": "stdout",
     "output_type": "stream",
     "text": [
      "LinearSVC(C=1.0, class_weight=None, dual=True, fit_intercept=True,\n",
      "     intercept_scaling=1, loss='squared_hinge', max_iter=1000,\n",
      "     multi_class='ovr', penalty='l2', random_state=42, tol=0.0001,\n",
      "     verbose=0)\n",
      "\tAccuracy: 0.74382\tPrecision: 0.12928\tRecall: 0.31700\tF1: 0.18366\tF2: 0.24566\n",
      "\tTotal predictions: 11000\tTrue positives:  317\tFalse positives: 2135\tFalse negatives:  683\tTrue negatives: 7865\n",
      "\n"
     ]
    }
   ],
   "source": [
    "X_train, X_test, y_train, y_test, data_train, data_test = do_split(data_df)\n",
    "\n",
    "#test_classifier() demands the dataset in a dictionary and the features labels\n",
    "#in a list with 'poi' first.\n",
    "features = data_train.columns.tolist()\n",
    "data = data_train.to_dict(orient='index')\n",
    "\n",
    "test_classifier(LinearSVC(random_state=42), data, features)"
   ]
  },
  {
   "cell_type": "markdown",
   "metadata": {
    "deletable": true,
    "editable": true
   },
   "source": [
    "# Optimize Feature Selection/Engineering"
   ]
  },
  {
   "cell_type": "markdown",
   "metadata": {
    "deletable": true,
    "editable": true
   },
   "source": [
    "## Create new features"
   ]
  },
  {
   "cell_type": "markdown",
   "metadata": {
    "deletable": true,
    "editable": true
   },
   "source": [
    "In some cases the value of a variable is less important than its proportion to another value. As an example from the current dataset we cannot judge if a bonus of 100,000 is high or low but a bonus that it's 3 times the salary is huge.  \n",
    "The same happens with emails, \"500 sent email to POIs\" does not give so much information as \"half of the sent emails have been sent to POIs\".  \n",
    "For the above reason I will add to the variables the proportions of the variables of each category (Salaries, Stocks, Sent emails, Received emails) to the categories sum to the dataset."
   ]
  },
  {
   "cell_type": "code",
   "execution_count": 20,
   "metadata": {
    "collapsed": false,
    "deletable": true,
    "editable": true
   },
   "outputs": [],
   "source": [
    "def create_proportions(dataset):\n",
    "    data = dataset.copy()\n",
    "    data.loc[:, \"salary_p\"] = data.loc[:, \"salary\"]/data.loc[:, \"total_payments\"]\n",
    "    data.loc[:, \"deferral_payments_p\"] = data.loc[:, \"deferral_payments\"]/data.loc[:, \"total_payments\"]\n",
    "    data.loc[:, \"loan_advances_p\"] = data.loc[:, \"loan_advances\"]/data.loc[:, \"total_payments\"]\n",
    "    data.loc[:, \"bonus_p\"] = data.loc[:, \"bonus\"]/data.loc[:, \"total_payments\"]\n",
    "    data.loc[:, \"deferred_income_p\"] = data.loc[:, \"deferred_income\"]/data.loc[:, \"total_payments\"]\n",
    "    data.loc[:, \"expenses_p\"] = data.loc[:, \"expenses\"]/data.loc[:, \"total_payments\"]\n",
    "    data.loc[:, \"other_p\"] = data.loc[:, \"other\"]/data.loc[:, \"total_payments\"]\n",
    "    data.loc[:, \"long_term_incentive_p\"] = data.loc[:, \"long_term_incentive\"]/data.loc[:, \"total_payments\"]\n",
    "    data.loc[:, \"director_fees_p\"] = data.loc[:, \"director_fees\"]/data.loc[:, \"total_payments\"]\n",
    "\n",
    "    data.loc[:, \"restricted_stock_deferred_p\"] = data.loc[:, \"restricted_stock_deferred\"]/data.loc[:, \"total_stock_value\"]\n",
    "    data.loc[:, \"exercised_stock_options_p\"] = data.loc[:, \"exercised_stock_options\"]/data.loc[:, \"total_stock_value\"]\n",
    "    data.loc[:, \"restricted_stock_p\"] = data.loc[:, \"restricted_stock\"]/data.loc[:, \"total_stock_value\"]\n",
    "\n",
    "    data.loc[:, \"from_poi_to_this_person_p\"] = data.loc[:, \"from_poi_to_this_person\"]/data.loc[:, \"to_messages\"]\n",
    "    data.loc[:, \"shared_receipt_with_poi_p\"] = data.loc[:, \"shared_receipt_with_poi\"]/data.loc[:, \"to_messages\"]\n",
    "\n",
    "    data.loc[:, \"from_this_person_to_poi_p\"] = data.loc[:, \"from_this_person_to_poi\"]/data.loc[:, \"from_messages\"]\n",
    "    \n",
    "    data.replace(to_replace=np.NaN, value=0, inplace=True)\n",
    "    data.replace(to_replace=np.inf, value=0, inplace=True)\n",
    "    data.replace(to_replace=-np.inf, value=0, inplace=True)\n",
    "    \n",
    "    return data"
   ]
  },
  {
   "cell_type": "code",
   "execution_count": 21,
   "metadata": {
    "collapsed": true,
    "deletable": true,
    "editable": true
   },
   "outputs": [],
   "source": [
    "data = create_proportions(data_df)"
   ]
  },
  {
   "cell_type": "markdown",
   "metadata": {
    "deletable": true,
    "editable": true
   },
   "source": [
    "Now we can split the dataset again and score the features to see if the new features added any information to the dataset."
   ]
  },
  {
   "cell_type": "code",
   "execution_count": 22,
   "metadata": {
    "collapsed": false,
    "deletable": true,
    "editable": true
   },
   "outputs": [],
   "source": [
    "def plot_importance(dataset):\n",
    "    X_train, X_test, y_train, y_test, data_train, data_test = do_split(data)\n",
    "\n",
    "    selector = SelectPercentile(percentile=100)\n",
    "    a = selector.fit(X_train, y_train)\n",
    "\n",
    "    plt.figure(figsize=(12,9))\n",
    "    sns.barplot(y=X_train.columns, x=a.scores_)"
   ]
  },
  {
   "cell_type": "code",
   "execution_count": 23,
   "metadata": {
    "collapsed": false,
    "deletable": true,
    "editable": true
   },
   "outputs": [
    {
     "data": {
      "image/png": "[encoded data removed]",
      "text/plain": [
       "<matplotlib.figure.Figure at 0x7f1c810f1da0>"
      ]
     },
     "metadata": {},
     "output_type": "display_data"
    }
   ],
   "source": [
    "plot_importance(data)"
   ]
  },
  {
   "cell_type": "markdown",
   "metadata": {
    "deletable": true,
    "editable": true
   },
   "source": [
    "Some of the new features have a higher than average score but if you compare them with the original features they do not score better (e.g. \"Bonus\" scores better than \"Bonus / Total Payments\"). The only exception and the only feature we will keep is \"From this person to POI / Total Sent email\"."
   ]
  },
  {
   "cell_type": "code",
   "execution_count": 24,
   "metadata": {
    "collapsed": true,
    "deletable": true,
    "editable": true
   },
   "outputs": [],
   "source": [
    "def create_mail_proporsion(dataset):\n",
    "    dataset.loc[:, \"from_this_person_to_poi_p\"] = dataset.loc[:, \"from_this_person_to_poi\"]/dataset.loc[:, \"from_messages\"]\n",
    "    dataset.replace(to_replace=np.NaN, value=0, inplace=True)\n",
    "    \n",
    "    return dataset"
   ]
  },
  {
   "cell_type": "code",
   "execution_count": 25,
   "metadata": {
    "collapsed": false,
    "deletable": true,
    "editable": true
   },
   "outputs": [
    {
     "data": {
      "image/png": "[encoded data removed]",
      "text/plain": [
       "<matplotlib.figure.Figure at 0x7f1c810702b0>"
      ]
     },
     "metadata": {},
     "output_type": "display_data"
    }
   ],
   "source": [
    "data = create_mail_proporsion(data_df)\n",
    "plot_importance(data)"
   ]
  },
  {
   "cell_type": "code",
   "execution_count": 26,
   "metadata": {
    "collapsed": false,
    "deletable": true,
    "editable": true,
    "scrolled": true
   },
   "outputs": [
    {
     "name": "stdout",
     "output_type": "stream",
     "text": [
      "LinearSVC(C=1.0, class_weight=None, dual=True, fit_intercept=True,\n",
      "     intercept_scaling=1, loss='squared_hinge', max_iter=1000,\n",
      "     multi_class='ovr', penalty='l2', random_state=42, tol=0.0001,\n",
      "     verbose=0)\n",
      "\tAccuracy: 0.74382\tPrecision: 0.12928\tRecall: 0.31700\tF1: 0.18366\tF2: 0.24566\n",
      "\tTotal predictions: 11000\tTrue positives:  317\tFalse positives: 2135\tFalse negatives:  683\tTrue negatives: 7865\n",
      "\n"
     ]
    }
   ],
   "source": [
    "X_train, X_test, y_train, y_test, data_train, data_test = do_split(data)\n",
    "\n",
    "#test_classifier() demands the dataset in a dictionary and the features labels\n",
    "#in a list with 'poi' first.\n",
    "features = data_train.columns.tolist()\n",
    "data = data_train.to_dict(orient='index')\n",
    "\n",
    "test_classifier(LinearSVC(random_state=42), data, features)"
   ]
  },
  {
   "cell_type": "markdown",
   "metadata": {
    "deletable": true,
    "editable": true
   },
   "source": [
    "## Feature Selection"
   ]
  },
  {
   "cell_type": "markdown",
   "metadata": {
    "deletable": true,
    "editable": true
   },
   "source": [
    "For feature selection I will use LinearSVC classifier and I will test both univariate feature selection (KBest) and primary component analysis."
   ]
  },
  {
   "cell_type": "code",
   "execution_count": 27,
   "metadata": {
    "collapsed": false,
    "deletable": true,
    "editable": true
   },
   "outputs": [
    {
     "data": {
      "image/png": "[encoded data removed]",
      "text/plain": [
       "<matplotlib.figure.Figure at 0x7f1c834868d0>"
      ]
     },
     "metadata": {},
     "output_type": "display_data"
    },
    {
     "data": {
      "text/plain": [
       "Pipeline(steps=[('reduce_dim', PCA(copy=True, iterated_power='auto', n_components=2, random_state=42,\n",
       "  svd_solver='auto', tol=0.0, whiten=False)), ('classify', LinearSVC(C=1.0, class_weight=None, dual=True, fit_intercept=True,\n",
       "     intercept_scaling=1, loss='squared_hinge', max_iter=1000,\n",
       "     multi_class='ovr', penalty='l2', random_state=42, tol=0.0001,\n",
       "     verbose=0))])"
      ]
     },
     "execution_count": 27,
     "metadata": {},
     "output_type": "execute_result"
    }
   ],
   "source": [
    "warnings.filterwarnings('ignore')\n",
    "\n",
    "pipe = Pipeline([('reduce_dim', PCA(random_state=42)),\n",
    "                 ('classify', LinearSVC(random_state=42))])\n",
    "\n",
    "N_FEATURES_OPTIONS = list(range(2,21))\n",
    "\n",
    "param_grid = [\n",
    "    {\n",
    "        'reduce_dim': [PCA(random_state=42)],\n",
    "        'reduce_dim__n_components': N_FEATURES_OPTIONS,\n",
    "    },\n",
    "    {\n",
    "        'reduce_dim': [SelectKBest()],\n",
    "        'reduce_dim__k': N_FEATURES_OPTIONS,\n",
    "    },\n",
    "]\n",
    "reducer_labels = ['PCA', 'KBest']\n",
    "cv = StratifiedShuffleSplit(random_state=42)\n",
    "grid = GridSearchCV(\n",
    "    pipe, param_grid=param_grid, cv=cv, scoring='f1', n_jobs=-1)\n",
    "\n",
    "grid.fit(X_train, y_train)\n",
    "\n",
    "mean_scores = np.array(grid.cv_results_['mean_test_score'])\n",
    "mean_scores = mean_scores.reshape(-1, len(N_FEATURES_OPTIONS))\n",
    "bar_offsets = (np.arange(len(N_FEATURES_OPTIONS)) *\n",
    "               (len(reducer_labels) + 1) + .5)\n",
    "plt.figure(figsize=(12,9))\n",
    "\n",
    "for i, (label, reducer_scores) in enumerate(zip(reducer_labels, mean_scores)):\n",
    "    plt.bar(bar_offsets + i, reducer_scores, label=label)\n",
    "\n",
    "plt.title(\"Comparing feature reduction techniques\")\n",
    "plt.xlabel('Reduced number of features')\n",
    "plt.xticks(bar_offsets + len(reducer_labels) / 2, N_FEATURES_OPTIONS)\n",
    "plt.ylabel('Classification accuracy')\n",
    "plt.ylim((0, 0.4))\n",
    "plt.legend(loc='upper left')\n",
    "\n",
    "plt.show()\n",
    "grid.best_estimator_"
   ]
  },
  {
   "cell_type": "markdown",
   "metadata": {
    "deletable": true,
    "editable": true
   },
   "source": [
    "We can see that we get the best result by using PCA with 2 components. The score with these parameters is:"
   ]
  },
  {
   "cell_type": "code",
   "execution_count": 28,
   "metadata": {
    "collapsed": false,
    "deletable": true,
    "editable": true
   },
   "outputs": [
    {
     "name": "stdout",
     "output_type": "stream",
     "text": [
      "Pipeline(steps=[('reduce_dim', PCA(copy=True, iterated_power='auto', n_components=2, random_state=42,\n",
      "  svd_solver='auto', tol=0.0, whiten=False)), ('classify', LinearSVC(C=1.0, class_weight=None, dual=True, fit_intercept=True,\n",
      "     intercept_scaling=1, loss='squared_hinge', max_iter=1000,\n",
      "     multi_class='ovr', penalty='l2', random_state=42, tol=0.0001,\n",
      "     verbose=0))])\n",
      "\tAccuracy: 0.69445\tPrecision: 0.11932\tRecall: 0.37000\tF1: 0.18044\tF2: 0.26053\n",
      "\tTotal predictions: 11000\tTrue positives:  370\tFalse positives: 2731\tFalse negatives:  630\tTrue negatives: 7269\n",
      "\n"
     ]
    }
   ],
   "source": [
    "features = data_train.columns.tolist()\n",
    "data = data_train.to_dict(orient='index')\n",
    "test_classifier(grid.best_estimator_, data, features)"
   ]
  },
  {
   "cell_type": "markdown",
   "metadata": {
    "deletable": true,
    "editable": true
   },
   "source": [
    "## Features Scaling"
   ]
  },
  {
   "cell_type": "markdown",
   "metadata": {
    "deletable": true,
    "editable": true
   },
   "source": [
    "Since PCA gives better results than univariate selection, we need to scale the features and run it again.  \n",
    "Having sparse data it is better to use ```MaxAbsScaler()``` for the scaling."
   ]
  },
  {
   "cell_type": "code",
   "execution_count": 29,
   "metadata": {
    "collapsed": false,
    "deletable": true,
    "editable": true
   },
   "outputs": [
    {
     "data": {
      "image/png": "[encoded data removed]",
      "text/plain": [
       "<matplotlib.figure.Figure at 0x7f1c83380ef0>"
      ]
     },
     "metadata": {},
     "output_type": "display_data"
    },
    {
     "data": {
      "text/plain": [
       "Pipeline(steps=[('scale', MaxAbsScaler(copy=True)), ('reduce_dim', PCA(copy=True, iterated_power='auto', n_components=2, random_state=42,\n",
       "  svd_solver='auto', tol=0.0, whiten=False)), ('classify', LinearSVC(C=1.0, class_weight=None, dual=True, fit_intercept=True,\n",
       "     intercept_scaling=1, loss='squared_hinge', max_iter=1000,\n",
       "     multi_class='ovr', penalty='l2', random_state=42, tol=0.0001,\n",
       "     verbose=0))])"
      ]
     },
     "execution_count": 29,
     "metadata": {},
     "output_type": "execute_result"
    }
   ],
   "source": [
    "#warnings.filterwarnings('ignore')\n",
    "\n",
    "pipe = Pipeline([('scale', MaxAbsScaler()),\n",
    "                 ('reduce_dim', PCA(random_state=42)),\n",
    "                 ('classify', LinearSVC(random_state=42))])\n",
    "\n",
    "N_FEATURES_OPTIONS = list(range(2, 21))\n",
    "\n",
    "param_grid = [\n",
    "    {\n",
    "        'reduce_dim': [PCA(random_state=42)],\n",
    "        'reduce_dim__n_components': N_FEATURES_OPTIONS,\n",
    "    },\n",
    "    {\n",
    "        'reduce_dim': [SelectKBest()],\n",
    "        'reduce_dim__k': N_FEATURES_OPTIONS,\n",
    "    },\n",
    "]\n",
    "reducer_labels = ['PCA', 'KBest']\n",
    "cv = StratifiedShuffleSplit(random_state=42)\n",
    "grid = GridSearchCV(\n",
    "    pipe, param_grid=param_grid, cv=cv, scoring='f1', n_jobs=-1)\n",
    "\n",
    "grid.fit(X_train, y_train)\n",
    "\n",
    "mean_scores = np.array(grid.cv_results_['mean_test_score'])\n",
    "mean_scores = mean_scores.reshape(-1, len(N_FEATURES_OPTIONS))\n",
    "bar_offsets = (np.arange(len(N_FEATURES_OPTIONS)) *\n",
    "               (len(reducer_labels) + 1) + .5)\n",
    "plt.figure(figsize=(12,9))\n",
    "\n",
    "for i, (label, reducer_scores) in enumerate(zip(reducer_labels, mean_scores)):\n",
    "    plt.bar(bar_offsets + i, reducer_scores, label=label)\n",
    "\n",
    "plt.title(\"Comparing feature reduction techniques\")\n",
    "plt.xlabel('Reduced number of features')\n",
    "plt.xticks(bar_offsets + len(reducer_labels) / 2, N_FEATURES_OPTIONS)\n",
    "plt.ylabel('Classification accuracy')\n",
    "plt.ylim((0, 0.4))\n",
    "plt.legend(loc='upper left')\n",
    "\n",
    "plt.show()\n",
    "grid.best_estimator_"
   ]
  },
  {
   "cell_type": "code",
   "execution_count": 30,
   "metadata": {
    "collapsed": false,
    "deletable": true,
    "editable": true
   },
   "outputs": [
    {
     "name": "stdout",
     "output_type": "stream",
     "text": [
      "Pipeline(steps=[('scale', MaxAbsScaler(copy=True)), ('reduce_dim', PCA(copy=True, iterated_power='auto', n_components=2, random_state=42,\n",
      "  svd_solver='auto', tol=0.0, whiten=False)), ('classify', LinearSVC(C=1.0, class_weight=None, dual=True, fit_intercept=True,\n",
      "     intercept_scaling=1, loss='squared_hinge', max_iter=1000,\n",
      "     multi_class='ovr', penalty='l2', random_state=42, tol=0.0001,\n",
      "     verbose=0))])\n",
      "\tAccuracy: 0.91236\tPrecision: 0.58108\tRecall: 0.12900\tF1: 0.21113\tF2: 0.15277\n",
      "\tTotal predictions: 11000\tTrue positives:  129\tFalse positives:   93\tFalse negatives:  871\tTrue negatives: 9907\n",
      "\n"
     ]
    }
   ],
   "source": [
    "features = data_train.columns.tolist()\n",
    "data = data_train.to_dict(orient='index')\n",
    "test_classifier(grid.best_estimator_, data, features)"
   ]
  },
  {
   "cell_type": "markdown",
   "metadata": {
    "deletable": true,
    "editable": true
   },
   "source": [
    "# Algorithm Selection and Tuning"
   ]
  },
  {
   "cell_type": "markdown",
   "metadata": {
    "deletable": true,
    "editable": true
   },
   "source": [
    "## Algorithm Family Selection"
   ]
  },
  {
   "cell_type": "markdown",
   "metadata": {
    "deletable": true,
    "editable": true
   },
   "source": [
    "### Support Vector Machine"
   ]
  },
  {
   "cell_type": "code",
   "execution_count": 31,
   "metadata": {
    "collapsed": false,
    "deletable": true,
    "editable": true
   },
   "outputs": [
    {
     "name": "stdout",
     "output_type": "stream",
     "text": [
      "Pipeline(steps=[('scale', MaxAbsScaler(copy=True)), ('reduce_dim', PCA(copy=True, iterated_power='auto', n_components=7, random_state=42,\n",
      "  svd_solver='auto', tol=0.0, whiten=False)), ('classify', SVC(C=1000, cache_size=200, class_weight=None, coef0=0.0,\n",
      "  decision_function_shape=None, degree=3, gamma='auto', kernel='sigmoid',\n",
      "  max_iter=-1, probability=False, random_state=42, shrinking=True,\n",
      "  tol=0.001, verbose=False))])\n"
     ]
    }
   ],
   "source": [
    "#warnings.filterwarnings('ignore')\n",
    "\n",
    "pipe = Pipeline([('scale', MaxAbsScaler()),\n",
    "                 ('reduce_dim', PCA(random_state=42)),\n",
    "                 ('classify', SVC(random_state=42))])\n",
    "\n",
    "N_FEATURES_OPTIONS = list(range(2, 21))\n",
    "\n",
    "param_grid = [\n",
    "    {\n",
    "        'reduce_dim': [PCA(random_state=42)],\n",
    "        'reduce_dim__n_components': N_FEATURES_OPTIONS,\n",
    "        'classify__kernel': [\"linear\", \"poly\", \"rbf\", \"sigmoid\"],\n",
    "        'classify__C': [100, 1000, 10000]\n",
    "    },\n",
    "    {\n",
    "        'reduce_dim': [SelectKBest()],\n",
    "        'reduce_dim__k': N_FEATURES_OPTIONS,\n",
    "        'classify__kernel': [\"linear\", \"poly\", \"rbf\", \"sigmoid\"],\n",
    "        'classify__C': [100, 1000, 10000]\n",
    "    },\n",
    "]\n",
    "\n",
    "cv = StratifiedShuffleSplit(random_state=42)\n",
    "grid = GridSearchCV(\n",
    "    pipe, param_grid=param_grid, cv=cv, scoring='f1', n_jobs=-1)\n",
    "\n",
    "grid.fit(X_train, y_train)\n",
    "\n",
    "\n",
    "print(grid.best_estimator_)"
   ]
  },
  {
   "cell_type": "code",
   "execution_count": 32,
   "metadata": {
    "collapsed": false,
    "deletable": true,
    "editable": true
   },
   "outputs": [
    {
     "name": "stdout",
     "output_type": "stream",
     "text": [
      "Pipeline(steps=[('scale', MaxAbsScaler(copy=True)), ('reduce_dim', PCA(copy=True, iterated_power='auto', n_components=7, random_state=42,\n",
      "  svd_solver='auto', tol=0.0, whiten=False)), ('classify', SVC(C=1000, cache_size=200, class_weight=None, coef0=0.0,\n",
      "  decision_function_shape=None, degree=3, gamma='auto', kernel='sigmoid',\n",
      "  max_iter=-1, probability=False, random_state=42, shrinking=True,\n",
      "  tol=0.001, verbose=False))])\n",
      "\tAccuracy: 0.85500\tPrecision: 0.24242\tRecall: 0.28000\tF1: 0.25986\tF2: 0.27158\n",
      "\tTotal predictions: 11000\tTrue positives:  280\tFalse positives:  875\tFalse negatives:  720\tTrue negatives: 9125\n",
      "\n"
     ]
    }
   ],
   "source": [
    "features = data_train.columns.tolist()\n",
    "data = data_train.to_dict(orient='index')\n",
    "test_classifier(grid.best_estimator_, data, features)"
   ]
  },
  {
   "cell_type": "markdown",
   "metadata": {
    "deletable": true,
    "editable": true
   },
   "source": [
    "### Nearest Neighbors"
   ]
  },
  {
   "cell_type": "code",
   "execution_count": 33,
   "metadata": {
    "collapsed": false,
    "deletable": true,
    "editable": true
   },
   "outputs": [
    {
     "name": "stdout",
     "output_type": "stream",
     "text": [
      "Pipeline(steps=[('scale', MaxAbsScaler(copy=True)), ('reduce_dim', SelectKBest(k=3, score_func=<function f_classif at 0x7f1c8d1b3048>)), ('classify', KNeighborsClassifier(algorithm='auto', leaf_size=30, metric='minkowski',\n",
      "           metric_params=None, n_jobs=1, n_neighbors=3, p=1,\n",
      "           weights='uniform'))])\n"
     ]
    }
   ],
   "source": [
    "#warnings.filterwarnings('ignore')\n",
    "\n",
    "pipe = Pipeline([('scale', MaxAbsScaler()),\n",
    "                 ('reduce_dim', PCA(random_state=42)),\n",
    "                 ('classify', KNeighborsClassifier())])\n",
    "\n",
    "N_FEATURES_OPTIONS = list(range(2, 21))\n",
    "\n",
    "param_grid = [\n",
    "    {\n",
    "        'reduce_dim': [PCA(random_state=42)],\n",
    "        'reduce_dim__n_components': N_FEATURES_OPTIONS,\n",
    "        'classify__weights': [\"uniform\", \"distance\"],\n",
    "        'classify__n_neighbors': [1, 2, 3],\n",
    "        'classify__p':[1, 2]\n",
    "    },\n",
    "    {\n",
    "        'reduce_dim': [SelectKBest()],\n",
    "        'reduce_dim__k': N_FEATURES_OPTIONS,\n",
    "        'classify__weights': [\"uniform\", \"distance\"],\n",
    "        'classify__n_neighbors': [1, 2, 3],\n",
    "        'classify__p':[1, 2]\n",
    "    },\n",
    "]\n",
    "\n",
    "cv = StratifiedShuffleSplit(random_state=42)\n",
    "grid = GridSearchCV(\n",
    "    pipe, param_grid=param_grid, cv=cv, scoring='f1', n_jobs=-1)\n",
    "\n",
    "grid.fit(X_train, y_train)\n",
    "\n",
    "\n",
    "print(grid.best_estimator_)"
   ]
  },
  {
   "cell_type": "code",
   "execution_count": 34,
   "metadata": {
    "collapsed": false,
    "deletable": true,
    "editable": true
   },
   "outputs": [
    {
     "name": "stdout",
     "output_type": "stream",
     "text": [
      "Pipeline(steps=[('scale', MaxAbsScaler(copy=True)), ('reduce_dim', SelectKBest(k=3, score_func=<function f_classif at 0x7f1c8d1b3048>)), ('classify', KNeighborsClassifier(algorithm='auto', leaf_size=30, metric='minkowski',\n",
      "           metric_params=None, n_jobs=1, n_neighbors=3, p=1,\n",
      "           weights='uniform'))])\n",
      "\tAccuracy: 0.91845\tPrecision: 0.57163\tRecall: 0.41100\tF1: 0.47818\tF2: 0.43547\n",
      "\tTotal predictions: 11000\tTrue positives:  411\tFalse positives:  308\tFalse negatives:  589\tTrue negatives: 9692\n",
      "\n"
     ]
    }
   ],
   "source": [
    "features = data_train.columns.tolist()\n",
    "data = data_train.to_dict(orient='index')\n",
    "test_classifier(grid.best_estimator_, data, features)"
   ]
  },
  {
   "cell_type": "markdown",
   "metadata": {
    "deletable": true,
    "editable": true
   },
   "source": [
    "### Ensemble Methods"
   ]
  },
  {
   "cell_type": "markdown",
   "metadata": {
    "deletable": true,
    "editable": true
   },
   "source": [
    "#### Averaging Methods"
   ]
  },
  {
   "cell_type": "code",
   "execution_count": 35,
   "metadata": {
    "collapsed": false,
    "deletable": true,
    "editable": true
   },
   "outputs": [
    {
     "name": "stdout",
     "output_type": "stream",
     "text": [
      "Pipeline(steps=[('scale', MaxAbsScaler(copy=True)), ('reduce_dim', SelectKBest(k=6, score_func=<function f_classif at 0x7f1c8d1b3048>)), ('classify', RandomForestClassifier(bootstrap=True, class_weight=None, criterion='entropy',\n",
      "            max_depth=None, max_features='auto', max_leaf_nodes=None,\n",
      "          ...estimators=1, n_jobs=1, oob_score=False, random_state=42,\n",
      "            verbose=0, warm_start=False))])\n"
     ]
    }
   ],
   "source": [
    "#warnings.filterwarnings('ignore')\n",
    "\n",
    "pipe = Pipeline([('scale', MaxAbsScaler()),\n",
    "                 ('reduce_dim', PCA(random_state=42)),\n",
    "                 ('classify',  RandomForestClassifier(random_state=42))])\n",
    "\n",
    "N_FEATURES_OPTIONS = list(range(2, 21))\n",
    "\n",
    "param_grid = [\n",
    "    {\n",
    "        'reduce_dim': [PCA(random_state=42)],\n",
    "        'reduce_dim__n_components': N_FEATURES_OPTIONS,\n",
    "        'classify__n_estimators': [1, 10, 100],\n",
    "        'classify__criterion': [\"gini\", \"entropy\"]\n",
    "    },\n",
    "    {\n",
    "        'reduce_dim': [SelectKBest()],\n",
    "        'reduce_dim__k': N_FEATURES_OPTIONS,\n",
    "        'classify__n_estimators': [1, 10, 100],\n",
    "        'classify__criterion': [\"gini\", \"entropy\"]\n",
    "    },\n",
    "]\n",
    "\n",
    "cv = StratifiedShuffleSplit(random_state=42)\n",
    "grid = GridSearchCV(\n",
    "    pipe, param_grid=param_grid, cv=cv, scoring='f1', n_jobs=-1)\n",
    "\n",
    "grid.fit(X_train, y_train)\n",
    "\n",
    "\n",
    "print(grid.best_estimator_)"
   ]
  },
  {
   "cell_type": "code",
   "execution_count": 36,
   "metadata": {
    "collapsed": false,
    "deletable": true,
    "editable": true
   },
   "outputs": [
    {
     "name": "stdout",
     "output_type": "stream",
     "text": [
      "Pipeline(steps=[('scale', MaxAbsScaler(copy=True)), ('reduce_dim', SelectKBest(k=6, score_func=<function f_classif at 0x7f1c8d1b3048>)), ('classify', RandomForestClassifier(bootstrap=True, class_weight=None, criterion='entropy',\n",
      "            max_depth=None, max_features='auto', max_leaf_nodes=None,\n",
      "          ...estimators=1, n_jobs=1, oob_score=False, random_state=42,\n",
      "            verbose=0, warm_start=False))])\n",
      "\tAccuracy: 0.83600\tPrecision: 0.15225\tRecall: 0.17600\tF1: 0.16327\tF2: 0.17067\n",
      "\tTotal predictions: 11000\tTrue positives:  176\tFalse positives:  980\tFalse negatives:  824\tTrue negatives: 9020\n",
      "\n"
     ]
    }
   ],
   "source": [
    "features = data_train.columns.tolist()\n",
    "data = data_train.to_dict(orient='index')\n",
    "test_classifier(grid.best_estimator_, data, features)"
   ]
  },
  {
   "cell_type": "markdown",
   "metadata": {
    "deletable": true,
    "editable": true
   },
   "source": [
    "#### Boosting methods"
   ]
  },
  {
   "cell_type": "code",
   "execution_count": 37,
   "metadata": {
    "collapsed": false,
    "deletable": true,
    "editable": true
   },
   "outputs": [
    {
     "name": "stdout",
     "output_type": "stream",
     "text": [
      "Pipeline(steps=[('scale', MaxAbsScaler(copy=True)), ('reduce_dim', SelectKBest(k=4, score_func=<function f_classif at 0x7f1c8d1b3048>)), ('classify', AdaBoostClassifier(algorithm='SAMME.R', base_estimator=None,\n",
      "          learning_rate=1.0, n_estimators=100, random_state=42))])\n"
     ]
    }
   ],
   "source": [
    "#warnings.filterwarnings('ignore')\n",
    "\n",
    "pipe = Pipeline([('scale', MaxAbsScaler()),\n",
    "                 ('reduce_dim', PCA(random_state=42)),\n",
    "                 ('classify',  AdaBoostClassifier(random_state=42))])\n",
    "\n",
    "N_FEATURES_OPTIONS = list(range(2, 21))\n",
    "\n",
    "param_grid = [\n",
    "    {\n",
    "        'reduce_dim': [PCA(random_state=42)],\n",
    "        'reduce_dim__n_components': N_FEATURES_OPTIONS,\n",
    "        'classify__n_estimators': [10, 100, 1000]\n",
    "    },\n",
    "    {\n",
    "        'reduce_dim': [SelectKBest()],\n",
    "        'reduce_dim__k': N_FEATURES_OPTIONS,\n",
    "        'classify__n_estimators': [10, 100, 1000]\n",
    "    },\n",
    "]\n",
    "\n",
    "cv = StratifiedShuffleSplit(random_state=42)\n",
    "grid = GridSearchCV(\n",
    "    pipe, param_grid=param_grid, cv=cv, scoring='f1', n_jobs=-1)\n",
    "\n",
    "grid.fit(X_train, y_train)\n",
    "\n",
    "\n",
    "print(grid.best_estimator_)"
   ]
  },
  {
   "cell_type": "code",
   "execution_count": 38,
   "metadata": {
    "collapsed": false,
    "deletable": true,
    "editable": true
   },
   "outputs": [
    {
     "name": "stdout",
     "output_type": "stream",
     "text": [
      "Pipeline(steps=[('scale', MaxAbsScaler(copy=True)), ('reduce_dim', SelectKBest(k=4, score_func=<function f_classif at 0x7f1c8d1b3048>)), ('classify', AdaBoostClassifier(algorithm='SAMME.R', base_estimator=None,\n",
      "          learning_rate=1.0, n_estimators=100, random_state=42))])\n",
      "\tAccuracy: 0.84445\tPrecision: 0.21446\tRecall: 0.26700\tF1: 0.23786\tF2: 0.25453\n",
      "\tTotal predictions: 11000\tTrue positives:  267\tFalse positives:  978\tFalse negatives:  733\tTrue negatives: 9022\n",
      "\n"
     ]
    }
   ],
   "source": [
    "features = data_train.columns.tolist()\n",
    "data = data_train.to_dict(orient='index')\n",
    "test_classifier(grid.best_estimator_, data, features)"
   ]
  },
  {
   "cell_type": "markdown",
   "metadata": {
    "deletable": true,
    "editable": true
   },
   "source": [
    "## Algorithm Selection"
   ]
  },
  {
   "cell_type": "markdown",
   "metadata": {
    "deletable": true,
    "editable": true
   },
   "source": [
    "### Nearest Centroid Classifier"
   ]
  },
  {
   "cell_type": "code",
   "execution_count": 39,
   "metadata": {
    "collapsed": false,
    "deletable": true,
    "editable": true
   },
   "outputs": [
    {
     "name": "stdout",
     "output_type": "stream",
     "text": [
      "Pipeline(steps=[('scale', MaxAbsScaler(copy=True)), ('reduce_dim', SelectKBest(k=3, score_func=<function f_classif at 0x7f1c8d1b3048>)), ('classify', NearestCentroid(metric='manhattan', shrink_threshold=1))])\n",
      "0.381666666667\n"
     ]
    }
   ],
   "source": [
    "#warnings.filterwarnings('ignore')\n",
    "\n",
    "pipe = Pipeline([('scale', MaxAbsScaler()),\n",
    "                 ('reduce_dim', PCA(random_state=42)),\n",
    "                 ('classify', NearestCentroid())])\n",
    "\n",
    "N_FEATURES_OPTIONS = list(range(2, 5))\n",
    "\n",
    "param_grid = [\n",
    "    {\n",
    "        'reduce_dim': [PCA(random_state=42)],\n",
    "        'reduce_dim__n_components': N_FEATURES_OPTIONS,\n",
    "        'classify__metric': [\"euclidean\", \"manhattan\"],\n",
    "        'classify__shrink_threshold': [None, 0.1, 1, 10]\n",
    "    },\n",
    "    {\n",
    "        'reduce_dim': [SelectKBest()],\n",
    "        'reduce_dim__k': N_FEATURES_OPTIONS,\n",
    "        'classify__metric': [\"euclidean\", \"manhattan\"],\n",
    "        'classify__shrink_threshold': [None, 0.1, 1, 10]\n",
    "    },\n",
    "]\n",
    "\n",
    "cv = StratifiedShuffleSplit(random_state=42)\n",
    "grid = GridSearchCV(\n",
    "    pipe, param_grid=param_grid, cv=cv, scoring='f1', n_jobs=-1)\n",
    "\n",
    "grid.fit(X_train, y_train)\n",
    "\n",
    "\n",
    "print(grid.best_estimator_)\n",
    "print(grid.best_score_)"
   ]
  },
  {
   "cell_type": "code",
   "execution_count": 40,
   "metadata": {
    "collapsed": false,
    "deletable": true,
    "editable": true
   },
   "outputs": [
    {
     "name": "stdout",
     "output_type": "stream",
     "text": [
      "Pipeline(steps=[('scale', MaxAbsScaler(copy=True)), ('reduce_dim', SelectKBest(k=3, score_func=<function f_classif at 0x7f1c8d1b3048>)), ('classify', NearestCentroid(metric='manhattan', shrink_threshold=1))])\n",
      "\tAccuracy: 0.71509\tPrecision: 0.20279\tRecall: 0.72800\tF1: 0.31721\tF2: 0.47958\n",
      "\tTotal predictions: 11000\tTrue positives:  728\tFalse positives: 2862\tFalse negatives:  272\tTrue negatives: 7138\n",
      "\n"
     ]
    }
   ],
   "source": [
    "features = data_train.columns.tolist()\n",
    "data = data_train.to_dict(orient='index')\n",
    "test_classifier(grid.best_estimator_, data, features)"
   ]
  },
  {
   "cell_type": "markdown",
   "metadata": {
    "collapsed": true,
    "deletable": true,
    "editable": true
   },
   "source": [
    "## Algorithm Tuning"
   ]
  },
  {
   "cell_type": "code",
   "execution_count": 41,
   "metadata": {
    "collapsed": false,
    "deletable": true,
    "editable": true
   },
   "outputs": [
    {
     "name": "stdout",
     "output_type": "stream",
     "text": [
      "Pipeline(steps=[('scale', MaxAbsScaler(copy=True)), ('reduce_dim', SelectKBest(k=3, score_func=<function f_classif at 0x7f1c8d1b3048>)), ('classify', KNeighborsClassifier(algorithm='ball_tree', leaf_size=1, metric='minkowski',\n",
      "           metric_params=None, n_jobs=1, n_neighbors=3, p=1,\n",
      "           weights='uniform'))])\n"
     ]
    }
   ],
   "source": [
    "#warnings.filterwarnings('ignore')\n",
    "\n",
    "pipe = Pipeline([('scale', MaxAbsScaler()),\n",
    "                 ('reduce_dim', PCA(random_state=42)),\n",
    "                 ('classify', KNeighborsClassifier())])\n",
    "\n",
    "N_FEATURES_OPTIONS = list(range(2, 5))\n",
    "\n",
    "param_grid = [\n",
    "    {\n",
    "        'reduce_dim': [PCA(random_state=42)],\n",
    "        'reduce_dim__n_components': N_FEATURES_OPTIONS,\n",
    "        'classify__weights': [\"uniform\", \"distance\"],\n",
    "        'classify__n_neighbors': [2, 3, 4],\n",
    "        'classify__algorithm': ['ball_tree', 'kd_tree', 'brute'],\n",
    "        'classify__leaf_size': [1, 2, 3],\n",
    "        'classify__p':[1, 2, 3]\n",
    "    },\n",
    "    {\n",
    "        'reduce_dim': [SelectKBest()],\n",
    "        'reduce_dim__k': N_FEATURES_OPTIONS,\n",
    "        'classify__weights': [\"uniform\", \"distance\"],\n",
    "        'classify__n_neighbors': [2, 3, 4],\n",
    "        'classify__algorithm': ['ball_tree', 'kd_tree', 'brute'],\n",
    "        'classify__leaf_size': [1, 2, 3],\n",
    "        'classify__p':[1, 2, 3]\n",
    "    },\n",
    "]\n",
    "\n",
    "cv = StratifiedShuffleSplit(random_state=42)\n",
    "grid = GridSearchCV(\n",
    "    pipe, param_grid=param_grid, cv=cv, scoring='f1', n_jobs=-1)\n",
    "\n",
    "grid.fit(X_train, y_train)\n",
    "\n",
    "\n",
    "print(grid.best_estimator_)"
   ]
  },
  {
   "cell_type": "code",
   "execution_count": 42,
   "metadata": {
    "collapsed": false,
    "deletable": true,
    "editable": true,
    "scrolled": true
   },
   "outputs": [
    {
     "name": "stdout",
     "output_type": "stream",
     "text": [
      "Pipeline(steps=[('scale', MaxAbsScaler(copy=True)), ('reduce_dim', SelectKBest(k=3, score_func=<function f_classif at 0x7f1c8d1b3048>)), ('classify', KNeighborsClassifier(algorithm='ball_tree', leaf_size=1, metric='minkowski',\n",
      "           metric_params=None, n_jobs=1, n_neighbors=3, p=1,\n",
      "           weights='uniform'))])\n",
      "\tAccuracy: 0.91845\tPrecision: 0.57163\tRecall: 0.41100\tF1: 0.47818\tF2: 0.43547\n",
      "\tTotal predictions: 11000\tTrue positives:  411\tFalse positives:  308\tFalse negatives:  589\tTrue negatives: 9692\n",
      "\n"
     ]
    }
   ],
   "source": [
    "features = data_train.columns.tolist()\n",
    "data = data_train.to_dict(orient='index')\n",
    "test_classifier(grid.best_estimator_, data, features)"
   ]
  },
  {
   "cell_type": "code",
   "execution_count": 43,
   "metadata": {
    "collapsed": true,
    "deletable": true,
    "editable": true
   },
   "outputs": [],
   "source": [
    "data_test.to_csv('test.csv')\n",
    "data_train.to_csv('train.csv')"
   ]
  },
  {
   "cell_type": "code",
   "execution_count": 44,
   "metadata": {
    "collapsed": true,
    "deletable": true,
    "editable": true
   },
   "outputs": [],
   "source": [
    "X_train, X_test, y_train, y_test, data_train, data_test = do_split(data_df, 0)"
   ]
  },
  {
   "cell_type": "code",
   "execution_count": 45,
   "metadata": {
    "collapsed": false,
    "deletable": true,
    "editable": true
   },
   "outputs": [
    {
     "name": "stdout",
     "output_type": "stream",
     "text": [
      "Got a divide by zero when trying out: Pipeline(steps=[('scale', MaxAbsScaler(copy=True)), ('reduce_dim', SelectKBest(k=3, score_func=<function f_classif at 0x7f1c8d1b3048>)), ('classify', KNeighborsClassifier(algorithm='ball_tree', leaf_size=1, metric='minkowski',\n",
      "           metric_params=None, n_jobs=1, n_neighbors=3, p=1,\n",
      "           weights='uniform'))])\n",
      "Precision or recall may be undefined due to a lack of true positive predicitons.\n"
     ]
    }
   ],
   "source": [
    "X_train, X_test, y_train, y_test, data_train, data_test = do_split(data_df)\n",
    "data = data_test.to_dict(orient='index')\n",
    "test_classifier(grid.best_estimator_, data, features)\n",
    "    "
   ]
  },
  {
   "cell_type": "markdown",
   "metadata": {
    "collapsed": true,
    "deletable": true,
    "editable": true
   },
   "source": [
    "# Draft"
   ]
  },
  {
   "cell_type": "code",
   "execution_count": null,
   "metadata": {
    "collapsed": true,
    "deletable": true,
    "editable": true
   },
   "outputs": [],
   "source": []
  }
 ],
 "metadata": {
  "hide_input": false,
  "kernelspec": {
   "display_name": "Python 3",
   "language": "python",
   "name": "python3"
  },
  "language_info": {
   "codemirror_mode": {
    "name": "ipython",
    "version": 3
   },
   "file_extension": ".py",
   "mimetype": "text/x-python",
   "name": "python",
   "nbconvert_exporter": "python",
   "pygments_lexer": "ipython3",
   "version": "3.6.0"
  },
  "latex_envs": {
   "LaTeX_envs_menu_present": true,
   "bibliofile": "biblio.bib",
   "cite_by": "apalike",
   "current_citInitial": 1,
   "eqLabelWithNumbers": true,
   "eqNumInitial": 1,
   "hotkeys": {
    "equation": "Ctrl-E",
    "itemize": "Ctrl-I"
   },
   "labels_anchors": false,
   "latex_user_defs": false,
   "report_style_numbering": false,
   "user_envs_cfg": false
  },
  "toc": {
   "colors": {
    "hover_highlight": "#DAA520",
    "running_highlight": "#FF0000",
    "selected_highlight": "#FFD700"
   },
   "moveMenuLeft": true,
   "nav_menu": {
    "height": "81px",
    "width": "252px"
   },
   "navigate_menu": true,
   "number_sections": false,
   "sideBar": true,
   "threshold": "2",
   "toc_cell": false,
   "toc_section_display": "block",
   "toc_window_display": false
  }
 },
 "nbformat": 4,
 "nbformat_minor": 2
}
