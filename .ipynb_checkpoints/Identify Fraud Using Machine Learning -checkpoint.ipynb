{
 "cells": [
  {
   "cell_type": "markdown",
   "metadata": {
    "deletable": true,
    "editable": true,
    "toc": "true"
   },
   "source": [
    "# Table of Contents\n",
    " <p><div class=\"lev1 toc-item\"><a href=\"#Project-Overview\" data-toc-modified-id=\"Project-Overview-1\"><span class=\"toc-item-num\">1&nbsp;&nbsp;</span>Project Overview</a></div><div class=\"lev2 toc-item\"><a href=\"#Scope\" data-toc-modified-id=\"Scope-11\"><span class=\"toc-item-num\">1.1&nbsp;&nbsp;</span>Scope</a></div><div class=\"lev2 toc-item\"><a href=\"#Needed-Libraries\" data-toc-modified-id=\"Needed-Libraries-12\"><span class=\"toc-item-num\">1.2&nbsp;&nbsp;</span>Needed Libraries</a></div><div class=\"lev2 toc-item\"><a href=\"#Features\" data-toc-modified-id=\"Features-13\"><span class=\"toc-item-num\">1.3&nbsp;&nbsp;</span>Features</a></div><div class=\"lev1 toc-item\"><a href=\"#Understanding-the-Dataset\" data-toc-modified-id=\"Understanding-the-Dataset-2\"><span class=\"toc-item-num\">2&nbsp;&nbsp;</span>Understanding the Dataset</a></div><div class=\"lev2 toc-item\"><a href=\"#Data-Exploration\" data-toc-modified-id=\"Data-Exploration-21\"><span class=\"toc-item-num\">2.1&nbsp;&nbsp;</span>Data Exploration</a></div><div class=\"lev2 toc-item\"><a href=\"#Outlier-Investigation\" data-toc-modified-id=\"Outlier-Investigation-22\"><span class=\"toc-item-num\">2.2&nbsp;&nbsp;</span>Outlier Investigation</a></div><div class=\"lev1 toc-item\"><a href=\"#Optimize-Feature-Selection/Engineering\" data-toc-modified-id=\"Optimize-Feature-Selection/Engineering-3\"><span class=\"toc-item-num\">3&nbsp;&nbsp;</span>Optimize Feature Selection/Engineering</a></div><div class=\"lev2 toc-item\"><a href=\"#Create-new-features\" data-toc-modified-id=\"Create-new-features-31\"><span class=\"toc-item-num\">3.1&nbsp;&nbsp;</span>Create new features</a></div><div class=\"lev2 toc-item\"><a href=\"#Feature-Selection\" data-toc-modified-id=\"Feature-Selection-32\"><span class=\"toc-item-num\">3.2&nbsp;&nbsp;</span>Feature Selection</a></div><div class=\"lev2 toc-item\"><a href=\"#Features-Scaling\" data-toc-modified-id=\"Features-Scaling-33\"><span class=\"toc-item-num\">3.3&nbsp;&nbsp;</span>Features Scaling</a></div><div class=\"lev1 toc-item\"><a href=\"#Algorithm-Selection-and-Tuning\" data-toc-modified-id=\"Algorithm-Selection-and-Tuning-4\"><span class=\"toc-item-num\">4&nbsp;&nbsp;</span>Algorithm Selection and Tuning</a></div><div class=\"lev2 toc-item\"><a href=\"#Algorithm-Family-Selection\" data-toc-modified-id=\"Algorithm-Family-Selection-41\"><span class=\"toc-item-num\">4.1&nbsp;&nbsp;</span>Algorithm Family Selection</a></div><div class=\"lev2 toc-item\"><a href=\"#Algorithm-Selection\" data-toc-modified-id=\"Algorithm-Selection-42\"><span class=\"toc-item-num\">4.2&nbsp;&nbsp;</span>Algorithm Selection</a></div><div class=\"lev2 toc-item\"><a href=\"#Algorithm-Tuning\" data-toc-modified-id=\"Algorithm-Tuning-43\"><span class=\"toc-item-num\">4.3&nbsp;&nbsp;</span>Algorithm Tuning</a></div><div class=\"lev1 toc-item\"><a href=\"#Project-Closure\" data-toc-modified-id=\"Project-Closure-5\"><span class=\"toc-item-num\">5&nbsp;&nbsp;</span>Project Closure</a></div><div class=\"lev2 toc-item\"><a href=\"#Dumping-files\" data-toc-modified-id=\"Dumping-files-51\"><span class=\"toc-item-num\">5.1&nbsp;&nbsp;</span>Dumping files</a></div><div class=\"lev1 toc-item\"><a href=\"#Future-Improvements\" data-toc-modified-id=\"Future-Improvements-6\"><span class=\"toc-item-num\">6&nbsp;&nbsp;</span>Future Improvements</a></div>"
   ]
  },
  {
   "cell_type": "markdown",
   "metadata": {
    "deletable": true,
    "editable": true
   },
   "source": [
    "# Project Overview"
   ]
  },
  {
   "cell_type": "markdown",
   "metadata": {
    "deletable": true,
    "editable": true
   },
   "source": [
    "## Scope"
   ]
  },
  {
   "cell_type": "markdown",
   "metadata": {
    "deletable": true,
    "editable": true
   },
   "source": [
    "In 2000, Enron was one of the largest companies in the United States. By 2002, it had collapsed into bankruptcy due to widespread corporate fraud. In the resulting Federal investigation, a significant amount of typically confidential information entered into the public record, including tens of thousands of emails and detailed financial data for top executives.  \n",
    "These data have been combined with a hand-generated list of persons of interest in the fraud case, which means individuals who were indicted, reached a settlement or plea deal with the government, or testified in exchange for prosecution immunity.  \n",
    "\n",
    "In this project, I am building **a person of interest identifier based on financial and email data**, made public as a result of the Enron scandal.  \n",
    "\n",
    "The data have been combined in the form of a dictionary, where each key-value pair in the dictionary corresponds to one person. The dictionary key is the person's name, and the value is another dictionary, which contains the names of all the features and their values for that person."
   ]
  },
  {
   "cell_type": "markdown",
   "metadata": {
    "deletable": true,
    "editable": true
   },
   "source": [
    "## Needed Libraries"
   ]
  },
  {
   "cell_type": "code",
   "execution_count": 1,
   "metadata": {
    "collapsed": false,
    "deletable": true,
    "editable": true,
    "hide_input": false
   },
   "outputs": [
    {
     "name": "stderr",
     "output_type": "stream",
     "text": [
      "/home/yannis/anaconda3/lib/python3.6/site-packages/sklearn/cross_validation.py:44: DeprecationWarning: This module was deprecated in version 0.18 in favor of the model_selection module into which all the refactored classes and functions are moved. Also note that the interface of the new CV iterators are different from that of this module. This module will be removed in 0.20.\n",
      "  \"This module will be removed in 0.20.\", DeprecationWarning)\n"
     ]
    }
   ],
   "source": [
    "%matplotlib inline\n",
    "\n",
    "import sys\n",
    "sys.path.append(\"./code/\")\n",
    "\n",
    "from matplotlib.colors import ListedColormap\n",
    "import matplotlib.patches as mpatches\n",
    "import matplotlib.pyplot as plt\n",
    "\n",
    "import numpy as np\n",
    "import pandas as pd\n",
    "import pickle\n",
    "import seaborn as sns\n",
    "\n",
    "from sklearn.decomposition import PCA\n",
    "from sklearn.ensemble import AdaBoostClassifier, RandomForestClassifier\n",
    "from sklearn.feature_selection import SelectPercentile, SelectKBest\n",
    "from sklearn.model_selection import GridSearchCV, StratifiedShuffleSplit\n",
    "from sklearn.neighbors import KNeighborsClassifier, NearestCentroid\n",
    "from sklearn.pipeline import Pipeline\n",
    "from sklearn.preprocessing import MaxAbsScaler, StandardScaler\n",
    "from sklearn.svm import LinearSVC, SVC\n",
    "\n",
    "from tester import test_classifier\n",
    "import warnings"
   ]
  },
  {
   "cell_type": "markdown",
   "metadata": {
    "deletable": true,
    "editable": true
   },
   "source": [
    "## Features"
   ]
  },
  {
   "cell_type": "markdown",
   "metadata": {
    "deletable": true,
    "editable": true
   },
   "source": [
    "The features included in the dataset can be divided in three categories, Salary Features, Stock Features and Email Features. Bellow you may find the full feature list with  brief definition of each one."
   ]
  },
  {
   "cell_type": "markdown",
   "metadata": {
    "deletable": true,
    "editable": true
   },
   "source": [
    "### Salary Features\n",
    "\n",
    "| Payments            | Definitions of Category Groupings                                                                                                                                                                                                                                                                                                                                                                                                |\n",
    "|---------------------|----------------------------------------------------------------------------------------------------------------------------------------------------------------------------------------------------------------------------------------------------------------------------------------------------------------------------------------------------------------------------------------------------------------------------------|\n",
    "| ***Salary***              | Reflects items such as base salary, executive cash allowances, and benefits payments.                                                                                                                                                                                                                                                                                                                                            |\n",
    "| ***Bonus***               | Reflects annual cash incentives paid based upon company performance. Also may include other retention payments.                                                                                                                                                                                                                                                                                                                  |\n",
    "| ***Long Term Incentive*** | Reflects long-term incentive cash payments from various long-term incentive programs designed to tie executive compensation to long-term success as measuredagainst key performance drivers and business objectives over a multi-year period, generally 3 to 5 years.                                                                                                                                                            |\n",
    "| ***Deferred Income***     | Reflects voluntary executive deferrals of salary, annual cash incentives, and long-term cash incentives as well as cash fees deferred by non-employee directorsunder a deferred compensation arrangement. May also reflect deferrals under a stock option or phantom stock unit in lieu of cash arrangement.                                                                                                                     |\n",
    "| ***Deferral Payments***   | Reflects distributions from a deferred compensation arrangement due to termination of employment or due to in-service withdrawals as per plan provisions.                                                                                                                                                                                                                                                                        |\n",
    "| ***Loan Advances***       | Reflects total amount of loan advances, excluding repayments, provided by the Debtor in return for a promise of repayment. In certain instances, the terms of thepromissory notes allow for the option to repay with stock of the company.                                                                                                                                                                                       |\n",
    "| ***Other***               | Reflects items such as payments for severence, consulting services, relocation costs, tax advances and allowances for employees on international assignment (i.e.housing allowances, cost of living allowances, payments under Enron’s Tax Equalization Program, etc.). May also include payments provided with respect toemployment agreements, as well as imputed income amounts for such things as use of corporate aircraft. |\n",
    "| ***Expenses***            | Reflects reimbursements of business expenses. May include fees paid for consulting services.                                                                                                                                                                                                                                                                                                                                     |\n",
    "| ***Director Fees***       | Reflects cash payments and/or value of stock grants made in lieu of cash payments to non-employee directors.                                                                                                                                                                                                                                                                                                                     |\n",
    "| ***Total Payments***      | Sum of the above values                                                                                                                                                                                                                                                                                                                                                                                                         |\n",
    "***"
   ]
  },
  {
   "cell_type": "markdown",
   "metadata": {
    "deletable": true,
    "editable": true
   },
   "source": [
    "### Stock Features\n",
    "\n",
    "| Stock Value              | Definitions of Category Groupings                                                                                                                                                                                                                                                                                                                                                       |\n",
    "|--------------------------|-----------------------------------------------------------------------------------------------------------------------------------------------------------------------------------------------------------------------------------------------------------------------------------------------------------------------------------------------------------------------------------------|\n",
    "| ***Exercised Stock Options***  | Reflects amounts from exercised stock options which equal the market value in excess of the exercise price on the date the options were exercised either throughcashless (same-day sale), stock swap or cash exercises. The reflected gain may differ from that realized by the insider due to fluctuations in the market price andthe timing of any subsequent sale of the securities. |\n",
    "| ***Restricted Stock***         | Reflects the gross fair market value of shares and accrued dividends (and/or phantom units and dividend equivalents) on the date of release due to lapse of vestingperiods, regardless of whether deferred.                                                                                                                                                                             |\n",
    "| ***Restricted StockDeferred*** | Reflects value of restricted stock voluntarily deferred prior to release under a deferred compensation arrangement.                                                                                                                                                                                                                                                                     |\n",
    "| ***Total Stock Value***        | Sum of the above values                                                                                                                                                                                                                                                                                                                                                                 |\n",
    "***"
   ]
  },
  {
   "cell_type": "markdown",
   "metadata": {
    "deletable": true,
    "editable": true
   },
   "source": [
    "### email features\n",
    "\n",
    "| Variable                      | Definition                                                                    |\n",
    "|-------------------------------|-------------------------------------------------------------------------------|\n",
    "| ***to messages***             | Total number of emails received (person's inbox)                              |\n",
    "| ***email address***           | Email address of the person                                                   |\n",
    "| ***from poi to this person*** | Number of emails received by POIs                                             |\n",
    "| ***from messages***           | Total number of emails sent by this person                                    |\n",
    "| ***from this person to poi*** | Number of emails sent by this person to a POI.                                |\n",
    "| ***shared receipt with poi*** | Number of emails addressed by someone else to a POI where this person was CC. |"
   ]
  },
  {
   "cell_type": "markdown",
   "metadata": {
    "deletable": true,
    "editable": true
   },
   "source": [
    "# Understanding the Dataset"
   ]
  },
  {
   "cell_type": "markdown",
   "metadata": {
    "deletable": true,
    "editable": true
   },
   "source": [
    "## Data Exploration"
   ]
  },
  {
   "cell_type": "code",
   "execution_count": 2,
   "metadata": {
    "collapsed": false,
    "deletable": true,
    "editable": true
   },
   "outputs": [
    {
     "data": {
      "text/plain": [
       "(146, 21)"
      ]
     },
     "execution_count": 2,
     "metadata": {},
     "output_type": "execute_result"
    }
   ],
   "source": [
    "### Load the dictionary containing the dataset\n",
    "with open(\"./dataset/final_project_dataset.pkl\", \"rb\") as data_file:\n",
    "    data_init = pickle.load(data_file)\n",
    "\n",
    "#Converting the dataset from a python dictionary to a pandas dataframe\n",
    "data_df = pd.DataFrame.from_dict(data_init, orient='index')\n",
    "data_df.shape"
   ]
  },
  {
   "cell_type": "markdown",
   "metadata": {
    "collapsed": true,
    "deletable": true,
    "editable": true
   },
   "source": [
    "The dataset contains information of 21 features from 146 employees.  "
   ]
  },
  {
   "cell_type": "code",
   "execution_count": 3,
   "metadata": {
    "collapsed": false,
    "deletable": true,
    "editable": true
   },
   "outputs": [
    {
     "data": {
      "text/html": [
       "<div>\n",
       "<table border=\"1\" class=\"dataframe\">\n",
       "  <thead>\n",
       "    <tr style=\"text-align: right;\">\n",
       "      <th></th>\n",
       "      <th>salary</th>\n",
       "      <th>to_messages</th>\n",
       "      <th>deferral_payments</th>\n",
       "      <th>total_payments</th>\n",
       "      <th>loan_advances</th>\n",
       "      <th>bonus</th>\n",
       "      <th>email_address</th>\n",
       "      <th>restricted_stock_deferred</th>\n",
       "      <th>deferred_income</th>\n",
       "      <th>total_stock_value</th>\n",
       "      <th>...</th>\n",
       "      <th>from_poi_to_this_person</th>\n",
       "      <th>exercised_stock_options</th>\n",
       "      <th>from_messages</th>\n",
       "      <th>other</th>\n",
       "      <th>from_this_person_to_poi</th>\n",
       "      <th>poi</th>\n",
       "      <th>long_term_incentive</th>\n",
       "      <th>shared_receipt_with_poi</th>\n",
       "      <th>restricted_stock</th>\n",
       "      <th>director_fees</th>\n",
       "    </tr>\n",
       "  </thead>\n",
       "  <tbody>\n",
       "    <tr>\n",
       "      <th>ALLEN PHILLIP K</th>\n",
       "      <td>201955</td>\n",
       "      <td>2902</td>\n",
       "      <td>2869717</td>\n",
       "      <td>4484442</td>\n",
       "      <td>NaN</td>\n",
       "      <td>4175000</td>\n",
       "      <td>phillip.allen@enron.com</td>\n",
       "      <td>-126027</td>\n",
       "      <td>-3081055</td>\n",
       "      <td>1729541</td>\n",
       "      <td>...</td>\n",
       "      <td>47</td>\n",
       "      <td>1729541</td>\n",
       "      <td>2195</td>\n",
       "      <td>152</td>\n",
       "      <td>65</td>\n",
       "      <td>False</td>\n",
       "      <td>304805</td>\n",
       "      <td>1407</td>\n",
       "      <td>126027</td>\n",
       "      <td>NaN</td>\n",
       "    </tr>\n",
       "    <tr>\n",
       "      <th>BADUM JAMES P</th>\n",
       "      <td>NaN</td>\n",
       "      <td>NaN</td>\n",
       "      <td>178980</td>\n",
       "      <td>182466</td>\n",
       "      <td>NaN</td>\n",
       "      <td>NaN</td>\n",
       "      <td>NaN</td>\n",
       "      <td>NaN</td>\n",
       "      <td>NaN</td>\n",
       "      <td>257817</td>\n",
       "      <td>...</td>\n",
       "      <td>NaN</td>\n",
       "      <td>257817</td>\n",
       "      <td>NaN</td>\n",
       "      <td>NaN</td>\n",
       "      <td>NaN</td>\n",
       "      <td>False</td>\n",
       "      <td>NaN</td>\n",
       "      <td>NaN</td>\n",
       "      <td>NaN</td>\n",
       "      <td>NaN</td>\n",
       "    </tr>\n",
       "    <tr>\n",
       "      <th>BANNANTINE JAMES M</th>\n",
       "      <td>477</td>\n",
       "      <td>566</td>\n",
       "      <td>NaN</td>\n",
       "      <td>916197</td>\n",
       "      <td>NaN</td>\n",
       "      <td>NaN</td>\n",
       "      <td>james.bannantine@enron.com</td>\n",
       "      <td>-560222</td>\n",
       "      <td>-5104</td>\n",
       "      <td>5243487</td>\n",
       "      <td>...</td>\n",
       "      <td>39</td>\n",
       "      <td>4046157</td>\n",
       "      <td>29</td>\n",
       "      <td>864523</td>\n",
       "      <td>0</td>\n",
       "      <td>False</td>\n",
       "      <td>NaN</td>\n",
       "      <td>465</td>\n",
       "      <td>1757552</td>\n",
       "      <td>NaN</td>\n",
       "    </tr>\n",
       "    <tr>\n",
       "      <th>BAXTER JOHN C</th>\n",
       "      <td>267102</td>\n",
       "      <td>NaN</td>\n",
       "      <td>1295738</td>\n",
       "      <td>5634343</td>\n",
       "      <td>NaN</td>\n",
       "      <td>1200000</td>\n",
       "      <td>NaN</td>\n",
       "      <td>NaN</td>\n",
       "      <td>-1386055</td>\n",
       "      <td>10623258</td>\n",
       "      <td>...</td>\n",
       "      <td>NaN</td>\n",
       "      <td>6680544</td>\n",
       "      <td>NaN</td>\n",
       "      <td>2660303</td>\n",
       "      <td>NaN</td>\n",
       "      <td>False</td>\n",
       "      <td>1586055</td>\n",
       "      <td>NaN</td>\n",
       "      <td>3942714</td>\n",
       "      <td>NaN</td>\n",
       "    </tr>\n",
       "    <tr>\n",
       "      <th>BAY FRANKLIN R</th>\n",
       "      <td>239671</td>\n",
       "      <td>NaN</td>\n",
       "      <td>260455</td>\n",
       "      <td>827696</td>\n",
       "      <td>NaN</td>\n",
       "      <td>400000</td>\n",
       "      <td>frank.bay@enron.com</td>\n",
       "      <td>-82782</td>\n",
       "      <td>-201641</td>\n",
       "      <td>63014</td>\n",
       "      <td>...</td>\n",
       "      <td>NaN</td>\n",
       "      <td>NaN</td>\n",
       "      <td>NaN</td>\n",
       "      <td>69</td>\n",
       "      <td>NaN</td>\n",
       "      <td>False</td>\n",
       "      <td>NaN</td>\n",
       "      <td>NaN</td>\n",
       "      <td>145796</td>\n",
       "      <td>NaN</td>\n",
       "    </tr>\n",
       "  </tbody>\n",
       "</table>\n",
       "<p>5 rows × 21 columns</p>\n",
       "</div>"
      ],
      "text/plain": [
       "                    salary to_messages deferral_payments total_payments  \\\n",
       "ALLEN PHILLIP K     201955        2902           2869717        4484442   \n",
       "BADUM JAMES P          NaN         NaN            178980         182466   \n",
       "BANNANTINE JAMES M     477         566               NaN         916197   \n",
       "BAXTER JOHN C       267102         NaN           1295738        5634343   \n",
       "BAY FRANKLIN R      239671         NaN            260455         827696   \n",
       "\n",
       "                   loan_advances    bonus               email_address  \\\n",
       "ALLEN PHILLIP K              NaN  4175000     phillip.allen@enron.com   \n",
       "BADUM JAMES P                NaN      NaN                         NaN   \n",
       "BANNANTINE JAMES M           NaN      NaN  james.bannantine@enron.com   \n",
       "BAXTER JOHN C                NaN  1200000                         NaN   \n",
       "BAY FRANKLIN R               NaN   400000         frank.bay@enron.com   \n",
       "\n",
       "                   restricted_stock_deferred deferred_income  \\\n",
       "ALLEN PHILLIP K                      -126027        -3081055   \n",
       "BADUM JAMES P                            NaN             NaN   \n",
       "BANNANTINE JAMES M                   -560222           -5104   \n",
       "BAXTER JOHN C                            NaN        -1386055   \n",
       "BAY FRANKLIN R                        -82782         -201641   \n",
       "\n",
       "                   total_stock_value      ...      from_poi_to_this_person  \\\n",
       "ALLEN PHILLIP K              1729541      ...                           47   \n",
       "BADUM JAMES P                 257817      ...                          NaN   \n",
       "BANNANTINE JAMES M           5243487      ...                           39   \n",
       "BAXTER JOHN C               10623258      ...                          NaN   \n",
       "BAY FRANKLIN R                 63014      ...                          NaN   \n",
       "\n",
       "                   exercised_stock_options from_messages    other  \\\n",
       "ALLEN PHILLIP K                    1729541          2195      152   \n",
       "BADUM JAMES P                       257817           NaN      NaN   \n",
       "BANNANTINE JAMES M                 4046157            29   864523   \n",
       "BAXTER JOHN C                      6680544           NaN  2660303   \n",
       "BAY FRANKLIN R                         NaN           NaN       69   \n",
       "\n",
       "                   from_this_person_to_poi    poi long_term_incentive  \\\n",
       "ALLEN PHILLIP K                         65  False              304805   \n",
       "BADUM JAMES P                          NaN  False                 NaN   \n",
       "BANNANTINE JAMES M                       0  False                 NaN   \n",
       "BAXTER JOHN C                          NaN  False             1586055   \n",
       "BAY FRANKLIN R                         NaN  False                 NaN   \n",
       "\n",
       "                   shared_receipt_with_poi restricted_stock director_fees  \n",
       "ALLEN PHILLIP K                       1407           126027           NaN  \n",
       "BADUM JAMES P                          NaN              NaN           NaN  \n",
       "BANNANTINE JAMES M                     465          1757552           NaN  \n",
       "BAXTER JOHN C                          NaN          3942714           NaN  \n",
       "BAY FRANKLIN R                         NaN           145796           NaN  \n",
       "\n",
       "[5 rows x 21 columns]"
      ]
     },
     "execution_count": 3,
     "metadata": {},
     "output_type": "execute_result"
    }
   ],
   "source": [
    "data_df.head()"
   ]
  },
  {
   "cell_type": "markdown",
   "metadata": {
    "deletable": true,
    "editable": true
   },
   "source": [
    "There are some NaNs in the dataset. By paying attention to the [Payments Schedule](dataset/enron61702insiderpay.pdf) which is the source of the dataset, we can see that the empty values are actually \"0\" except the *email_address*.  \n",
    "Also, the *email_address* field isn't an information we can somehow use during the analysis, it is better to remove this column."
   ]
  },
  {
   "cell_type": "code",
   "execution_count": 4,
   "metadata": {
    "collapsed": false,
    "deletable": true,
    "editable": true
   },
   "outputs": [],
   "source": [
    "data_df.replace(to_replace=\"NaN\", value=0, inplace=True)\n",
    "data_df = data_df.drop(\"email_address\", axis=1)"
   ]
  },
  {
   "cell_type": "markdown",
   "metadata": {
    "deletable": true,
    "editable": true
   },
   "source": [
    "Since some values are related I would like to rearrange the columns in he following form:  \n",
    "\n",
    "| **POI** | *All payment features* | **Total Payments** | *All stock features* | **Total Stocks** | *Incoming emails features* | **All incoming mails** | *sent emails features* | **All sent emails** |"
   ]
  },
  {
   "cell_type": "code",
   "execution_count": 5,
   "metadata": {
    "collapsed": false,
    "deletable": true,
    "editable": true
   },
   "outputs": [
    {
     "data": {
      "text/html": [
       "<div>\n",
       "<table border=\"1\" class=\"dataframe\">\n",
       "  <thead>\n",
       "    <tr style=\"text-align: right;\">\n",
       "      <th></th>\n",
       "      <th>poi</th>\n",
       "      <th>salary</th>\n",
       "      <th>bonus</th>\n",
       "      <th>long_term_incentive</th>\n",
       "      <th>deferred_income</th>\n",
       "      <th>deferral_payments</th>\n",
       "      <th>loan_advances</th>\n",
       "      <th>other</th>\n",
       "      <th>expenses</th>\n",
       "      <th>director_fees</th>\n",
       "      <th>total_payments</th>\n",
       "      <th>exercised_stock_options</th>\n",
       "      <th>restricted_stock</th>\n",
       "      <th>restricted_stock_deferred</th>\n",
       "      <th>total_stock_value</th>\n",
       "      <th>from_poi_to_this_person</th>\n",
       "      <th>shared_receipt_with_poi</th>\n",
       "      <th>to_messages</th>\n",
       "      <th>from_this_person_to_poi</th>\n",
       "      <th>from_messages</th>\n",
       "    </tr>\n",
       "  </thead>\n",
       "  <tbody>\n",
       "    <tr>\n",
       "      <th>ALLEN PHILLIP K</th>\n",
       "      <td>False</td>\n",
       "      <td>201955</td>\n",
       "      <td>4175000</td>\n",
       "      <td>304805</td>\n",
       "      <td>-3081055</td>\n",
       "      <td>2869717</td>\n",
       "      <td>0</td>\n",
       "      <td>152</td>\n",
       "      <td>13868</td>\n",
       "      <td>0</td>\n",
       "      <td>4484442</td>\n",
       "      <td>1729541</td>\n",
       "      <td>126027</td>\n",
       "      <td>-126027</td>\n",
       "      <td>1729541</td>\n",
       "      <td>47</td>\n",
       "      <td>1407</td>\n",
       "      <td>2902</td>\n",
       "      <td>65</td>\n",
       "      <td>2195</td>\n",
       "    </tr>\n",
       "    <tr>\n",
       "      <th>BADUM JAMES P</th>\n",
       "      <td>False</td>\n",
       "      <td>0</td>\n",
       "      <td>0</td>\n",
       "      <td>0</td>\n",
       "      <td>0</td>\n",
       "      <td>178980</td>\n",
       "      <td>0</td>\n",
       "      <td>0</td>\n",
       "      <td>3486</td>\n",
       "      <td>0</td>\n",
       "      <td>182466</td>\n",
       "      <td>257817</td>\n",
       "      <td>0</td>\n",
       "      <td>0</td>\n",
       "      <td>257817</td>\n",
       "      <td>0</td>\n",
       "      <td>0</td>\n",
       "      <td>0</td>\n",
       "      <td>0</td>\n",
       "      <td>0</td>\n",
       "    </tr>\n",
       "    <tr>\n",
       "      <th>BANNANTINE JAMES M</th>\n",
       "      <td>False</td>\n",
       "      <td>477</td>\n",
       "      <td>0</td>\n",
       "      <td>0</td>\n",
       "      <td>-5104</td>\n",
       "      <td>0</td>\n",
       "      <td>0</td>\n",
       "      <td>864523</td>\n",
       "      <td>56301</td>\n",
       "      <td>0</td>\n",
       "      <td>916197</td>\n",
       "      <td>4046157</td>\n",
       "      <td>1757552</td>\n",
       "      <td>-560222</td>\n",
       "      <td>5243487</td>\n",
       "      <td>39</td>\n",
       "      <td>465</td>\n",
       "      <td>566</td>\n",
       "      <td>0</td>\n",
       "      <td>29</td>\n",
       "    </tr>\n",
       "    <tr>\n",
       "      <th>BAXTER JOHN C</th>\n",
       "      <td>False</td>\n",
       "      <td>267102</td>\n",
       "      <td>1200000</td>\n",
       "      <td>1586055</td>\n",
       "      <td>-1386055</td>\n",
       "      <td>1295738</td>\n",
       "      <td>0</td>\n",
       "      <td>2660303</td>\n",
       "      <td>11200</td>\n",
       "      <td>0</td>\n",
       "      <td>5634343</td>\n",
       "      <td>6680544</td>\n",
       "      <td>3942714</td>\n",
       "      <td>0</td>\n",
       "      <td>10623258</td>\n",
       "      <td>0</td>\n",
       "      <td>0</td>\n",
       "      <td>0</td>\n",
       "      <td>0</td>\n",
       "      <td>0</td>\n",
       "    </tr>\n",
       "    <tr>\n",
       "      <th>BAY FRANKLIN R</th>\n",
       "      <td>False</td>\n",
       "      <td>239671</td>\n",
       "      <td>400000</td>\n",
       "      <td>0</td>\n",
       "      <td>-201641</td>\n",
       "      <td>260455</td>\n",
       "      <td>0</td>\n",
       "      <td>69</td>\n",
       "      <td>129142</td>\n",
       "      <td>0</td>\n",
       "      <td>827696</td>\n",
       "      <td>0</td>\n",
       "      <td>145796</td>\n",
       "      <td>-82782</td>\n",
       "      <td>63014</td>\n",
       "      <td>0</td>\n",
       "      <td>0</td>\n",
       "      <td>0</td>\n",
       "      <td>0</td>\n",
       "      <td>0</td>\n",
       "    </tr>\n",
       "  </tbody>\n",
       "</table>\n",
       "</div>"
      ],
      "text/plain": [
       "                      poi  salary    bonus  long_term_incentive  \\\n",
       "ALLEN PHILLIP K     False  201955  4175000               304805   \n",
       "BADUM JAMES P       False       0        0                    0   \n",
       "BANNANTINE JAMES M  False     477        0                    0   \n",
       "BAXTER JOHN C       False  267102  1200000              1586055   \n",
       "BAY FRANKLIN R      False  239671   400000                    0   \n",
       "\n",
       "                    deferred_income  deferral_payments  loan_advances  \\\n",
       "ALLEN PHILLIP K            -3081055            2869717              0   \n",
       "BADUM JAMES P                     0             178980              0   \n",
       "BANNANTINE JAMES M            -5104                  0              0   \n",
       "BAXTER JOHN C              -1386055            1295738              0   \n",
       "BAY FRANKLIN R              -201641             260455              0   \n",
       "\n",
       "                      other  expenses  director_fees  total_payments  \\\n",
       "ALLEN PHILLIP K         152     13868              0         4484442   \n",
       "BADUM JAMES P             0      3486              0          182466   \n",
       "BANNANTINE JAMES M   864523     56301              0          916197   \n",
       "BAXTER JOHN C       2660303     11200              0         5634343   \n",
       "BAY FRANKLIN R           69    129142              0          827696   \n",
       "\n",
       "                    exercised_stock_options  restricted_stock  \\\n",
       "ALLEN PHILLIP K                     1729541            126027   \n",
       "BADUM JAMES P                        257817                 0   \n",
       "BANNANTINE JAMES M                  4046157           1757552   \n",
       "BAXTER JOHN C                       6680544           3942714   \n",
       "BAY FRANKLIN R                            0            145796   \n",
       "\n",
       "                    restricted_stock_deferred  total_stock_value  \\\n",
       "ALLEN PHILLIP K                       -126027            1729541   \n",
       "BADUM JAMES P                               0             257817   \n",
       "BANNANTINE JAMES M                    -560222            5243487   \n",
       "BAXTER JOHN C                               0           10623258   \n",
       "BAY FRANKLIN R                         -82782              63014   \n",
       "\n",
       "                    from_poi_to_this_person  shared_receipt_with_poi  \\\n",
       "ALLEN PHILLIP K                          47                     1407   \n",
       "BADUM JAMES P                             0                        0   \n",
       "BANNANTINE JAMES M                       39                      465   \n",
       "BAXTER JOHN C                             0                        0   \n",
       "BAY FRANKLIN R                            0                        0   \n",
       "\n",
       "                    to_messages  from_this_person_to_poi  from_messages  \n",
       "ALLEN PHILLIP K            2902                       65           2195  \n",
       "BADUM JAMES P                 0                        0              0  \n",
       "BANNANTINE JAMES M          566                        0             29  \n",
       "BAXTER JOHN C                 0                        0              0  \n",
       "BAY FRANKLIN R                0                        0              0  "
      ]
     },
     "execution_count": 5,
     "metadata": {},
     "output_type": "execute_result"
    }
   ],
   "source": [
    "cols = [\n",
    "    'poi', 'salary', 'bonus', 'long_term_incentive', 'deferred_income',\n",
    "    'deferral_payments', 'loan_advances', 'other', 'expenses', 'director_fees',\n",
    "    'total_payments', 'exercised_stock_options', 'restricted_stock',\n",
    "    'restricted_stock_deferred', 'total_stock_value',\n",
    "    'from_poi_to_this_person', 'shared_receipt_with_poi', 'to_messages',\n",
    "    'from_this_person_to_poi', 'from_messages'\n",
    "]\n",
    "data_df = data_df[cols]\n",
    "data_df.head()"
   ]
  },
  {
   "cell_type": "markdown",
   "metadata": {
    "deletable": true,
    "editable": true
   },
   "source": [
    "Now that the features are in the right order, we can examine the statistics of the dataset."
   ]
  },
  {
   "cell_type": "code",
   "execution_count": 6,
   "metadata": {
    "collapsed": false,
    "deletable": true,
    "editable": true
   },
   "outputs": [
    {
     "data": {
      "text/html": [
       "<div>\n",
       "<table border=\"1\" class=\"dataframe\">\n",
       "  <thead>\n",
       "    <tr style=\"text-align: right;\">\n",
       "      <th></th>\n",
       "      <th>salary</th>\n",
       "      <th>bonus</th>\n",
       "      <th>long_term_incentive</th>\n",
       "      <th>deferred_income</th>\n",
       "      <th>deferral_payments</th>\n",
       "      <th>loan_advances</th>\n",
       "      <th>other</th>\n",
       "      <th>expenses</th>\n",
       "      <th>director_fees</th>\n",
       "      <th>total_payments</th>\n",
       "      <th>exercised_stock_options</th>\n",
       "      <th>restricted_stock</th>\n",
       "      <th>restricted_stock_deferred</th>\n",
       "      <th>total_stock_value</th>\n",
       "      <th>from_poi_to_this_person</th>\n",
       "      <th>shared_receipt_with_poi</th>\n",
       "      <th>to_messages</th>\n",
       "      <th>from_this_person_to_poi</th>\n",
       "      <th>from_messages</th>\n",
       "    </tr>\n",
       "  </thead>\n",
       "  <tbody>\n",
       "    <tr>\n",
       "      <th>count</th>\n",
       "      <td>1.460000e+02</td>\n",
       "      <td>1.460000e+02</td>\n",
       "      <td>1.460000e+02</td>\n",
       "      <td>1.460000e+02</td>\n",
       "      <td>1.460000e+02</td>\n",
       "      <td>1.460000e+02</td>\n",
       "      <td>1.460000e+02</td>\n",
       "      <td>1.460000e+02</td>\n",
       "      <td>1.460000e+02</td>\n",
       "      <td>1.460000e+02</td>\n",
       "      <td>1.460000e+02</td>\n",
       "      <td>1.460000e+02</td>\n",
       "      <td>1.460000e+02</td>\n",
       "      <td>1.460000e+02</td>\n",
       "      <td>146.000000</td>\n",
       "      <td>146.000000</td>\n",
       "      <td>146.000000</td>\n",
       "      <td>146.000000</td>\n",
       "      <td>146.000000</td>\n",
       "    </tr>\n",
       "    <tr>\n",
       "      <th>mean</th>\n",
       "      <td>3.658114e+05</td>\n",
       "      <td>1.333474e+06</td>\n",
       "      <td>6.646839e+05</td>\n",
       "      <td>-3.827622e+05</td>\n",
       "      <td>4.387965e+05</td>\n",
       "      <td>1.149658e+06</td>\n",
       "      <td>5.854318e+05</td>\n",
       "      <td>7.074827e+04</td>\n",
       "      <td>1.942249e+04</td>\n",
       "      <td>4.350622e+06</td>\n",
       "      <td>4.182736e+06</td>\n",
       "      <td>1.749257e+06</td>\n",
       "      <td>2.051637e+04</td>\n",
       "      <td>5.846018e+06</td>\n",
       "      <td>38.226027</td>\n",
       "      <td>692.986301</td>\n",
       "      <td>1221.589041</td>\n",
       "      <td>24.287671</td>\n",
       "      <td>358.602740</td>\n",
       "    </tr>\n",
       "    <tr>\n",
       "      <th>std</th>\n",
       "      <td>2.203575e+06</td>\n",
       "      <td>8.094029e+06</td>\n",
       "      <td>4.046072e+06</td>\n",
       "      <td>2.378250e+06</td>\n",
       "      <td>2.741325e+06</td>\n",
       "      <td>9.649342e+06</td>\n",
       "      <td>3.682345e+06</td>\n",
       "      <td>4.327163e+05</td>\n",
       "      <td>1.190543e+05</td>\n",
       "      <td>2.693448e+07</td>\n",
       "      <td>2.607040e+07</td>\n",
       "      <td>1.089995e+07</td>\n",
       "      <td>1.439661e+06</td>\n",
       "      <td>3.624681e+07</td>\n",
       "      <td>73.901124</td>\n",
       "      <td>1072.969492</td>\n",
       "      <td>2226.770637</td>\n",
       "      <td>79.278206</td>\n",
       "      <td>1441.259868</td>\n",
       "    </tr>\n",
       "    <tr>\n",
       "      <th>min</th>\n",
       "      <td>0.000000e+00</td>\n",
       "      <td>0.000000e+00</td>\n",
       "      <td>0.000000e+00</td>\n",
       "      <td>-2.799289e+07</td>\n",
       "      <td>-1.025000e+05</td>\n",
       "      <td>0.000000e+00</td>\n",
       "      <td>0.000000e+00</td>\n",
       "      <td>0.000000e+00</td>\n",
       "      <td>0.000000e+00</td>\n",
       "      <td>0.000000e+00</td>\n",
       "      <td>0.000000e+00</td>\n",
       "      <td>-2.604490e+06</td>\n",
       "      <td>-7.576788e+06</td>\n",
       "      <td>-4.409300e+04</td>\n",
       "      <td>0.000000</td>\n",
       "      <td>0.000000</td>\n",
       "      <td>0.000000</td>\n",
       "      <td>0.000000</td>\n",
       "      <td>0.000000</td>\n",
       "    </tr>\n",
       "    <tr>\n",
       "      <th>25%</th>\n",
       "      <td>0.000000e+00</td>\n",
       "      <td>0.000000e+00</td>\n",
       "      <td>0.000000e+00</td>\n",
       "      <td>-3.792600e+04</td>\n",
       "      <td>0.000000e+00</td>\n",
       "      <td>0.000000e+00</td>\n",
       "      <td>0.000000e+00</td>\n",
       "      <td>0.000000e+00</td>\n",
       "      <td>0.000000e+00</td>\n",
       "      <td>9.394475e+04</td>\n",
       "      <td>0.000000e+00</td>\n",
       "      <td>8.115000e+03</td>\n",
       "      <td>0.000000e+00</td>\n",
       "      <td>2.288695e+05</td>\n",
       "      <td>0.000000</td>\n",
       "      <td>0.000000</td>\n",
       "      <td>0.000000</td>\n",
       "      <td>0.000000</td>\n",
       "      <td>0.000000</td>\n",
       "    </tr>\n",
       "    <tr>\n",
       "      <th>50%</th>\n",
       "      <td>2.105960e+05</td>\n",
       "      <td>3.000000e+05</td>\n",
       "      <td>0.000000e+00</td>\n",
       "      <td>0.000000e+00</td>\n",
       "      <td>0.000000e+00</td>\n",
       "      <td>0.000000e+00</td>\n",
       "      <td>9.595000e+02</td>\n",
       "      <td>2.018200e+04</td>\n",
       "      <td>0.000000e+00</td>\n",
       "      <td>9.413595e+05</td>\n",
       "      <td>6.082935e+05</td>\n",
       "      <td>3.605280e+05</td>\n",
       "      <td>0.000000e+00</td>\n",
       "      <td>9.659550e+05</td>\n",
       "      <td>2.500000</td>\n",
       "      <td>102.500000</td>\n",
       "      <td>289.000000</td>\n",
       "      <td>0.000000</td>\n",
       "      <td>16.500000</td>\n",
       "    </tr>\n",
       "    <tr>\n",
       "      <th>75%</th>\n",
       "      <td>2.708505e+05</td>\n",
       "      <td>8.000000e+05</td>\n",
       "      <td>3.750648e+05</td>\n",
       "      <td>0.000000e+00</td>\n",
       "      <td>9.684500e+03</td>\n",
       "      <td>0.000000e+00</td>\n",
       "      <td>1.506065e+05</td>\n",
       "      <td>5.374075e+04</td>\n",
       "      <td>0.000000e+00</td>\n",
       "      <td>1.968287e+06</td>\n",
       "      <td>1.714221e+06</td>\n",
       "      <td>8.145280e+05</td>\n",
       "      <td>0.000000e+00</td>\n",
       "      <td>2.319991e+06</td>\n",
       "      <td>40.750000</td>\n",
       "      <td>893.500000</td>\n",
       "      <td>1585.750000</td>\n",
       "      <td>13.750000</td>\n",
       "      <td>51.250000</td>\n",
       "    </tr>\n",
       "    <tr>\n",
       "      <th>max</th>\n",
       "      <td>2.670423e+07</td>\n",
       "      <td>9.734362e+07</td>\n",
       "      <td>4.852193e+07</td>\n",
       "      <td>0.000000e+00</td>\n",
       "      <td>3.208340e+07</td>\n",
       "      <td>8.392500e+07</td>\n",
       "      <td>4.266759e+07</td>\n",
       "      <td>5.235198e+06</td>\n",
       "      <td>1.398517e+06</td>\n",
       "      <td>3.098866e+08</td>\n",
       "      <td>3.117640e+08</td>\n",
       "      <td>1.303223e+08</td>\n",
       "      <td>1.545629e+07</td>\n",
       "      <td>4.345095e+08</td>\n",
       "      <td>528.000000</td>\n",
       "      <td>5521.000000</td>\n",
       "      <td>15149.000000</td>\n",
       "      <td>609.000000</td>\n",
       "      <td>14368.000000</td>\n",
       "    </tr>\n",
       "  </tbody>\n",
       "</table>\n",
       "</div>"
      ],
      "text/plain": [
       "             salary         bonus  long_term_incentive  deferred_income  \\\n",
       "count  1.460000e+02  1.460000e+02         1.460000e+02     1.460000e+02   \n",
       "mean   3.658114e+05  1.333474e+06         6.646839e+05    -3.827622e+05   \n",
       "std    2.203575e+06  8.094029e+06         4.046072e+06     2.378250e+06   \n",
       "min    0.000000e+00  0.000000e+00         0.000000e+00    -2.799289e+07   \n",
       "25%    0.000000e+00  0.000000e+00         0.000000e+00    -3.792600e+04   \n",
       "50%    2.105960e+05  3.000000e+05         0.000000e+00     0.000000e+00   \n",
       "75%    2.708505e+05  8.000000e+05         3.750648e+05     0.000000e+00   \n",
       "max    2.670423e+07  9.734362e+07         4.852193e+07     0.000000e+00   \n",
       "\n",
       "       deferral_payments  loan_advances         other      expenses  \\\n",
       "count       1.460000e+02   1.460000e+02  1.460000e+02  1.460000e+02   \n",
       "mean        4.387965e+05   1.149658e+06  5.854318e+05  7.074827e+04   \n",
       "std         2.741325e+06   9.649342e+06  3.682345e+06  4.327163e+05   \n",
       "min        -1.025000e+05   0.000000e+00  0.000000e+00  0.000000e+00   \n",
       "25%         0.000000e+00   0.000000e+00  0.000000e+00  0.000000e+00   \n",
       "50%         0.000000e+00   0.000000e+00  9.595000e+02  2.018200e+04   \n",
       "75%         9.684500e+03   0.000000e+00  1.506065e+05  5.374075e+04   \n",
       "max         3.208340e+07   8.392500e+07  4.266759e+07  5.235198e+06   \n",
       "\n",
       "       director_fees  total_payments  exercised_stock_options  \\\n",
       "count   1.460000e+02    1.460000e+02             1.460000e+02   \n",
       "mean    1.942249e+04    4.350622e+06             4.182736e+06   \n",
       "std     1.190543e+05    2.693448e+07             2.607040e+07   \n",
       "min     0.000000e+00    0.000000e+00             0.000000e+00   \n",
       "25%     0.000000e+00    9.394475e+04             0.000000e+00   \n",
       "50%     0.000000e+00    9.413595e+05             6.082935e+05   \n",
       "75%     0.000000e+00    1.968287e+06             1.714221e+06   \n",
       "max     1.398517e+06    3.098866e+08             3.117640e+08   \n",
       "\n",
       "       restricted_stock  restricted_stock_deferred  total_stock_value  \\\n",
       "count      1.460000e+02               1.460000e+02       1.460000e+02   \n",
       "mean       1.749257e+06               2.051637e+04       5.846018e+06   \n",
       "std        1.089995e+07               1.439661e+06       3.624681e+07   \n",
       "min       -2.604490e+06              -7.576788e+06      -4.409300e+04   \n",
       "25%        8.115000e+03               0.000000e+00       2.288695e+05   \n",
       "50%        3.605280e+05               0.000000e+00       9.659550e+05   \n",
       "75%        8.145280e+05               0.000000e+00       2.319991e+06   \n",
       "max        1.303223e+08               1.545629e+07       4.345095e+08   \n",
       "\n",
       "       from_poi_to_this_person  shared_receipt_with_poi   to_messages  \\\n",
       "count               146.000000               146.000000    146.000000   \n",
       "mean                 38.226027               692.986301   1221.589041   \n",
       "std                  73.901124              1072.969492   2226.770637   \n",
       "min                   0.000000                 0.000000      0.000000   \n",
       "25%                   0.000000                 0.000000      0.000000   \n",
       "50%                   2.500000               102.500000    289.000000   \n",
       "75%                  40.750000               893.500000   1585.750000   \n",
       "max                 528.000000              5521.000000  15149.000000   \n",
       "\n",
       "       from_this_person_to_poi  from_messages  \n",
       "count               146.000000     146.000000  \n",
       "mean                 24.287671     358.602740  \n",
       "std                  79.278206    1441.259868  \n",
       "min                   0.000000       0.000000  \n",
       "25%                   0.000000       0.000000  \n",
       "50%                   0.000000      16.500000  \n",
       "75%                  13.750000      51.250000  \n",
       "max                 609.000000   14368.000000  "
      ]
     },
     "execution_count": 6,
     "metadata": {},
     "output_type": "execute_result"
    }
   ],
   "source": [
    "data_df.describe()"
   ]
  },
  {
   "cell_type": "markdown",
   "metadata": {
    "deletable": true,
    "editable": true
   },
   "source": [
    "We can see that the 3 categories have different orders of magnitude with the biggest different between the *email features* with the other two categories.  \n",
    "\n",
    "Also let's find out how many POIs we have in the dataset."
   ]
  },
  {
   "cell_type": "code",
   "execution_count": 7,
   "metadata": {
    "collapsed": false,
    "deletable": true,
    "editable": true
   },
   "outputs": [
    {
     "data": {
      "text/plain": [
       "False    128\n",
       "True      18\n",
       "Name: poi, dtype: int64"
      ]
     },
     "execution_count": 7,
     "metadata": {},
     "output_type": "execute_result"
    }
   ],
   "source": [
    "data_df.loc[:, \"poi\"].value_counts()"
   ]
  },
  {
   "cell_type": "markdown",
   "metadata": {
    "deletable": true,
    "editable": true
   },
   "source": [
    "## Outlier Investigation"
   ]
  },
  {
   "cell_type": "markdown",
   "metadata": {
    "deletable": true,
    "editable": true
   },
   "source": [
    "My first attempt to spot any possible outliers will be visual.  \n",
    "I will use Seaborn's pairplot which present in the same time the distribution of the variables and a scatter plot representation of them. Since the number of variables are too many to plot them all, I will use the 4 with the higher variance."
   ]
  },
  {
   "cell_type": "code",
   "execution_count": 8,
   "metadata": {
    "collapsed": false,
    "deletable": true,
    "editable": true
   },
   "outputs": [
    {
     "data": {
      "text/plain": [
       "<seaborn.axisgrid.PairGrid at 0x7f20577c9860>"
      ]
     },
     "execution_count": 8,
     "metadata": {},
     "output_type": "execute_result"
    },
    {
     "data": {
      "image/png": "[encoded data removed]",
      "text/plain": [
       "<matplotlib.figure.Figure at 0x7f20577c9f60>"
      ]
     },
     "metadata": {},
     "output_type": "display_data"
    }
   ],
   "source": [
    "sns.pairplot(data=data_df, vars=[\"total_payments\", \"exercised_stock_options\", \"restricted_stock\", \"total_stock_value\"], hue=\"poi\")"
   ]
  },
  {
   "cell_type": "markdown",
   "metadata": {
    "deletable": true,
    "editable": true
   },
   "source": [
    "There are two datapoints far away from the cluster of the rest. I will use the *Total Payments* to find them."
   ]
  },
  {
   "cell_type": "code",
   "execution_count": 9,
   "metadata": {
    "collapsed": false,
    "deletable": true,
    "editable": true
   },
   "outputs": [
    {
     "data": {
      "text/plain": [
       "TOTAL            309886585\n",
       "LAY KENNETH L    103559793\n",
       "Name: total_payments, dtype: int64"
      ]
     },
     "execution_count": 9,
     "metadata": {},
     "output_type": "execute_result"
    }
   ],
   "source": [
    "data_df.total_payments.nlargest(2)"
   ]
  },
  {
   "cell_type": "markdown",
   "metadata": {
    "deletable": true,
    "editable": true
   },
   "source": [
    "The first one 'TOTAL', is the totals on the [Payments Schedule](dataset/enron61702insiderpay.pdf) and not a person so it should be removed.  \n",
    "The second one is not an outlier, it is just the huge payment and stock value of the CEO and chairman of Enron, Kenneth Lay. Datapoints like this are not outliers; in fact anomalies like this may lead us to the rest of the POIs. \n",
    "These extreme values lead the rest of the employees to the bottom left corner of the scatterplot. Let's use a logarithmic scale for both axes to unclutter the plot."
   ]
  },
  {
   "cell_type": "code",
   "execution_count": 10,
   "metadata": {
    "collapsed": false,
    "deletable": true,
    "editable": true
   },
   "outputs": [],
   "source": [
    "data_df.drop(\"TOTAL\", inplace=True)"
   ]
  },
  {
   "cell_type": "code",
   "execution_count": 11,
   "metadata": {
    "collapsed": false,
    "deletable": true,
    "editable": true,
    "scrolled": true
   },
   "outputs": [
    {
     "data": {
      "text/plain": [
       "<seaborn.axisgrid.PairGrid at 0x7f20576aa0f0>"
      ]
     },
     "execution_count": 11,
     "metadata": {},
     "output_type": "execute_result"
    },
    {
     "data": {
      "image/png": "[encoded data removed]",
      "text/plain": [
       "<matplotlib.figure.Figure at 0x7f20570b7c88>"
      ]
     },
     "metadata": {},
     "output_type": "display_data"
    }
   ],
   "source": [
    "sns.pairplot(data=data_df, vars=[\"total_payments\", \"exercised_stock_options\", \"restricted_stock\", \"total_stock_value\"], hue=\"poi\")"
   ]
  },
  {
   "cell_type": "markdown",
   "metadata": {
    "deletable": true,
    "editable": true
   },
   "source": [
    "With the \"TOTAL\" removed the scatter plots are much more uncluttered and we can see some trends on them.  \n",
    "We can notice also a negative value on *Restricted Stock* variable, an indication that more outliers may exist.  \n",
    "Since the data have been taken from a financial statement an error may have introduced during the data entry / scrapping.  \n",
    "We can make a first sanity by checking if the individual values sum with the totals of each category (*Total Payments*, *Total Stock Value*)."
   ]
  },
  {
   "cell_type": "code",
   "execution_count": 12,
   "metadata": {
    "collapsed": false,
    "deletable": true,
    "editable": true
   },
   "outputs": [
    {
     "name": "stdout",
     "output_type": "stream",
     "text": [
      "salary                  26704229.0\n",
      "bonus                   97343619.0\n",
      "long_term_incentive     48521928.0\n",
      "deferred_income        -27890391.0\n",
      "deferral_payments       31980896.0\n",
      "loan_advances           83925000.0\n",
      "other                   42805453.0\n",
      "expenses                 5094049.0\n",
      "director_fees            1437166.0\n",
      "total_payments         325304226.0\n",
      "dtype: float64\n",
      "---\n",
      "Sum all 'payment' variables: 309921949.0\n"
     ]
    }
   ],
   "source": [
    "print(data_df.sum()[1:11])\n",
    "print(\"---\")\n",
    "print(\"Sum all 'payment' variables:\", sum(data_df.sum()[1:10]))"
   ]
  },
  {
   "cell_type": "code",
   "execution_count": 13,
   "metadata": {
    "collapsed": false,
    "deletable": true,
    "editable": true
   },
   "outputs": [
    {
     "name": "stdout",
     "output_type": "stream",
     "text": [
      "exercised_stock_options      298915485.0\n",
      "restricted_stock             125069226.0\n",
      "restricted_stock_deferred     10572178.0\n",
      "total_stock_value            419009128.0\n",
      "dtype: float64\n",
      "---\n",
      "Sum all 'stock' variables: 434556889.0\n"
     ]
    }
   ],
   "source": [
    "print(data_df.sum()[11:15])\n",
    "print(\"---\")\n",
    "print(\"Sum all 'stock' variables:\", sum(data_df.sum()[11:14]))"
   ]
  },
  {
   "cell_type": "markdown",
   "metadata": {
    "deletable": true,
    "editable": true
   },
   "source": [
    "We can see that the totals do not match. I need to check employee by employee to find the errors."
   ]
  },
  {
   "cell_type": "code",
   "execution_count": 14,
   "metadata": {
    "collapsed": false,
    "deletable": true,
    "editable": true
   },
   "outputs": [
    {
     "data": {
      "text/html": [
       "<div>\n",
       "<table border=\"1\" class=\"dataframe\">\n",
       "  <thead>\n",
       "    <tr style=\"text-align: right;\">\n",
       "      <th></th>\n",
       "      <th>poi</th>\n",
       "      <th>salary</th>\n",
       "      <th>bonus</th>\n",
       "      <th>long_term_incentive</th>\n",
       "      <th>deferred_income</th>\n",
       "      <th>deferral_payments</th>\n",
       "      <th>loan_advances</th>\n",
       "      <th>other</th>\n",
       "      <th>expenses</th>\n",
       "      <th>director_fees</th>\n",
       "      <th>total_payments</th>\n",
       "      <th>exercised_stock_options</th>\n",
       "      <th>restricted_stock</th>\n",
       "      <th>restricted_stock_deferred</th>\n",
       "      <th>total_stock_value</th>\n",
       "      <th>from_poi_to_this_person</th>\n",
       "      <th>shared_receipt_with_poi</th>\n",
       "      <th>to_messages</th>\n",
       "      <th>from_this_person_to_poi</th>\n",
       "      <th>from_messages</th>\n",
       "    </tr>\n",
       "  </thead>\n",
       "  <tbody>\n",
       "    <tr>\n",
       "      <th>BELFER ROBERT</th>\n",
       "      <td>False</td>\n",
       "      <td>0</td>\n",
       "      <td>0</td>\n",
       "      <td>0</td>\n",
       "      <td>0</td>\n",
       "      <td>-102500</td>\n",
       "      <td>0</td>\n",
       "      <td>0</td>\n",
       "      <td>0</td>\n",
       "      <td>3285</td>\n",
       "      <td>102500</td>\n",
       "      <td>3285</td>\n",
       "      <td>0</td>\n",
       "      <td>44093</td>\n",
       "      <td>-44093</td>\n",
       "      <td>0</td>\n",
       "      <td>0</td>\n",
       "      <td>0</td>\n",
       "      <td>0</td>\n",
       "      <td>0</td>\n",
       "    </tr>\n",
       "    <tr>\n",
       "      <th>BHATNAGAR SANJAY</th>\n",
       "      <td>False</td>\n",
       "      <td>0</td>\n",
       "      <td>0</td>\n",
       "      <td>0</td>\n",
       "      <td>0</td>\n",
       "      <td>0</td>\n",
       "      <td>0</td>\n",
       "      <td>137864</td>\n",
       "      <td>0</td>\n",
       "      <td>137864</td>\n",
       "      <td>15456290</td>\n",
       "      <td>2604490</td>\n",
       "      <td>-2604490</td>\n",
       "      <td>15456290</td>\n",
       "      <td>0</td>\n",
       "      <td>0</td>\n",
       "      <td>463</td>\n",
       "      <td>523</td>\n",
       "      <td>1</td>\n",
       "      <td>29</td>\n",
       "    </tr>\n",
       "  </tbody>\n",
       "</table>\n",
       "</div>"
      ],
      "text/plain": [
       "                    poi  salary  bonus  long_term_incentive  deferred_income  \\\n",
       "BELFER ROBERT     False       0      0                    0                0   \n",
       "BHATNAGAR SANJAY  False       0      0                    0                0   \n",
       "\n",
       "                  deferral_payments  loan_advances   other  expenses  \\\n",
       "BELFER ROBERT               -102500              0       0         0   \n",
       "BHATNAGAR SANJAY                  0              0  137864         0   \n",
       "\n",
       "                  director_fees  total_payments  exercised_stock_options  \\\n",
       "BELFER ROBERT              3285          102500                     3285   \n",
       "BHATNAGAR SANJAY         137864        15456290                  2604490   \n",
       "\n",
       "                  restricted_stock  restricted_stock_deferred  \\\n",
       "BELFER ROBERT                    0                      44093   \n",
       "BHATNAGAR SANJAY          -2604490                   15456290   \n",
       "\n",
       "                  total_stock_value  from_poi_to_this_person  \\\n",
       "BELFER ROBERT                -44093                        0   \n",
       "BHATNAGAR SANJAY                  0                        0   \n",
       "\n",
       "                  shared_receipt_with_poi  to_messages  \\\n",
       "BELFER ROBERT                           0            0   \n",
       "BHATNAGAR SANJAY                      463          523   \n",
       "\n",
       "                  from_this_person_to_poi  from_messages  \n",
       "BELFER ROBERT                           0              0  \n",
       "BHATNAGAR SANJAY                        1             29  "
      ]
     },
     "execution_count": 14,
     "metadata": {},
     "output_type": "execute_result"
    }
   ],
   "source": [
    "alist = []\n",
    "for line in data_df.itertuples():\n",
    "    if sum(line[2:11]) != line[11] or sum(line[12:15]) != line[15]:\n",
    "        alist.append(line[0])\n",
    "data_df.loc[alist]"
   ]
  },
  {
   "cell_type": "markdown",
   "metadata": {
    "deletable": true,
    "editable": true
   },
   "source": [
    "Comparing the above results with the [Payments Schedule](dataset/enron61702insiderpay.pdf) we can see that there are some errors in the data.  \n",
    "The right values are:\n",
    "\n",
    "|               | poi | salary | deferral_payments | loan_advances | bonus | deferred_income | expenses | other | long_term_incentive | director_fees | total_payments | restricted_stock_deferred | exercised_stock_options | restricted_stock | total_stock_value |\n",
    "|-------------------|--------|-------------------|---------------|-------|-----------------|----------|-------|---------------------|---------------|----------------|---------------------------|-------------------------|------------------|-------------------|\n",
    "| **BELFER ROBERT** | False | 0      | 0                 | 0             | 0     | -102500        | 3285    | 0     | 0                   | 102500       | 3285          | -44093                   | 0                       | 44093           | 0                 |\n",
    "| **BHATNAGAR SANJAY** | False | 0      | 0                 | 0             | 0     | 0               | 137864  |   0    | 0                   | 0             | 137864        | -2604490                | 15456290              | 2604490        | 15456290        |\n"
   ]
  },
  {
   "cell_type": "code",
   "execution_count": 15,
   "metadata": {
    "collapsed": false,
    "deletable": true,
    "editable": true
   },
   "outputs": [],
   "source": [
    "data_df.loc[\"BELFER ROBERT\", :] = [\n",
    "    False, 0, 0, 0, 0, -102500, 3285, 0, 0, 102500, 3285, -44093, 0, 44093, 0,\n",
    "    0, 0, 0, 0, 0\n",
    "]\n",
    "data_df.loc[\"BHATNAGAR SANJAY\", :] = [\n",
    "    False, 0, 0, 0, 0, 0, 137864, 0, 0, 0, 137864, -2604490, 15456290, 2604490,\n",
    "    15456290, 0, 463, 523, 1, 29\n",
    "]"
   ]
  },
  {
   "cell_type": "markdown",
   "metadata": {
    "deletable": true,
    "editable": true
   },
   "source": [
    "Now that we do not have any more outliers we can plot the two aggregated variables, *Total Payments* and *Total Stock Value*."
   ]
  },
  {
   "cell_type": "code",
   "execution_count": 16,
   "metadata": {
    "collapsed": false,
    "deletable": true,
    "editable": true
   },
   "outputs": [
    {
     "data": {
      "image/png": "[encoded data removed]",
      "text/plain": [
       "<matplotlib.figure.Figure at 0x7f20503a22b0>"
      ]
     },
     "metadata": {},
     "output_type": "display_data"
    }
   ],
   "source": [
    "fig1, ax = plt.subplots()\n",
    "for poi, data in data_df.groupby(by=\"poi\"):\n",
    "    ax.plot(data['total_payments'],data['total_stock_value'],'o', label=poi)\n",
    "ax.legend()\n",
    "plt.xscale('symlog')\n",
    "plt.yscale('symlog')\n",
    "plt.xlabel(\"Total Payments\")\n",
    "plt.ylabel(\"Total Stock Value\")\n",
    "\n",
    "plt.show()"
   ]
  },
  {
   "cell_type": "markdown",
   "metadata": {
    "deletable": true,
    "editable": true
   },
   "source": [
    "We can see that there are some persons with zero salary or bonus (or both) and none of them is a POI. Since we have a sparse number of POIs it might be beneficial to remove them to have a more dense dataset. I will create a copy of the dataset with the specific persons removed for further evaluation."
   ]
  },
  {
   "cell_type": "code",
   "execution_count": 17,
   "metadata": {
    "collapsed": false,
    "deletable": true,
    "editable": true
   },
   "outputs": [
    {
     "data": {
      "text/plain": [
       "(81, 20)"
      ]
     },
     "execution_count": 17,
     "metadata": {},
     "output_type": "execute_result"
    }
   ],
   "source": [
    "data_nbs = data_df[data_df.salary > 0]\n",
    "data_nbs = data_nbs[data_nbs.bonus > 0]\n",
    "data_nbs.shape"
   ]
  },
  {
   "cell_type": "markdown",
   "metadata": {
    "deletable": true,
    "editable": true
   },
   "source": [
    "Now that the dataset is clear of outliers we can split the labels from the features and have a first scoring as a baseline for the rest of the analysis. I will use the LinearSVC classifier which seems the more appropriate to begin.  \n",
    "The dataset is quite sparse to use the usual *training*/*testing* splitting so instead I will use the whole dataset for training and cross validation for testing. The procedure has been code in the ```test_classifier()``` function, part of the *tester.py* file."
   ]
  },
  {
   "cell_type": "code",
   "execution_count": 18,
   "metadata": {
    "collapsed": false,
    "deletable": true,
    "editable": true
   },
   "outputs": [],
   "source": [
    "def do_split(data):\n",
    "    X = data.copy()\n",
    "    #Removing the poi labels and put them in a separate array, transforming it\n",
    "    #from True / False to 0 / 1\n",
    "    y = X.pop(\"poi\").astype(int)\n",
    "    \n",
    "    return X, y, "
   ]
  },
  {
   "cell_type": "code",
   "execution_count": 19,
   "metadata": {
    "collapsed": false,
    "deletable": true,
    "editable": true
   },
   "outputs": [],
   "source": [
    "X, y = do_split(data_nbs)"
   ]
  },
  {
   "cell_type": "code",
   "execution_count": 20,
   "metadata": {
    "collapsed": false,
    "deletable": true,
    "editable": true,
    "scrolled": true
   },
   "outputs": [
    {
     "name": "stdout",
     "output_type": "stream",
     "text": [
      "LinearSVC(C=1.0, class_weight=None, dual=True, fit_intercept=True,\n",
      "     intercept_scaling=1, loss='squared_hinge', max_iter=1000,\n",
      "     multi_class='ovr', penalty='l2', random_state=42, tol=0.0001,\n",
      "     verbose=0)\n",
      "\tAccuracy: 0.74307\tPrecision: 0.21031\tRecall: 0.33650\tF1: 0.25885\tF2: 0.30045\n",
      "\tTotal predictions: 15000\tTrue positives:  673\tFalse positives: 2527\tFalse negatives: 1327\tTrue negatives: 10473\n",
      "\n"
     ]
    }
   ],
   "source": [
    "#test_classifier() demands the dataset in a dictionary and the features labels\n",
    "#in a list with 'poi' first.\n",
    "features = data_df.columns.tolist()\n",
    "data = data_df.to_dict(orient='index')\n",
    "\n",
    "test_classifier(LinearSVC(random_state=42), data, features)"
   ]
  },
  {
   "cell_type": "markdown",
   "metadata": {
    "deletable": true,
    "editable": true
   },
   "source": [
    "We are interested in the ability of the classifier not to label as Person Of Interest (POI) a person that is not, and also to find all the POIs so the metrics that we are most interested are **Precision** and **Recall**. Since we want to maximize both in the same time we will try to maximize the **F1** score which can be interpreted as a weighted average of the precision and recall.  \n",
    "We can see that the initial scores are very low with the LinearSVC classifier being poor in classifying the right persons. This result might be either due to inability of the specific algorithm to make a good prediction on the specific dataset or because of the need of preprocessing of the dataset (or both).  \n",
    "In the following steps, I will explore the impact of adding and transforming features to the performance of the model. Finally, I will try several algorithm families to end up with a combination of features / algorithm to build the best performing model for the specific problem."
   ]
  },
  {
   "cell_type": "markdown",
   "metadata": {
    "deletable": true,
    "editable": true
   },
   "source": [
    "# Optimize Feature Selection/Engineering"
   ]
  },
  {
   "cell_type": "markdown",
   "metadata": {
    "deletable": true,
    "editable": true
   },
   "source": [
    "## Create new features"
   ]
  },
  {
   "cell_type": "markdown",
   "metadata": {
    "deletable": true,
    "editable": true
   },
   "source": [
    "In some cases the value of a variable is less important than its proportion to an aggregated value. As an example from the current dataset a bonus of 100,000 is less informative than a bonus 3 times the salary, or \"500 sent email to POIs\" is far less informative than \"half of the sent emails have been sent to POIs\".  \n",
    "For this reason I will add the proportions of each variable to its category's sum."
   ]
  },
  {
   "cell_type": "code",
   "execution_count": 21,
   "metadata": {
    "collapsed": false,
    "deletable": true,
    "editable": true
   },
   "outputs": [],
   "source": [
    "data = data_df.copy()\n",
    "data.loc[:, \"salary_p\"] = data.loc[:, \"salary\"]/data.loc[:, \"total_payments\"]\n",
    "data.loc[:, \"deferral_payments_p\"] = data.loc[:, \"deferral_payments\"]/data.loc[:, \"total_payments\"]\n",
    "data.loc[:, \"loan_advances_p\"] = data.loc[:, \"loan_advances\"]/data.loc[:, \"total_payments\"]\n",
    "data.loc[:, \"bonus_p\"] = data.loc[:, \"bonus\"]/data.loc[:, \"total_payments\"]\n",
    "data.loc[:, \"deferred_income_p\"] = data.loc[:, \"deferred_income\"]/data.loc[:, \"total_payments\"]\n",
    "data.loc[:, \"expenses_p\"] = data.loc[:, \"expenses\"]/data.loc[:, \"total_payments\"]\n",
    "data.loc[:, \"other_p\"] = data.loc[:, \"other\"]/data.loc[:, \"total_payments\"]\n",
    "data.loc[:, \"long_term_incentive_p\"] = data.loc[:, \"long_term_incentive\"]/data.loc[:, \"total_payments\"]\n",
    "data.loc[:, \"director_fees_p\"] = data.loc[:, \"director_fees\"]/data.loc[:, \"total_payments\"]\n",
    "\n",
    "data.loc[:, \"restricted_stock_deferred_p\"] = data.loc[:, \"restricted_stock_deferred\"]/data.loc[:, \"total_stock_value\"]\n",
    "data.loc[:, \"exercised_stock_options_p\"] = data.loc[:, \"exercised_stock_options\"]/data.loc[:, \"total_stock_value\"]\n",
    "data.loc[:, \"restricted_stock_p\"] = data.loc[:, \"restricted_stock\"]/data.loc[:, \"total_stock_value\"]\n",
    "\n",
    "data.loc[:, \"from_poi_to_this_person_p\"] = data.loc[:, \"from_poi_to_this_person\"]/data.loc[:, \"to_messages\"]\n",
    "data.loc[:, \"shared_receipt_with_poi_p\"] = data.loc[:, \"shared_receipt_with_poi\"]/data.loc[:, \"to_messages\"]\n",
    "\n",
    "data.loc[:, \"from_this_person_to_poi_p\"] = data.loc[:, \"from_this_person_to_poi\"]/data.loc[:, \"from_messages\"]\n",
    "    \n",
    "data.replace(to_replace=np.NaN, value=0, inplace=True)\n",
    "data.replace(to_replace=np.inf, value=0, inplace=True)\n",
    "data.replace(to_replace=-np.inf, value=0, inplace=True)"
   ]
  },
  {
   "cell_type": "markdown",
   "metadata": {
    "deletable": true,
    "editable": true
   },
   "source": [
    "Now we can plot the importance of the features of the \"enriched\" dataset by using the same classifier."
   ]
  },
  {
   "cell_type": "code",
   "execution_count": 22,
   "metadata": {
    "collapsed": false,
    "deletable": true,
    "editable": true
   },
   "outputs": [],
   "source": [
    "def plot_importance(dataset):\n",
    "    X, y = do_split(dataset)\n",
    "\n",
    "    selector = SelectPercentile(percentile=100)\n",
    "    a = selector.fit(X, y)\n",
    "\n",
    "    plt.figure(figsize=(12,9))\n",
    "    sns.barplot(y=X.columns, x=a.scores_)"
   ]
  },
  {
   "cell_type": "code",
   "execution_count": 23,
   "metadata": {
    "collapsed": false,
    "deletable": true,
    "editable": true
   },
   "outputs": [
    {
     "data": {
      "image/png": "[encoded data removed]",
      "text/plain": [
       "<matplotlib.figure.Figure at 0x7f204dfc5668>"
      ]
     },
     "metadata": {},
     "output_type": "display_data"
    }
   ],
   "source": [
    "plot_importance(data)"
   ]
  },
  {
   "cell_type": "markdown",
   "metadata": {
    "deletable": true,
    "editable": true
   },
   "source": [
    "Comparing the newly created features with the original we can see that the proportions of \"Long Term Incentive\", \"Restricted Stock Deferred\" and \"From This Person to POI\" score higher than the original features. We will keep these and remove the original values. to avoid bias the model towards a specific feature by using both the original value and its proportion."
   ]
  },
  {
   "cell_type": "code",
   "execution_count": 24,
   "metadata": {
    "collapsed": false,
    "deletable": true,
    "editable": true
   },
   "outputs": [],
   "source": [
    "#Adding the proportions\n",
    "data_df.loc[:, \"long_term_incentive_p\"] = data_df.loc[:, \"long_term_incentive\"]/data_df.loc[:, \"total_payments\"]\n",
    "data_df.loc[:, \"restricted_stock_deferred_p\"] = data_df.loc[:, \"restricted_stock_deferred\"]/data_df.loc[:, \"total_stock_value\"]\n",
    "data_df.loc[:, \"from_this_person_to_poi_p\"] = data_df.loc[:, \"from_this_person_to_poi\"]/data_df.loc[:, \"from_messages\"]\n",
    "#Removing the original values.\n",
    "data_df.drop(\"long_term_incentive\", axis=1)\n",
    "data_df.drop(\"restricted_stock_deferred\", axis=1)\n",
    "data_df.drop(\"from_this_person_to_poi\", axis=1)\n",
    "#Correcting NaN and infinity values created by zero divisions\n",
    "data_df.replace(to_replace=np.NaN, value=0, inplace=True)\n",
    "data_df.replace(to_replace=np.inf, value=0, inplace=True)\n",
    "data_df.replace(to_replace=-np.inf, value=0, inplace=True)"
   ]
  },
  {
   "cell_type": "code",
   "execution_count": 25,
   "metadata": {
    "collapsed": false,
    "deletable": true,
    "editable": true
   },
   "outputs": [
    {
     "data": {
      "image/png": "[encoded data removed]",
      "text/plain": [
       "<matplotlib.figure.Figure at 0x7f204dd91d68>"
      ]
     },
     "metadata": {},
     "output_type": "display_data"
    }
   ],
   "source": [
    "plot_importance(data_df)"
   ]
  },
  {
   "cell_type": "markdown",
   "metadata": {
    "deletable": true,
    "editable": true
   },
   "source": [
    "## Feature Selection"
   ]
  },
  {
   "cell_type": "markdown",
   "metadata": {
    "deletable": true,
    "editable": true
   },
   "source": [
    "For feature selection I will use LinearSVC classifier and I will test both univariate feature selection (KBest) and Primary Component Analysis."
   ]
  },
  {
   "cell_type": "code",
   "execution_count": 26,
   "metadata": {
    "collapsed": false,
    "deletable": true,
    "editable": true
   },
   "outputs": [],
   "source": [
    "X, y = do_split(data_df)"
   ]
  },
  {
   "cell_type": "code",
   "execution_count": 27,
   "metadata": {
    "collapsed": false,
    "deletable": true,
    "editable": true
   },
   "outputs": [
    {
     "data": {
      "image/png": "[encoded data removed]",
      "text/plain": [
       "<matplotlib.figure.Figure at 0x7f205713ca90>"
      ]
     },
     "metadata": {},
     "output_type": "display_data"
    },
    {
     "data": {
      "text/plain": [
       "Pipeline(steps=[('reduce_dim', SelectKBest(k=7, score_func=<function f_classif at 0x7f2059e582f0>)), ('classify', LinearSVC(C=1.0, class_weight=None, dual=True, fit_intercept=True,\n",
       "     intercept_scaling=1, loss='squared_hinge', max_iter=1000,\n",
       "     multi_class='ovr', penalty='l2', random_state=42, tol=0.0001,\n",
       "     verbose=0))])"
      ]
     },
     "execution_count": 27,
     "metadata": {},
     "output_type": "execute_result"
    }
   ],
   "source": [
    "warnings.filterwarnings('ignore')\n",
    "\n",
    "pipe = Pipeline([('reduce_dim', PCA(random_state=42)),\n",
    "                 ('classify', LinearSVC(random_state=42))])\n",
    "\n",
    "N_FEATURES_OPTIONS = list(range(2,21))\n",
    "\n",
    "param_grid = [\n",
    "    {\n",
    "        'reduce_dim': [PCA(random_state=42)],\n",
    "        'reduce_dim__n_components': N_FEATURES_OPTIONS,\n",
    "    },\n",
    "    {\n",
    "        'reduce_dim': [SelectKBest()],\n",
    "        'reduce_dim__k': N_FEATURES_OPTIONS,\n",
    "    },\n",
    "]\n",
    "reducer_labels = ['PCA', 'KBest']\n",
    "cv = StratifiedShuffleSplit(random_state=42)\n",
    "grid = GridSearchCV(\n",
    "    pipe, param_grid=param_grid, cv=cv, scoring='f1', n_jobs=-1)\n",
    "\n",
    "X, y = do_split(data_df)\n",
    "grid.fit(X, y)\n",
    "\n",
    "mean_scores = np.array(grid.cv_results_['mean_test_score'])\n",
    "mean_scores = mean_scores.reshape(-1, len(N_FEATURES_OPTIONS))\n",
    "bar_offsets = (np.arange(len(N_FEATURES_OPTIONS)) *\n",
    "               (len(reducer_labels) + 1) + .5)\n",
    "plt.figure(figsize=(12,9))\n",
    "\n",
    "for i, (label, reducer_scores) in enumerate(zip(reducer_labels, mean_scores)):\n",
    "    plt.bar(bar_offsets + i, reducer_scores, label=label)\n",
    "\n",
    "plt.title(\"Comparing feature reduction techniques\")\n",
    "plt.xlabel('Reduced number of features')\n",
    "plt.xticks(bar_offsets + len(reducer_labels) / 2, N_FEATURES_OPTIONS)\n",
    "plt.ylabel('Classification accuracy')\n",
    "plt.ylim((0, 0.4))\n",
    "plt.legend(loc='upper left')\n",
    "\n",
    "plt.show()\n",
    "grid.best_estimator_"
   ]
  },
  {
   "cell_type": "markdown",
   "metadata": {
    "deletable": true,
    "editable": true
   },
   "source": [
    "We can see that we get the best result if we reduce the features of the model to :"
   ]
  },
  {
   "cell_type": "code",
   "execution_count": 28,
   "metadata": {
    "collapsed": false,
    "deletable": true,
    "editable": true
   },
   "outputs": [
    {
     "data": {
      "text/plain": [
       "['salary',\n",
       " 'bonus',\n",
       " 'exercised_stock_options',\n",
       " 'total_stock_value',\n",
       " 'long_term_incentive_p',\n",
       " 'from_this_person_to_poi_p']"
      ]
     },
     "execution_count": 28,
     "metadata": {},
     "output_type": "execute_result"
    }
   ],
   "source": [
    "selector = SelectKBest(k=6)\n",
    "selector.fit(X, y)\n",
    "X.columns[selector.get_support()].tolist()"
   ]
  },
  {
   "cell_type": "markdown",
   "metadata": {
    "deletable": true,
    "editable": true
   },
   "source": [
    "The score of LinearSVC on the reduced dataset is:"
   ]
  },
  {
   "cell_type": "code",
   "execution_count": 29,
   "metadata": {
    "collapsed": false,
    "deletable": true,
    "editable": true
   },
   "outputs": [
    {
     "name": "stdout",
     "output_type": "stream",
     "text": [
      "Pipeline(steps=[('reduce_dim', SelectKBest(k=7, score_func=<function f_classif at 0x7f2059e582f0>)), ('classify', LinearSVC(C=1.0, class_weight=None, dual=True, fit_intercept=True,\n",
      "     intercept_scaling=1, loss='squared_hinge', max_iter=1000,\n",
      "     multi_class='ovr', penalty='l2', random_state=42, tol=0.0001,\n",
      "     verbose=0))])\n",
      "\tAccuracy: 0.76007\tPrecision: 0.24481\tRecall: 0.38350\tF1: 0.29885\tF2: 0.34447\n",
      "\tTotal predictions: 15000\tTrue positives:  767\tFalse positives: 2366\tFalse negatives: 1233\tTrue negatives: 10634\n",
      "\n"
     ]
    }
   ],
   "source": [
    "features = data_df.columns.tolist()\n",
    "data_dict = data_df.to_dict(orient='index')\n",
    "test_classifier(grid.best_estimator_, data_dict, features)"
   ]
  },
  {
   "cell_type": "markdown",
   "metadata": {
    "deletable": true,
    "editable": true
   },
   "source": [
    "There is a 17% improvement on the f1 score with 20% better precision and 12% better recall."
   ]
  },
  {
   "cell_type": "markdown",
   "metadata": {
    "deletable": true,
    "editable": true
   },
   "source": [
    "## Features Scaling"
   ]
  },
  {
   "cell_type": "markdown",
   "metadata": {
    "deletable": true,
    "editable": true
   },
   "source": [
    "There are features in the dataset with big differences in scaling. For example *salary* appears with values between 0 and 2.5 millions while *from_this_person_to_poi_p* takes values in the range [0,1). Some of the algorithms we will evaluate may behave badly because of these differences so we need to scale them.  \n",
    "\n",
    "Having sparse data it is better to use ```MaxAbsScaler()``` for this transformation."
   ]
  },
  {
   "cell_type": "code",
   "execution_count": 30,
   "metadata": {
    "collapsed": false,
    "deletable": true,
    "editable": true
   },
   "outputs": [
    {
     "data": {
      "image/png": "[encoded data removed]",
      "text/plain": [
       "<matplotlib.figure.Figure at 0x7f2050397e10>"
      ]
     },
     "metadata": {},
     "output_type": "display_data"
    },
    {
     "data": {
      "text/plain": [
       "Pipeline(steps=[('scale', MaxAbsScaler(copy=True)), ('reduce_dim', SelectKBest(k=7, score_func=<function f_classif at 0x7f2059e582f0>)), ('classify', LinearSVC(C=1.0, class_weight=None, dual=True, fit_intercept=True,\n",
       "     intercept_scaling=1, loss='squared_hinge', max_iter=1000,\n",
       "     multi_class='ovr', penalty='l2', random_state=42, tol=0.0001,\n",
       "     verbose=0))])"
      ]
     },
     "execution_count": 30,
     "metadata": {},
     "output_type": "execute_result"
    }
   ],
   "source": [
    "#warnings.filterwarnings('ignore')\n",
    "\n",
    "pipe = Pipeline([('scale', MaxAbsScaler()),\n",
    "                 ('reduce_dim', PCA(random_state=42)),\n",
    "                 ('classify', LinearSVC(random_state=42))])\n",
    "\n",
    "N_FEATURES_OPTIONS = list(range(2, 21))\n",
    "\n",
    "param_grid = [\n",
    "    {\n",
    "        'reduce_dim': [PCA(random_state=42)],\n",
    "        'reduce_dim__n_components': N_FEATURES_OPTIONS,\n",
    "    },\n",
    "    {\n",
    "        'reduce_dim': [SelectKBest()],\n",
    "        'reduce_dim__k': N_FEATURES_OPTIONS,\n",
    "    },\n",
    "]\n",
    "reducer_labels = ['PCA', 'KBest']\n",
    "cv = StratifiedShuffleSplit(random_state=42)\n",
    "grid = GridSearchCV(\n",
    "    pipe, param_grid=param_grid, cv=cv, scoring='f1', n_jobs=-1)\n",
    "\n",
    "grid.fit(X, y)\n",
    "\n",
    "mean_scores = np.array(grid.cv_results_['mean_test_score'])\n",
    "mean_scores = mean_scores.reshape(-1, len(N_FEATURES_OPTIONS))\n",
    "bar_offsets = (np.arange(len(N_FEATURES_OPTIONS)) *\n",
    "               (len(reducer_labels) + 1) + .5)\n",
    "plt.figure(figsize=(12,9))\n",
    "\n",
    "for i, (label, reducer_scores) in enumerate(zip(reducer_labels, mean_scores)):\n",
    "    plt.bar(bar_offsets + i, reducer_scores, label=label)\n",
    "\n",
    "plt.title(\"Comparing feature reduction techniques\")\n",
    "plt.xlabel('Reduced number of features')\n",
    "plt.xticks(bar_offsets + len(reducer_labels) / 2, N_FEATURES_OPTIONS)\n",
    "plt.ylabel('Classification accuracy')\n",
    "plt.ylim((0, 0.4))\n",
    "plt.legend(loc='upper left')\n",
    "\n",
    "plt.show()\n",
    "grid.best_estimator_"
   ]
  },
  {
   "cell_type": "code",
   "execution_count": 31,
   "metadata": {
    "collapsed": false,
    "deletable": true,
    "editable": true,
    "run_control": {
     "marked": true
    }
   },
   "outputs": [
    {
     "name": "stdout",
     "output_type": "stream",
     "text": [
      "Pipeline(steps=[('scale', MaxAbsScaler(copy=True)), ('reduce_dim', SelectKBest(k=7, score_func=<function f_classif at 0x7f2059e582f0>)), ('classify', LinearSVC(C=1.0, class_weight=None, dual=True, fit_intercept=True,\n",
      "     intercept_scaling=1, loss='squared_hinge', max_iter=1000,\n",
      "     multi_class='ovr', penalty='l2', random_state=42, tol=0.0001,\n",
      "     verbose=0))])\n",
      "\tAccuracy: 0.87140\tPrecision: 0.55868\tRecall: 0.16900\tF1: 0.25950\tF2: 0.19640\n",
      "\tTotal predictions: 15000\tTrue positives:  338\tFalse positives:  267\tFalse negatives: 1662\tTrue negatives: 12733\n",
      "\n"
     ]
    }
   ],
   "source": [
    "features = data_df.columns.tolist()\n",
    "data = data_df.to_dict(orient='index')\n",
    "test_classifier(grid.best_estimator_, data, features)"
   ]
  },
  {
   "cell_type": "markdown",
   "metadata": {
    "deletable": true,
    "editable": true
   },
   "source": [
    "This is a quite interesting result. After scaling, model's Precision doubled but Recall fell lower than half, giving the model lower f1 score than before. I'll edit the pipeline to add the option of no-scaling and also the StandardScaler which is a more frequently used option but not very good for sparse data."
   ]
  },
  {
   "cell_type": "code",
   "execution_count": 32,
   "metadata": {
    "collapsed": false,
    "deletable": true,
    "editable": true
   },
   "outputs": [
    {
     "data": {
      "text/plain": [
       "Pipeline(steps=[('scale', None), ('reduce_dim', SelectKBest(k=7, score_func=<function f_classif at 0x7f2059e582f0>)), ('classify', LinearSVC(C=1.0, class_weight=None, dual=True, fit_intercept=True,\n",
       "     intercept_scaling=1, loss='squared_hinge', max_iter=1000,\n",
       "     multi_class='ovr', penalty='l2', random_state=42, tol=0.0001,\n",
       "     verbose=0))])"
      ]
     },
     "execution_count": 32,
     "metadata": {},
     "output_type": "execute_result"
    }
   ],
   "source": [
    "pipe = Pipeline([('scale', MaxAbsScaler()),\n",
    "                 ('reduce_dim', PCA(random_state=42)),\n",
    "                 ('classify', LinearSVC(random_state=42))])\n",
    "\n",
    "N_FEATURES_OPTIONS = list(range(2, 21))\n",
    "\n",
    "param_grid = [\n",
    "    {\n",
    "        'scale':[None, MaxAbsScaler(), StandardScaler()],\n",
    "        'reduce_dim': [PCA(random_state=42)],\n",
    "        'reduce_dim__n_components': N_FEATURES_OPTIONS,\n",
    "    },\n",
    "    {\n",
    "        'scale':[None, MaxAbsScaler(), StandardScaler()],\n",
    "        'reduce_dim': [SelectKBest()],\n",
    "        'reduce_dim__k': N_FEATURES_OPTIONS,\n",
    "    },\n",
    "]\n",
    "reducer_labels = ['PCA', 'KBest']\n",
    "cv = StratifiedShuffleSplit(random_state=42)\n",
    "grid = GridSearchCV(\n",
    "    pipe, param_grid=param_grid, cv=cv, scoring='f1', n_jobs=-1)\n",
    "\n",
    "grid.fit(X, y)\n",
    "grid.best_estimator_"
   ]
  },
  {
   "cell_type": "markdown",
   "metadata": {
    "collapsed": false,
    "deletable": true,
    "editable": true,
    "run_control": {
     "marked": true
    }
   },
   "source": [
    "It's now clear that LinearSVC performs better without scaling but I will keep the scaling options in the pipeline because other algorithms may have different behaviour."
   ]
  },
  {
   "cell_type": "markdown",
   "metadata": {
    "deletable": true,
    "editable": true
   },
   "source": [
    "# Algorithm Selection and Tuning"
   ]
  },
  {
   "cell_type": "markdown",
   "metadata": {
    "deletable": true,
    "editable": true
   },
   "source": [
    "Having finished with the preprocessing of the dataset I will begin evaluating the performance of suitable algorithms. First I will evaluate different algorithms' families by using their most usual member with some generalized attributes and once I conclude with the family I will evaluate different members."
   ]
  },
  {
   "cell_type": "markdown",
   "metadata": {
    "deletable": true,
    "editable": true
   },
   "source": [
    "## Algorithm Family Selection"
   ]
  },
  {
   "cell_type": "markdown",
   "metadata": {
    "deletable": true,
    "editable": true
   },
   "source": [
    "### Support Vector Machine"
   ]
  },
  {
   "cell_type": "markdown",
   "metadata": {
    "cell_style": "center",
    "deletable": true,
    "editable": true
   },
   "source": [
    "From Support Vector Machines, I will evaluate Support Vector Classifier with the default kernel (RBF) and Penalty Parameters 0.1, 1, 10"
   ]
  },
  {
   "cell_type": "code",
   "execution_count": 33,
   "metadata": {
    "collapsed": false,
    "deletable": true,
    "editable": true
   },
   "outputs": [
    {
     "name": "stdout",
     "output_type": "stream",
     "text": [
      "Pipeline(steps=[('scale', MaxAbsScaler(copy=True)), ('reduce_dim', SelectKBest(k=3, score_func=<function f_classif at 0x7f2059e582f0>)), ('classify', SVC(C=1, cache_size=200, class_weight=None, coef0=0.0,\n",
      "  decision_function_shape=None, degree=3, gamma='auto', kernel='rbf',\n",
      "  max_iter=-1, probability=False, random_state=42, shrinking=True,\n",
      "  tol=0.001, verbose=False))])\n"
     ]
    }
   ],
   "source": [
    "#warnings.filterwarnings('ignore')\n",
    "\n",
    "pipe = Pipeline([('scale', MaxAbsScaler()),\n",
    "                 ('reduce_dim', PCA(random_state=42)),\n",
    "                 ('classify', SVC(random_state=42))])\n",
    "\n",
    "N_FEATURES_OPTIONS = list(range(2, 10))\n",
    "C_VALUES = [0.1, 1, 10]\n",
    "\n",
    "\n",
    "param_grid = [\n",
    "    {\n",
    "        'scale':[None, MaxAbsScaler()],\n",
    "        'reduce_dim': [PCA(random_state=42)],\n",
    "        'reduce_dim__n_components': N_FEATURES_OPTIONS,\n",
    "        'classify__C': C_VALUES\n",
    "    },\n",
    "    {\n",
    "        'scale':[None, MaxAbsScaler()],\n",
    "        'reduce_dim': [SelectKBest()],\n",
    "        'reduce_dim__k': N_FEATURES_OPTIONS,\n",
    "        'classify__C': C_VALUES\n",
    "    },\n",
    "]\n",
    "\n",
    "cv = StratifiedShuffleSplit(random_state=42)\n",
    "grid = GridSearchCV(\n",
    "    pipe, param_grid=param_grid, cv=cv, scoring='f1', n_jobs=-1)\n",
    "\n",
    "grid.fit(X, y)\n",
    "\n",
    "print(grid.best_estimator_)"
   ]
  },
  {
   "cell_type": "code",
   "execution_count": 34,
   "metadata": {
    "collapsed": false,
    "deletable": true,
    "editable": true
   },
   "outputs": [
    {
     "name": "stdout",
     "output_type": "stream",
     "text": [
      "Pipeline(steps=[('scale', MaxAbsScaler(copy=True)), ('reduce_dim', SelectKBest(k=3, score_func=<function f_classif at 0x7f2059e582f0>)), ('classify', SVC(C=1, cache_size=200, class_weight=None, coef0=0.0,\n",
      "  decision_function_shape=None, degree=3, gamma='auto', kernel='rbf',\n",
      "  max_iter=-1, probability=False, random_state=42, shrinking=True,\n",
      "  tol=0.001, verbose=False))])\n",
      "\tAccuracy: 0.86927\tPrecision: 0.88235\tRecall: 0.02250\tF1: 0.04388\tF2: 0.02795\n",
      "\tTotal predictions: 15000\tTrue positives:   45\tFalse positives:    6\tFalse negatives: 1955\tTrue negatives: 12994\n",
      "\n"
     ]
    }
   ],
   "source": [
    "test_classifier(grid.best_estimator_, data, features)"
   ]
  },
  {
   "cell_type": "markdown",
   "metadata": {
    "deletable": true,
    "editable": true
   },
   "source": [
    "Support Vector Machines gave as the highest Precision so far but in the same time the worst Recall achieving an F1 score of 0.05405"
   ]
  },
  {
   "cell_type": "code",
   "execution_count": 35,
   "metadata": {
    "collapsed": false,
    "deletable": true,
    "editable": true
   },
   "outputs": [
    {
     "data": {
      "image/png": "[encoded data removed]",
      "text/plain": [
       "<matplotlib.figure.Figure at 0x7f2050247be0>"
      ]
     },
     "metadata": {},
     "output_type": "display_data"
    }
   ],
   "source": [
    "h = .001  #step size in the mesh\n",
    "\n",
    "cmap_light = ListedColormap(['#FFAAAA', '#AAFFAA', '#AAAAFF'])\n",
    "cmap_bold = ListedColormap(['#FF0000', '#00FF00', '#0000FF'])\n",
    "\n",
    "scale = MaxAbsScaler()\n",
    "X_trans = scale.fit_transform(X)\n",
    "select = SelectKBest(k=2)\n",
    "X_trans = select.fit_transform(X_trans, y)\n",
    "y_trans = y.values\n",
    "\n",
    "clf = SVC(C=1,\n",
    "          cache_size=200,\n",
    "          class_weight=None,\n",
    "          coef0=0.0,\n",
    "          decision_function_shape=None,\n",
    "          degree=3,\n",
    "          gamma='auto',\n",
    "          kernel='rbf',\n",
    "          max_iter=-1,\n",
    "          probability=False,\n",
    "          random_state=42,\n",
    "          shrinking=True,\n",
    "          tol=0.001,\n",
    "          verbose=False)\n",
    "clf.fit(X_trans, y_trans)\n",
    "\n",
    "# Plot the decision boundary. For that, we will assign a color to each\n",
    "# point in the mesh [x_min, x_max]x[y_min, y_max].\n",
    "x_min, x_max = X_trans[:, 0].min() - 0.1, X_trans[:, 0].max() + 0.1\n",
    "y_min, y_max = X_trans[:, 1].min() - 0.1, X_trans[:, 1].max() + 0.1\n",
    "xx, yy = np.meshgrid(np.arange(x_min, x_max, h), np.arange(y_min, y_max, h))\n",
    "\n",
    "Z = clf.predict(np.c_[xx.ravel(), yy.ravel()])\n",
    "Z = Z.reshape(xx.shape)\n",
    "plt.pcolormesh(xx, yy, Z, cmap=cmap_light)\n",
    "\n",
    "# Plot the training points\n",
    "plt.scatter(X_trans[:, 0], X_trans[:, 1], c=y, cmap=cmap_bold, alpha=0.3)\n",
    "\n",
    "# Legend Data\n",
    "classes = ['POI','Non-POI']\n",
    "class_colours = ['#0000FF', '#FF0000']\n",
    "recs = []\n",
    "for i in range(0,len(class_colours)):\n",
    "    recs.append(mpatches.Rectangle((0,0),1,1,fc=class_colours[i]))\n",
    "\n",
    "# Plot Legend ('loc' == position):\n",
    "plt.legend(recs,classes,loc=4)\n",
    "plt.title(\"Support Vectors Classifier with RBF kernel\")\n",
    "plt.xlabel(X.columns[select.get_support()][0])\n",
    "plt.ylabel(X.columns[select.get_support()][1])\n",
    "\n",
    "plt.show()"
   ]
  },
  {
   "cell_type": "markdown",
   "metadata": {
    "deletable": true,
    "editable": true
   },
   "source": [
    "### Nearest Neighbors"
   ]
  },
  {
   "cell_type": "markdown",
   "metadata": {
    "deletable": true,
    "editable": true
   },
   "source": [
    "From the Nearest Neighbors family, I will evaluate *KNeighborsClassifier*. Since this algorithm is very fast, I'm able to evaluate several parameters."
   ]
  },
  {
   "cell_type": "code",
   "execution_count": 36,
   "metadata": {
    "collapsed": false,
    "deletable": true,
    "editable": true
   },
   "outputs": [
    {
     "name": "stdout",
     "output_type": "stream",
     "text": [
      "Pipeline(steps=[('scale', None), ('reduce_dim', SelectKBest(k=5, score_func=<function f_classif at 0x7f2059e582f0>)), ('classify', KNeighborsClassifier(algorithm='auto', leaf_size=30, metric='minkowski',\n",
      "           metric_params=None, n_jobs=1, n_neighbors=1, p=2,\n",
      "           weights='uniform'))])\n"
     ]
    }
   ],
   "source": [
    "#warnings.filterwarnings('ignore')\n",
    "\n",
    "pipe = Pipeline([('scale', MaxAbsScaler()),\n",
    "                 ('reduce_dim', PCA(random_state=42)),\n",
    "                 ('classify', KNeighborsClassifier())])\n",
    "\n",
    "N_FEATURES_OPTIONS = list(range(2, 21))\n",
    "N_NEIGHBORS = [1, 3, 5]\n",
    "\n",
    "param_grid = [\n",
    "    {\n",
    "        'scale': [None, MaxAbsScaler()],\n",
    "        'reduce_dim': [PCA(random_state=42)],\n",
    "        'reduce_dim__n_components': N_FEATURES_OPTIONS,\n",
    "        'classify__weights': [\"uniform\", \"distance\"],\n",
    "        'classify__n_neighbors': N_NEIGHBORS,\n",
    "        'classify__p':[1, 2]\n",
    "    },\n",
    "    {\n",
    "        'scale': [None, MaxAbsScaler()],\n",
    "        'reduce_dim': [SelectKBest()],\n",
    "        'reduce_dim__k': N_FEATURES_OPTIONS,\n",
    "        'classify__weights': [\"uniform\", \"distance\"],\n",
    "        'classify__n_neighbors': N_NEIGHBORS,\n",
    "        'classify__p':[1, 2]\n",
    "    },\n",
    "]\n",
    "\n",
    "cv = StratifiedShuffleSplit(random_state=42)\n",
    "grid = GridSearchCV(\n",
    "    pipe, param_grid=param_grid, cv=cv, scoring='f1', n_jobs=-1)\n",
    "\n",
    "grid.fit(X, y)\n",
    "\n",
    "\n",
    "print(grid.best_estimator_)"
   ]
  },
  {
   "cell_type": "code",
   "execution_count": 37,
   "metadata": {
    "collapsed": false,
    "deletable": true,
    "editable": true
   },
   "outputs": [
    {
     "name": "stdout",
     "output_type": "stream",
     "text": [
      "Pipeline(steps=[('scale', None), ('reduce_dim', SelectKBest(k=5, score_func=<function f_classif at 0x7f2059e582f0>)), ('classify', KNeighborsClassifier(algorithm='auto', leaf_size=30, metric='minkowski',\n",
      "           metric_params=None, n_jobs=1, n_neighbors=1, p=2,\n",
      "           weights='uniform'))])\n",
      "\tAccuracy: 0.85193\tPrecision: 0.43233\tRecall: 0.35300\tF1: 0.38866\tF2: 0.36645\n",
      "\tTotal predictions: 15000\tTrue positives:  706\tFalse positives:  927\tFalse negatives: 1294\tTrue negatives: 12073\n",
      "\n"
     ]
    }
   ],
   "source": [
    "features = data_df.columns.tolist()\n",
    "data = data_df.to_dict(orient='index')\n",
    "test_classifier(grid.best_estimator_, data, features)"
   ]
  },
  {
   "cell_type": "markdown",
   "metadata": {
    "deletable": true,
    "editable": true
   },
   "source": [
    "*KNeighborsClassifier* so far has the most balanced result across Precision and Recall. It has the best F1 score so far."
   ]
  },
  {
   "cell_type": "markdown",
   "metadata": {
    "deletable": true,
    "editable": true
   },
   "source": [
    "### Ensemble Methods"
   ]
  },
  {
   "cell_type": "markdown",
   "metadata": {
    "deletable": true,
    "editable": true
   },
   "source": [
    "In the Ensemble Methods, I will evaluate both Random Forest from the Averaging subcategory and AdaBoost from Boosting Methods.  \n",
    "Both classifiers are based on recursive partitioning, so they do not require features to be normalized or scaled, since it is invariant to monotonic transformations of the features, thus we can remove the scaling from the pipeline."
   ]
  },
  {
   "cell_type": "markdown",
   "metadata": {
    "deletable": true,
    "editable": true
   },
   "source": [
    "#### Averaging Methods"
   ]
  },
  {
   "cell_type": "code",
   "execution_count": 38,
   "metadata": {
    "collapsed": false,
    "deletable": true,
    "editable": true
   },
   "outputs": [
    {
     "name": "stdout",
     "output_type": "stream",
     "text": [
      "Pipeline(steps=[('reduce_dim', SelectKBest(k=15, score_func=<function f_classif at 0x7f2059e582f0>)), ('classify', RandomForestClassifier(bootstrap=True, class_weight=None, criterion='entropy',\n",
      "            max_depth=None, max_features='auto', max_leaf_nodes=None,\n",
      "            min_impurity_split=1e-07, min_samples_leaf=1,\n",
      "            min_samples_split=2, min_weight_fraction_leaf=0.0,\n",
      "            n_estimators=1, n_jobs=1, oob_score=False, random_state=42,\n",
      "            verbose=0, warm_start=False))])\n"
     ]
    }
   ],
   "source": [
    "#warnings.filterwarnings('ignore')\n",
    "\n",
    "pipe = Pipeline([('reduce_dim', PCA(random_state=42)),\n",
    "                 ('classify',  RandomForestClassifier(random_state=42))])\n",
    "\n",
    "N_FEATURES_OPTIONS = list(range(2, 21))\n",
    "N_TREES = [1, 2, 3]\n",
    "\n",
    "param_grid = [\n",
    "    {\n",
    "        'reduce_dim': [PCA(random_state=42)],\n",
    "        'reduce_dim__n_components': N_FEATURES_OPTIONS,\n",
    "        'classify__n_estimators': N_TREES,\n",
    "        'classify__criterion': [\"gini\", \"entropy\"]\n",
    "    },\n",
    "    {\n",
    "        'reduce_dim': [SelectKBest()],\n",
    "        'reduce_dim__k': N_FEATURES_OPTIONS,\n",
    "        'classify__n_estimators': N_TREES,\n",
    "        'classify__criterion': [\"gini\", \"entropy\"]\n",
    "    },\n",
    "]\n",
    "\n",
    "cv = StratifiedShuffleSplit(random_state=42)\n",
    "grid = GridSearchCV(\n",
    "    pipe, param_grid=param_grid, cv=cv, scoring='f1', n_jobs=-1)\n",
    "\n",
    "grid.fit(X, y)\n",
    "\n",
    "\n",
    "print(grid.best_estimator_)"
   ]
  },
  {
   "cell_type": "code",
   "execution_count": 39,
   "metadata": {
    "collapsed": false,
    "deletable": true,
    "editable": true
   },
   "outputs": [
    {
     "name": "stdout",
     "output_type": "stream",
     "text": [
      "Pipeline(steps=[('reduce_dim', SelectKBest(k=15, score_func=<function f_classif at 0x7f2059e582f0>)), ('classify', RandomForestClassifier(bootstrap=True, class_weight=None, criterion='entropy',\n",
      "            max_depth=None, max_features='auto', max_leaf_nodes=None,\n",
      "            min_impurity_split=1e-07, min_samples_leaf=1,\n",
      "            min_samples_split=2, min_weight_fraction_leaf=0.0,\n",
      "            n_estimators=1, n_jobs=1, oob_score=False, random_state=42,\n",
      "            verbose=0, warm_start=False))])\n",
      "\tAccuracy: 0.83293\tPrecision: 0.36427\tRecall: 0.33950\tF1: 0.35145\tF2: 0.34418\n",
      "\tTotal predictions: 15000\tTrue positives:  679\tFalse positives: 1185\tFalse negatives: 1321\tTrue negatives: 11815\n",
      "\n"
     ]
    }
   ],
   "source": [
    "features = data_df.columns.tolist()\n",
    "data = data_df.to_dict(orient='index')\n",
    "test_classifier(grid.best_estimator_, data, features)"
   ]
  },
  {
   "cell_type": "markdown",
   "metadata": {
    "deletable": true,
    "editable": true
   },
   "source": [
    "Random Forest has also a balanced behavior but the scores are significantly lower comparing to Nearest Neighbor."
   ]
  },
  {
   "cell_type": "markdown",
   "metadata": {
    "deletable": true,
    "editable": true
   },
   "source": [
    "#### Boosting methods"
   ]
  },
  {
   "cell_type": "code",
   "execution_count": 40,
   "metadata": {
    "collapsed": false,
    "deletable": true,
    "editable": true
   },
   "outputs": [
    {
     "name": "stdout",
     "output_type": "stream",
     "text": [
      "Pipeline(steps=[('reduce_dim', SelectKBest(k=14, score_func=<function f_classif at 0x7f2059e582f0>)), ('classify', AdaBoostClassifier(algorithm='SAMME.R', base_estimator=None,\n",
      "          learning_rate=1.0, n_estimators=10, random_state=42))])\n"
     ]
    }
   ],
   "source": [
    "#warnings.filterwarnings('ignore')\n",
    "\n",
    "pipe = Pipeline([('reduce_dim', PCA(random_state=42)),\n",
    "                 ('classify',  AdaBoostClassifier(random_state=42))])\n",
    "\n",
    "N_FEATURES_OPTIONS = list(range(2, 21))\n",
    "N_ESTIMATORS = [1, 10, 100]\n",
    "\n",
    "param_grid = [\n",
    "    {\n",
    "        'reduce_dim': [PCA(random_state=42)],\n",
    "        'reduce_dim__n_components': N_FEATURES_OPTIONS,\n",
    "        'classify__n_estimators': N_ESTIMATORS,\n",
    "        'classify__algorithm': ['SAMME', 'SAMME.R']\n",
    "    },\n",
    "    {\n",
    "        'reduce_dim': [SelectKBest()],\n",
    "        'reduce_dim__k': N_FEATURES_OPTIONS,\n",
    "        'classify__n_estimators': N_ESTIMATORS,\n",
    "        'classify__algorithm': ['SAMME', 'SAMME.R']\n",
    "    },\n",
    "]\n",
    "\n",
    "cv = StratifiedShuffleSplit(random_state=42)\n",
    "grid = GridSearchCV(\n",
    "    pipe, param_grid=param_grid, cv=cv, scoring='f1', n_jobs=-1)\n",
    "\n",
    "grid.fit(X, y)\n",
    "\n",
    "\n",
    "print(grid.best_estimator_)"
   ]
  },
  {
   "cell_type": "code",
   "execution_count": 41,
   "metadata": {
    "collapsed": false,
    "deletable": true,
    "editable": true
   },
   "outputs": [
    {
     "name": "stdout",
     "output_type": "stream",
     "text": [
      "Pipeline(steps=[('reduce_dim', SelectKBest(k=14, score_func=<function f_classif at 0x7f2059e582f0>)), ('classify', AdaBoostClassifier(algorithm='SAMME.R', base_estimator=None,\n",
      "          learning_rate=1.0, n_estimators=10, random_state=42))])\n",
      "\tAccuracy: 0.84893\tPrecision: 0.40404\tRecall: 0.28000\tF1: 0.33077\tF2: 0.29832\n",
      "\tTotal predictions: 15000\tTrue positives:  560\tFalse positives:  826\tFalse negatives: 1440\tTrue negatives: 12174\n",
      "\n"
     ]
    }
   ],
   "source": [
    "features = data_df.columns.tolist()\n",
    "data = data_df.to_dict(orient='index')\n",
    "test_classifier(grid.best_estimator_, data, features)"
   ]
  },
  {
   "cell_type": "markdown",
   "metadata": {
    "deletable": true,
    "editable": true
   },
   "source": [
    "AdaBoost performed a little better than Random Forest but still the difference with Nearest Neighbor is quite strong. It seems like a safe conclusion that the best classifiers family for the specific problem is Nearest Neighbor."
   ]
  },
  {
   "cell_type": "markdown",
   "metadata": {
    "deletable": true,
    "editable": true
   },
   "source": [
    "## Algorithm Selection"
   ]
  },
  {
   "cell_type": "markdown",
   "metadata": {
    "deletable": true,
    "editable": true
   },
   "source": [
    "### K-Nearest Neighbor"
   ]
  },
  {
   "cell_type": "markdown",
   "metadata": {
    "deletable": true,
    "editable": true
   },
   "source": [
    "We have already evaluated K-Nearest Neighbor and we have the following results:  \n",
    "```Accuracy: 0.85747\tPrecision: 0.45751\tRecall: 0.37150\tF1: 0.41004\tF2: 0.38601\n",
    "\tTotal predictions: 15000\tTrue positives:  743\tFalse positives:  881\tFalse negatives: 1257\tTrue negatives: 12119```"
   ]
  },
  {
   "cell_type": "markdown",
   "metadata": {
    "deletable": true,
    "editable": true
   },
   "source": [
    "### Nearest Centroid Classifier"
   ]
  },
  {
   "cell_type": "code",
   "execution_count": 42,
   "metadata": {
    "collapsed": false,
    "deletable": true,
    "editable": true
   },
   "outputs": [
    {
     "data": {
      "text/plain": [
       "Pipeline(steps=[('scale', MaxAbsScaler(copy=True)), ('reduce_dim', PCA(copy=True, iterated_power='auto', n_components=2, random_state=42,\n",
       "  svd_solver='auto', tol=0.0, whiten=False)), ('classify', NearestCentroid(metric='manhattan', shrink_threshold=None))])"
      ]
     },
     "execution_count": 42,
     "metadata": {},
     "output_type": "execute_result"
    }
   ],
   "source": [
    "#warnings.filterwarnings('ignore')\n",
    "\n",
    "pipe = Pipeline([('scale', MaxAbsScaler()),\n",
    "                 ('reduce_dim', PCA(random_state=42)),\n",
    "                 ('classify', NearestCentroid())])\n",
    "\n",
    "N_FEATURES_OPTIONS = list(range(2, 5))\n",
    "\n",
    "param_grid = [\n",
    "    {\n",
    "        'scale': [None, MaxAbsScaler()],\n",
    "        'reduce_dim': [PCA(random_state=42)],\n",
    "        'reduce_dim__n_components': N_FEATURES_OPTIONS,\n",
    "        'classify__metric': [\"euclidean\", \"manhattan\"],\n",
    "        'classify__shrink_threshold': [None, 0.1, 1, 10]\n",
    "    },\n",
    "    {\n",
    "        'scale': [None, MaxAbsScaler()],\n",
    "        'reduce_dim': [SelectKBest()],\n",
    "        'reduce_dim__k': N_FEATURES_OPTIONS,\n",
    "        'classify__metric': [\"euclidean\", \"manhattan\"],\n",
    "        'classify__shrink_threshold': [None, 0.1, 1, 10]\n",
    "    },\n",
    "]\n",
    "\n",
    "cv = StratifiedShuffleSplit(random_state=42)\n",
    "grid = GridSearchCV(\n",
    "    pipe, param_grid=param_grid, cv=cv, scoring='f1', n_jobs=-1)\n",
    "\n",
    "grid.fit(X, y)\n",
    "\n",
    "my_classifier = grid.best_estimator_\n",
    "my_classifier"
   ]
  },
  {
   "cell_type": "code",
   "execution_count": 43,
   "metadata": {
    "collapsed": false,
    "deletable": true,
    "editable": true
   },
   "outputs": [
    {
     "name": "stdout",
     "output_type": "stream",
     "text": [
      "Pipeline(steps=[('scale', MaxAbsScaler(copy=True)), ('reduce_dim', PCA(copy=True, iterated_power='auto', n_components=2, random_state=42,\n",
      "  svd_solver='auto', tol=0.0, whiten=False)), ('classify', NearestCentroid(metric='manhattan', shrink_threshold=None))])\n",
      "\tAccuracy: 0.73833\tPrecision: 0.30975\tRecall: 0.78350\tF1: 0.44397\tF2: 0.59997\n",
      "\tTotal predictions: 15000\tTrue positives: 1567\tFalse positives: 3492\tFalse negatives:  433\tTrue negatives: 9508\n",
      "\n"
     ]
    }
   ],
   "source": [
    "features = data_df.columns.tolist()\n",
    "data = data_df.to_dict(orient='index')\n",
    "test_classifier(my_classifier, data, features)"
   ]
  },
  {
   "cell_type": "code",
   "execution_count": 44,
   "metadata": {
    "collapsed": false,
    "deletable": true,
    "editable": true
   },
   "outputs": [
    {
     "data": {
      "image/png": "[encoded data removed]",
      "text/plain": [
       "<matplotlib.figure.Figure at 0x7f204dddd8d0>"
      ]
     },
     "metadata": {},
     "output_type": "display_data"
    }
   ],
   "source": [
    "h = .02  #step size in the mesh\n",
    "\n",
    "cmap_light = ListedColormap(['#FFAAAA', '#AAFFAA', '#AAAAFF'])\n",
    "cmap_bold = ListedColormap(['#FF0000', '#00FF00', '#0000FF'])\n",
    "\n",
    "scale = MaxAbsScaler()\n",
    "X_trans = scale.fit_transform(X)\n",
    "pca = PCA(copy=True,\n",
    "          iterated_power='auto',\n",
    "          n_components=2,\n",
    "          random_state=42,\n",
    "          svd_solver='auto',\n",
    "          tol=0.0,\n",
    "          whiten=False)\n",
    "X_trans = pca.fit_transform(X_trans)\n",
    "y_trans = y.values\n",
    "\n",
    "clf = NearestCentroid(metric='manhattan', shrink_threshold=None)\n",
    "clf.fit(X_trans, y_trans)\n",
    "\n",
    "# Plot the decision boundary. For that, we will assign a color to each\n",
    "# point in the mesh [x_min, x_max]x[y_min, y_max].\n",
    "x_min, x_max = X_trans[:, 0].min() - 0.1, X_trans[:, 0].max() + 0.1\n",
    "y_min, y_max = X_trans[:, 1].min() - 0.1, X_trans[:, 1].max() + 0.1\n",
    "xx, yy = np.meshgrid(np.arange(x_min, x_max, h), np.arange(y_min, y_max, h))\n",
    "\n",
    "Z = clf.predict(np.c_[xx.ravel(), yy.ravel()])\n",
    "Z = Z.reshape(xx.shape)\n",
    "plt.figure()\n",
    "plt.pcolormesh(xx, yy, Z, cmap=cmap_light)\n",
    "\n",
    "# Plot the training points\n",
    "plt.scatter(X_trans[:, 0], X_trans[:, 1], c=y_trans, cmap=cmap_bold, alpha=0.3)\n",
    "\n",
    "# Legend Data\n",
    "classes = ['POI','Non-POI']\n",
    "class_colours = ['#0000FF', '#FF0000']\n",
    "recs = []\n",
    "for i in range(0,len(class_colours)):\n",
    "    recs.append(mpatches.Rectangle((0,0),1,1,fc=class_colours[i]))\n",
    "\n",
    "# Plot Legend ('loc' == position):\n",
    "plt.legend(recs,classes,loc=4)\n",
    "\n",
    "plt.title(\"NearestCentroid classifier with manhattan metric\")\n",
    "plt.xlabel(\"First Principal Component\")\n",
    "plt.ylabel(\"Second Principal Component\")\n",
    "\n",
    "plt.show()"
   ]
  },
  {
   "cell_type": "markdown",
   "metadata": {
    "deletable": true,
    "editable": true
   },
   "source": [
    "Nearest Centroid Classifier achieved an even better f1 score (0.44) with an average Precision and an excellent Recall."
   ]
  },
  {
   "cell_type": "markdown",
   "metadata": {
    "collapsed": true,
    "deletable": true,
    "editable": true
   },
   "source": [
    "## Algorithm Tuning"
   ]
  },
  {
   "cell_type": "markdown",
   "metadata": {
    "deletable": true,
    "editable": true
   },
   "source": [
    "Nearest Centroid Classifier is a very fast algorithm and additionally it accepts too few arguments, as a result we were able to try all the different combination during the evaluation.  \n",
    "We can conclude that the best classification of the employees to POIs can be achieved with the following steps:  \n",
    "\n",
    "|Step             |Algorithm(attributes)                                                                                           |\n",
    "|:---------------:|:--------------------------------------------------------------------------------------------------------------:|\n",
    "|Scaling          |MaxAbsScaler(copy=True)                                                                                         |\n",
    "|Feature Selection|PCA(copy=True, iterated_power='auto', n_components=2, random_state=42, svd_solver='auto', tol=0.0, whiten=False)|\n",
    "|Classification   |NearestCentroid(metric='manhattan', shrink_threshold=None)                                                      |"
   ]
  },
  {
   "cell_type": "markdown",
   "metadata": {
    "deletable": true,
    "editable": true
   },
   "source": [
    "# Project Closure"
   ]
  },
  {
   "cell_type": "markdown",
   "metadata": {
    "deletable": true,
    "editable": true
   },
   "source": [
    "## Dumping files"
   ]
  },
  {
   "cell_type": "code",
   "execution_count": 45,
   "metadata": {
    "collapsed": false,
    "deletable": true,
    "editable": true
   },
   "outputs": [],
   "source": [
    "pickle.dump(data_df.to_dict(orient='index'), open(\"my_dataset.pkl\", \"wb\"))\n",
    "pickle.dump(my_classifier, open(\"my_classifier.pkl\", \"wb\"))\n",
    "pickle.dump(features, open(\"my_feature_list.pkl\", \"wb\"))"
   ]
  },
  {
   "cell_type": "markdown",
   "metadata": {
    "deletable": true,
    "editable": true
   },
   "source": [
    "# Future Improvements"
   ]
  },
  {
   "cell_type": "markdown",
   "metadata": {
    "deletable": true,
    "editable": true
   },
   "source": [
    "There are at least two improvements I could have done to the Project.  \n",
    "\n",
    "The first one is a tweak in the classification algorithm.  \n",
    "We noticed in the scatterplot between Total Stock Value vs Total Payments, that none of the persons who had zero Salary or zero Stocks was a POI."
   ]
  },
  {
   "cell_type": "code",
   "execution_count": 46,
   "metadata": {
    "collapsed": false,
    "deletable": true,
    "editable": true,
    "hide_input": true
   },
   "outputs": [
    {
     "data": {
      "image/png": "[encoded data removed]",
      "text/plain": [
       "<matplotlib.figure.Figure at 0x7f20503a22b0>"
      ]
     },
     "execution_count": 46,
     "metadata": {},
     "output_type": "execute_result"
    }
   ],
   "source": [
    "fig1"
   ]
  },
  {
   "cell_type": "markdown",
   "metadata": {
    "deletable": true,
    "editable": true,
    "variables": {
     "146-81": "65"
    }
   },
   "source": [
    "Actually, this is so sensible that we could say that it is always true and thus create a rule out of this. If you consider that the persons fall under this category are {{146-81}} out of 146, we could improve the performance of our classification up to:"
   ]
  },
  {
   "cell_type": "code",
   "execution_count": 47,
   "metadata": {
    "collapsed": false,
    "deletable": true,
    "editable": true
   },
   "outputs": [
    {
     "data": {
      "text/plain": [
       "0.6893150684931507"
      ]
     },
     "execution_count": 47,
     "metadata": {},
     "output_type": "execute_result"
    }
   ],
   "source": [
    "((65*1)+(81*0.44))/(65+81)"
   ]
  },
  {
   "cell_type": "markdown",
   "metadata": {
    "deletable": true,
    "editable": true
   },
   "source": [
    "(*of course this score isn't exact because the algorithm selection and evaluation process should be followed again with the dataset without the zero Payments / Stocks employees*)"
   ]
  },
  {
   "cell_type": "markdown",
   "metadata": {
    "deletable": true,
    "editable": true
   },
   "source": [
    "So, I'm leaving for a future improvement the creation of a custom classifier that would classify as non-POI every employee with zero Payments or Stocks and by using a machine learning algorithm for the rest.\n",
    "***\n",
    "The second one is the usage of the content of the emails on the classification. Currently, I just used aggregated values from email headers in the form of the \"emails features. Using NLP to dig into the actual content of the emails and vectorize them, may improve the classification further."
   ]
  }
 ],
 "metadata": {
  "hide_input": false,
  "kernelspec": {
   "display_name": "Python 3",
   "language": "python",
   "name": "python3"
  },
  "language_info": {
   "codemirror_mode": {
    "name": "ipython",
    "version": 3
   },
   "file_extension": ".py",
   "mimetype": "text/x-python",
   "name": "python",
   "nbconvert_exporter": "python",
   "pygments_lexer": "ipython3",
   "version": "3.6.0"
  },
  "latex_envs": {
   "LaTeX_envs_menu_present": true,
   "autocomplete": true,
   "bibliofile": "biblio.bib",
   "cite_by": "apalike",
   "current_citInitial": 1,
   "eqLabelWithNumbers": true,
   "eqNumInitial": 1,
   "hotkeys": {
    "equation": "Ctrl-E",
    "itemize": "Ctrl-I"
   },
   "labels_anchors": false,
   "latex_user_defs": false,
   "report_style_numbering": false,
   "user_envs_cfg": false
  },
  "toc": {
   "colors": {
    "hover_highlight": "#DAA520",
    "running_highlight": "#FF0000",
    "selected_highlight": "#FFD700"
   },
   "moveMenuLeft": true,
   "nav_menu": {
    "height": "81px",
    "width": "252px"
   },
   "navigate_menu": true,
   "number_sections": true,
   "sideBar": true,
   "threshold": "2",
   "toc_cell": true,
   "toc_position": {
    "height": "224px",
    "left": "0px",
    "right": "1525px",
    "top": "130px",
    "width": "330px"
   },
   "toc_section_display": "block",
   "toc_window_display": false,
   "widenNotebook": false
  }
 },
 "nbformat": 4,
 "nbformat_minor": 2
}
